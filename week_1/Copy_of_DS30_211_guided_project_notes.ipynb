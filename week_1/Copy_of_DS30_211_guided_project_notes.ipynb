{
  "nbformat": 4,
  "nbformat_minor": 0,
  "metadata": {
    "colab": {
      "name": "Copy of DS30_211_guided-project-notes.ipynb",
      "provenance": []
    },
    "kernelspec": {
      "name": "python3",
      "display_name": "Python 3"
    }
  },
  "cells": [
    {
      "cell_type": "markdown",
      "metadata": {
        "id": "De8xWqQDUAVM"
      },
      "source": [
        "# Overview\n",
        "\n",
        "1. Announcements\n",
        "2. Introduction to Unit 2\n",
        "3. Linear regression\n",
        "4. Baseline for linear regression\n",
        "5. Using scikit learn for linear regression\n",
        "6. Interpreting coefficients\n",
        "7. Discuss project module\n"
      ]
    },
    {
      "cell_type": "markdown",
      "metadata": {
        "id": "CPzo2e6aFrjx"
      },
      "source": [
        "# Lambda School Data Science - Unit 2 Sprint 1 Module 1"
      ]
    },
    {
      "cell_type": "markdown",
      "metadata": {
        "id": "2EVx8r5HLa6f"
      },
      "source": [
        "# I. Wrangle Data"
      ]
    },
    {
      "cell_type": "code",
      "metadata": {
        "id": "fC-G24aatQY9"
      },
      "source": [
        "# Importing the necessary libraries\n",
        "import pandas as pd\n",
        "import numpy as np\n",
        "import seaborn as sns\n",
        "import matplotlib.pyplot as plt"
      ],
      "execution_count": null,
      "outputs": []
    },
    {
      "cell_type": "code",
      "metadata": {
        "id": "jPBOCS8ggPwC"
      },
      "source": [
        "# This allows you to pull data from github or load from a \n",
        "# local directory depending on where you are working.\n",
        "import sys\n",
        "if 'google.colab' in sys.modules:\n",
        "  DATA_PATH = 'https://raw.githubusercontent.com/LambdaSchool/DS-Unit-2-Linear-Models/master/data/'\n",
        "else:\n",
        "  DATA_PATH = '..../data/'  #/Users/nivi/Downloads/dengue_traindata.csv"
      ],
      "execution_count": null,
      "outputs": []
    },
    {
      "cell_type": "code",
      "metadata": {
        "id": "RWYcdas3ucsc"
      },
      "source": [
        "filepath = DATA_PATH + 'condos/tribeca.csv'"
      ],
      "execution_count": null,
      "outputs": []
    },
    {
      "cell_type": "code",
      "metadata": {
        "id": "FGzepmnEuJEo"
      },
      "source": [
        "# Wrangle function that cleans up our data \n",
        "def wrangle(filepath):\n",
        "\n",
        "  # Load the csv file, convert the date column to a datetime object and set it as our index.\n",
        "  df = pd.read_csv(filepath,parse_dates=['SALE_DATE'], index_col='SALE_DATE')\n",
        "\n",
        "  # We remove columns that are constant for all the samples or those columns that \n",
        "  # have a very high cardinality\n",
        "  cols_to_remove = ['NEIGHBORHOOD','BUILDING_CLASS_CATEGORY','ADDRESS','APARTMENT_NUMBER']\n",
        "  df.drop(columns=cols_to_remove, inplace = True) # We do the inplace parameter so that the df is updated.\n",
        "\n",
        "\n",
        "  return df"
      ],
      "execution_count": null,
      "outputs": []
    },
    {
      "cell_type": "code",
      "metadata": {
        "id": "syxaPzCWqfTY"
      },
      "source": [
        "# Call the wrangle function\n",
        "df = wrangle(filepath)"
      ],
      "execution_count": null,
      "outputs": []
    },
    {
      "cell_type": "code",
      "metadata": {
        "id": "3GknUblrtoLm"
      },
      "source": [
        "df['ZIP_CODE'] = df['ZIP_CODE'].astype(int)"
      ],
      "execution_count": null,
      "outputs": []
    },
    {
      "cell_type": "code",
      "metadata": {
        "colab": {
          "base_uri": "https://localhost:8080/"
        },
        "id": "7rCgz2siraER",
        "outputId": "4f043f8b-b8e6-4e8e-9401-7801eb229b30"
      },
      "source": [
        "df.info()"
      ],
      "execution_count": null,
      "outputs": [
        {
          "output_type": "stream",
          "text": [
            "<class 'pandas.core.frame.DataFrame'>\n",
            "RangeIndex: 90 entries, 0 to 89\n",
            "Data columns (total 5 columns):\n",
            " #   Column             Non-Null Count  Dtype         \n",
            "---  ------             --------------  -----         \n",
            " 0   ZIP_CODE           90 non-null     float64       \n",
            " 1   GROSS_SQUARE_FEET  90 non-null     float64       \n",
            " 2   YEAR_BUILT         90 non-null     float64       \n",
            " 3   SALE_PRICE         90 non-null     int64         \n",
            " 4   SALE_DATE          90 non-null     datetime64[ns]\n",
            "dtypes: datetime64[ns](1), float64(3), int64(1)\n",
            "memory usage: 3.6 KB\n"
          ],
          "name": "stdout"
        }
      ]
    },
    {
      "cell_type": "code",
      "metadata": {
        "colab": {
          "base_uri": "https://localhost:8080/",
          "height": 235
        },
        "id": "thGpQRxvwync",
        "outputId": "ed773ad5-61e7-414a-a2c4-9b25a8334379"
      },
      "source": [
        "df.head()"
      ],
      "execution_count": null,
      "outputs": [
        {
          "output_type": "execute_result",
          "data": {
            "text/html": [
              "<div>\n",
              "<style scoped>\n",
              "    .dataframe tbody tr th:only-of-type {\n",
              "        vertical-align: middle;\n",
              "    }\n",
              "\n",
              "    .dataframe tbody tr th {\n",
              "        vertical-align: top;\n",
              "    }\n",
              "\n",
              "    .dataframe thead th {\n",
              "        text-align: right;\n",
              "    }\n",
              "</style>\n",
              "<table border=\"1\" class=\"dataframe\">\n",
              "  <thead>\n",
              "    <tr style=\"text-align: right;\">\n",
              "      <th></th>\n",
              "      <th>ZIP_CODE</th>\n",
              "      <th>GROSS_SQUARE_FEET</th>\n",
              "      <th>YEAR_BUILT</th>\n",
              "      <th>SALE_PRICE</th>\n",
              "    </tr>\n",
              "    <tr>\n",
              "      <th>SALE_DATE</th>\n",
              "      <th></th>\n",
              "      <th></th>\n",
              "      <th></th>\n",
              "      <th></th>\n",
              "    </tr>\n",
              "  </thead>\n",
              "  <tbody>\n",
              "    <tr>\n",
              "      <th>2019-01-03</th>\n",
              "      <td>10013</td>\n",
              "      <td>1840.0</td>\n",
              "      <td>1909.0</td>\n",
              "      <td>2800000</td>\n",
              "    </tr>\n",
              "    <tr>\n",
              "      <th>2019-01-07</th>\n",
              "      <td>10004</td>\n",
              "      <td>1759.0</td>\n",
              "      <td>0.0</td>\n",
              "      <td>2650000</td>\n",
              "    </tr>\n",
              "    <tr>\n",
              "      <th>2019-01-09</th>\n",
              "      <td>10004</td>\n",
              "      <td>1190.0</td>\n",
              "      <td>2005.0</td>\n",
              "      <td>1005000</td>\n",
              "    </tr>\n",
              "    <tr>\n",
              "      <th>2019-01-10</th>\n",
              "      <td>0</td>\n",
              "      <td>1088.0</td>\n",
              "      <td>2006.0</td>\n",
              "      <td>1678000</td>\n",
              "    </tr>\n",
              "    <tr>\n",
              "      <th>2019-01-11</th>\n",
              "      <td>10280</td>\n",
              "      <td>873.0</td>\n",
              "      <td>0.0</td>\n",
              "      <td>1380000</td>\n",
              "    </tr>\n",
              "  </tbody>\n",
              "</table>\n",
              "</div>"
            ],
            "text/plain": [
              "            ZIP_CODE  GROSS_SQUARE_FEET  YEAR_BUILT  SALE_PRICE\n",
              "SALE_DATE                                                      \n",
              "2019-01-03     10013             1840.0      1909.0     2800000\n",
              "2019-01-07     10004             1759.0         0.0     2650000\n",
              "2019-01-09     10004             1190.0      2005.0     1005000\n",
              "2019-01-10         0             1088.0      2006.0     1678000\n",
              "2019-01-11     10280              873.0         0.0     1380000"
            ]
          },
          "metadata": {
            "tags": []
          },
          "execution_count": 31
        }
      ]
    },
    {
      "cell_type": "markdown",
      "metadata": {
        "id": "GgRcyfQMXhzJ"
      },
      "source": [
        "# II. Split Data\n",
        "\n",
        "Split our dataset into a **feature matrix `X`** and a **target vector `y`**."
      ]
    },
    {
      "cell_type": "code",
      "metadata": {
        "id": "wTYqSJ8chRGa"
      },
      "source": [
        "# We split our data into feature matrix X and target variable y\n",
        "X = df[['GROSS_SQUARE_FEET']] # note the double brackets\n",
        "y = df['SALE_PRICE']"
      ],
      "execution_count": null,
      "outputs": []
    },
    {
      "cell_type": "code",
      "metadata": {
        "colab": {
          "base_uri": "https://localhost:8080/"
        },
        "id": "4B-wI0sJ0qhl",
        "outputId": "7e999eb9-62b0-4f86-f80a-a5228190fcc7"
      },
      "source": [
        "X.shape #2D matrix"
      ],
      "execution_count": null,
      "outputs": [
        {
          "output_type": "execute_result",
          "data": {
            "text/plain": [
              "(90, 1)"
            ]
          },
          "metadata": {
            "tags": []
          },
          "execution_count": 38
        }
      ]
    },
    {
      "cell_type": "code",
      "metadata": {
        "colab": {
          "base_uri": "https://localhost:8080/"
        },
        "id": "_0GL4dan1JnD",
        "outputId": "aa6b3c33-5b1e-41a6-827f-3b661d056494"
      },
      "source": [
        "y.shape #vector"
      ],
      "execution_count": null,
      "outputs": [
        {
          "output_type": "execute_result",
          "data": {
            "text/plain": [
              "(90,)"
            ]
          },
          "metadata": {
            "tags": []
          },
          "execution_count": 39
        }
      ]
    },
    {
      "cell_type": "markdown",
      "metadata": {
        "id": "CuwsiXRlYsjG"
      },
      "source": [
        "# III. Establish Baseline\n",
        "\n",
        "If you had a *naïve model* that could only predict one value, how well would you model perform?"
      ]
    },
    {
      "cell_type": "code",
      "metadata": {
        "id": "uOJo3JZm5Soo"
      },
      "source": [
        "# Import library to calculate MAE\n",
        "from sklearn.metrics import mean_absolute_error"
      ],
      "execution_count": null,
      "outputs": []
    },
    {
      "cell_type": "code",
      "metadata": {
        "id": "1Ek2mN04hTmT",
        "colab": {
          "base_uri": "https://localhost:8080/"
        },
        "outputId": "373914ac-04ca-419e-bfe3-bffea58cfaef"
      },
      "source": [
        "# Printing out the baseline prediction which is the mean of our target variable.\n",
        "print('Mean Sale Price:', y.mean())\n",
        "\n",
        "# Creating an array with the mean value because for every data point, our baseline prediction is the same.\n",
        "y_pred = [y.mean()]*len(y) \n",
        "\n",
        "print('The MAE for our baseline method is: ', mean_absolute_error(y,y_pred))"
      ],
      "execution_count": null,
      "outputs": [
        {
          "output_type": "stream",
          "text": [
            "Mean Sale Price: 3928736.3666666667\n",
            "The MAE for our baseline method is:  2783380.1977777784\n"
          ],
          "name": "stdout"
        }
      ]
    },
    {
      "cell_type": "code",
      "metadata": {
        "colab": {
          "base_uri": "https://localhost:8080/",
          "height": 290
        },
        "id": "MwR5ssLM5NyR",
        "outputId": "3b7d23ac-bfb5-42ea-8307-eadc8ec0cc89"
      },
      "source": [
        "# Scatter plot to visualize the baseline\n",
        "plt.scatter(X,y)\n",
        "plt.plot(X,y_pred,label='Baseline', color = 'orange')\n",
        "plt.xlabel('Gross sq feet')\n",
        "plt.ylabel('Sale Price')\n",
        "plt.legend();"
      ],
      "execution_count": null,
      "outputs": [
        {
          "output_type": "display_data",
          "data": {
            "image/png": "[encoded data removed]",
            "text/plain": [
              "<Figure size 432x288 with 1 Axes>"
            ]
          },
          "metadata": {
            "tags": [],
            "needs_background": "light"
          }
        }
      ]
    },
    {
      "cell_type": "markdown",
      "metadata": {
        "id": "3bFjzSkUdl21"
      },
      "source": [
        "# IV. Build Model"
      ]
    },
    {
      "cell_type": "markdown",
      "metadata": {
        "id": "ktwMGv716vbj"
      },
      "source": [
        "y = beta1*x1 + beta2*x2 +..."
      ]
    },
    {
      "cell_type": "code",
      "metadata": {
        "id": "teYsy_7fhWiG",
        "colab": {
          "base_uri": "https://localhost:8080/"
        },
        "outputId": "d310e1af-17a3-4e66-8df1-ce218bb6cace"
      },
      "source": [
        "# Step 1: Import the predictor\n",
        "from sklearn.linear_model import LinearRegression\n",
        "\n",
        "# Step 2: Instantiate the predictor\n",
        "model_lr = LinearRegression()\n",
        "\n",
        "# Step 3: Fit my model to the data\n",
        "model_lr.fit(X,y)\n"
      ],
      "execution_count": null,
      "outputs": [
        {
          "output_type": "execute_result",
          "data": {
            "text/plain": [
              "LinearRegression(copy_X=True, fit_intercept=True, n_jobs=None, normalize=False)"
            ]
          },
          "metadata": {
            "tags": []
          },
          "execution_count": 49
        }
      ]
    },
    {
      "cell_type": "markdown",
      "metadata": {
        "id": "Lo3CypnUfIwc"
      },
      "source": [
        "# V. Check Metrics"
      ]
    },
    {
      "cell_type": "code",
      "metadata": {
        "id": "l1WsFoaUJ_Vx"
      },
      "source": [
        "# Predict the output for our data X.\n",
        "y_pred_lr = model_lr.predict(X)"
      ],
      "execution_count": null,
      "outputs": []
    },
    {
      "cell_type": "markdown",
      "metadata": {
        "id": "jGYUL1mufdS-"
      },
      "source": [
        "# VI. Communicate Results\n",
        "\n",
        "Plot model"
      ]
    },
    {
      "cell_type": "code",
      "metadata": {
        "id": "y6RUbvFdB3jl",
        "colab": {
          "base_uri": "https://localhost:8080/",
          "height": 290
        },
        "outputId": "fc66f514-1102-494a-9241-220ad1437834"
      },
      "source": [
        "# Plotting baseline and our model to interpret the differences between the two methods.\n",
        "plt.scatter(X,y)\n",
        "plt.plot(X,y_pred,label='Baseline', color = 'orange')\n",
        "plt.plot(X,y_pred_lr, label = 'Linear Regression', color = 'red')\n",
        "plt.xlabel('Gross sq feet')\n",
        "plt.ylabel('Sale Price')\n",
        "plt.legend();"
      ],
      "execution_count": null,
      "outputs": [
        {
          "output_type": "display_data",
          "data": {
            "image/png": "[encoded data removed]",
            "text/plain": [
              "<Figure size 432x288 with 1 Axes>"
            ]
          },
          "metadata": {
            "tags": [],
            "needs_background": "light"
          }
        }
      ]
    },
    {
      "cell_type": "code",
      "metadata": {
        "colab": {
          "base_uri": "https://localhost:8080/"
        },
        "id": "TO-p7bax8qr_",
        "outputId": "9048c8a2-7c12-4d51-b692-bfb7222dd65a"
      },
      "source": [
        "# Calculate the MAE for our linear regression model\n",
        "print('The MAE for our baseline method is: ', mean_absolute_error(y,y_pred_lr))"
      ],
      "execution_count": null,
      "outputs": [
        {
          "output_type": "stream",
          "text": [
            "The MAE for our baseline method is:  1176817.9930150746\n"
          ],
          "name": "stdout"
        }
      ]
    },
    {
      "cell_type": "markdown",
      "metadata": {
        "id": "qsDBGc49K7Uh"
      },
      "source": [
        "What are our beta coefficients?"
      ]
    },
    {
      "cell_type": "code",
      "metadata": {
        "id": "rgoaqGY_KjnH"
      },
      "source": [
        "# We derive our intercept and coefficient from our model\n",
        "intercept = round(model_lr.intercept_)\n",
        "coef = round(model_lr.coef_[0])"
      ],
      "execution_count": null,
      "outputs": []
    },
    {
      "cell_type": "markdown",
      "metadata": {
        "id": "ptJ4CF32_AnM"
      },
      "source": [
        "price_hat = intercept + coef * 'sqft'"
      ]
    },
    {
      "cell_type": "code",
      "metadata": {
        "colab": {
          "base_uri": "https://localhost:8080/"
        },
        "id": "xP-Yyv3N_GP0",
        "outputId": "d43b11b2-6426-45f3-dd44-567475e01afc"
      },
      "source": [
        "# Printing our final equation using intercept and coef\n",
        "print(f'PRICE = {intercept}+{coef}*SQFT')"
      ],
      "execution_count": null,
      "outputs": [
        {
          "output_type": "stream",
          "text": [
            "PRICE = -1505364+3076*SQFT\n"
          ],
          "name": "stdout"
        }
      ]
    }
  ]
}