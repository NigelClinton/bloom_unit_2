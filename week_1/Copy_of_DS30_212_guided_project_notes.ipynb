{
  "nbformat": 4,
  "nbformat_minor": 0,
  "metadata": {
    "colab": {
      "name": "Copy of DS30_212_guided-project-notes.ipynb",
      "provenance": []
    },
    "kernelspec": {
      "name": "python3",
      "display_name": "Python 3"
    },
    "widgets": {
      "application/vnd.jupyter.widget-state+json": {
        "3fdf3899ff1646d7b328af5400751495": {
          "model_module": "@jupyter-widgets/controls",
          "model_name": "VBoxModel",
          "state": {
            "_view_name": "VBoxView",
            "_dom_classes": [
              "widget-interact"
            ],
            "_model_name": "VBoxModel",
            "_view_module": "@jupyter-widgets/controls",
            "_model_module_version": "1.5.0",
            "_view_count": null,
            "_view_module_version": "1.5.0",
            "box_style": "",
            "layout": "IPY_MODEL_c16ddd6da272413895d75ed0e144cc30",
            "_model_module": "@jupyter-widgets/controls",
            "children": [
              "IPY_MODEL_657918f70d93425090b2c114f553f170",
              "IPY_MODEL_6ee5dcd9b0fd434eacd3a44de5605c6f",
              "IPY_MODEL_3e58bb3037264d43810624aea0a22a3b"
            ]
          },
          "model_module_version": "1.5.0"
        },
        "c16ddd6da272413895d75ed0e144cc30": {
          "model_module": "@jupyter-widgets/base",
          "model_name": "LayoutModel",
          "state": {
            "_view_name": "LayoutView",
            "grid_template_rows": null,
            "right": null,
            "justify_content": null,
            "_view_module": "@jupyter-widgets/base",
            "overflow": null,
            "_model_module_version": "1.2.0",
            "_view_count": null,
            "flex_flow": null,
            "width": null,
            "min_width": null,
            "border": null,
            "align_items": null,
            "bottom": null,
            "_model_module": "@jupyter-widgets/base",
            "top": null,
            "grid_column": null,
            "overflow_y": null,
            "overflow_x": null,
            "grid_auto_flow": null,
            "grid_area": null,
            "grid_template_columns": null,
            "flex": null,
            "_model_name": "LayoutModel",
            "justify_items": null,
            "grid_row": null,
            "max_height": null,
            "align_content": null,
            "visibility": null,
            "align_self": null,
            "height": null,
            "min_height": null,
            "padding": null,
            "grid_auto_rows": null,
            "grid_gap": null,
            "max_width": null,
            "order": null,
            "_view_module_version": "1.2.0",
            "grid_template_areas": null,
            "object_position": null,
            "object_fit": null,
            "grid_auto_columns": null,
            "margin": null,
            "display": null,
            "left": null
          },
          "model_module_version": "1.2.0"
        },
        "657918f70d93425090b2c114f553f170": {
          "model_module": "@jupyter-widgets/controls",
          "model_name": "FloatSliderModel",
          "state": {
            "_view_name": "FloatSliderView",
            "style": "IPY_MODEL_3c6d2547d301450dace898b0e1d09764",
            "_dom_classes": [],
            "description": "slope",
            "step": 0.5,
            "_model_name": "FloatSliderModel",
            "orientation": "horizontal",
            "max": 5,
            "_view_module": "@jupyter-widgets/controls",
            "_model_module_version": "1.5.0",
            "value": 2.5,
            "_view_count": null,
            "disabled": false,
            "_view_module_version": "1.5.0",
            "min": -5,
            "continuous_update": true,
            "readout_format": ".2f",
            "description_tooltip": null,
            "readout": true,
            "_model_module": "@jupyter-widgets/controls",
            "layout": "IPY_MODEL_fadf67851d174027b4c8946f2a62a657"
          },
          "model_module_version": "1.5.0"
        },
        "6ee5dcd9b0fd434eacd3a44de5605c6f": {
          "model_module": "@jupyter-widgets/controls",
          "model_name": "FloatSliderModel",
          "state": {
            "_view_name": "FloatSliderView",
            "style": "IPY_MODEL_0e133c8baab043dd90470dc2932ce34d",
            "_dom_classes": [],
            "description": "intercept",
            "step": 2,
            "_model_name": "FloatSliderModel",
            "orientation": "horizontal",
            "max": 61.79,
            "_view_module": "@jupyter-widgets/controls",
            "_model_module_version": "1.5.0",
            "value": 48,
            "_view_count": null,
            "disabled": false,
            "_view_module_version": "1.5.0",
            "min": 44,
            "continuous_update": true,
            "readout_format": ".2f",
            "description_tooltip": null,
            "readout": true,
            "_model_module": "@jupyter-widgets/controls",
            "layout": "IPY_MODEL_c797d02c446b4f4ba62a93ce60d1a203"
          },
          "model_module_version": "1.5.0"
        },
        "3e58bb3037264d43810624aea0a22a3b": {
          "model_module": "@jupyter-widgets/output",
          "model_name": "OutputModel",
          "state": {
            "_view_name": "OutputView",
            "msg_id": "",
            "_dom_classes": [],
            "_model_name": "OutputModel",
            "outputs": [
              {
                "output_type": "display_data",
                "metadata": {
                  "tags": [],
                  "needs_background": "light"
                },
                "image/png": "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\n",
                "text/plain": "<Figure size 1440x432 with 2 Axes>"
              }
            ],
            "_view_module": "@jupyter-widgets/output",
            "_model_module_version": "1.0.0",
            "_view_count": null,
            "_view_module_version": "1.0.0",
            "layout": "IPY_MODEL_a34af58c03e148c6807d4440b75ad95c",
            "_model_module": "@jupyter-widgets/output"
          },
          "model_module_version": "1.0.0"
        },
        "3c6d2547d301450dace898b0e1d09764": {
          "model_module": "@jupyter-widgets/controls",
          "model_name": "SliderStyleModel",
          "state": {
            "_view_name": "StyleView",
            "handle_color": null,
            "_model_name": "SliderStyleModel",
            "description_width": "",
            "_view_module": "@jupyter-widgets/base",
            "_model_module_version": "1.5.0",
            "_view_count": null,
            "_view_module_version": "1.2.0",
            "_model_module": "@jupyter-widgets/controls"
          },
          "model_module_version": "1.5.0"
        },
        "fadf67851d174027b4c8946f2a62a657": {
          "model_module": "@jupyter-widgets/base",
          "model_name": "LayoutModel",
          "state": {
            "_view_name": "LayoutView",
            "grid_template_rows": null,
            "right": null,
            "justify_content": null,
            "_view_module": "@jupyter-widgets/base",
            "overflow": null,
            "_model_module_version": "1.2.0",
            "_view_count": null,
            "flex_flow": null,
            "width": null,
            "min_width": null,
            "border": null,
            "align_items": null,
            "bottom": null,
            "_model_module": "@jupyter-widgets/base",
            "top": null,
            "grid_column": null,
            "overflow_y": null,
            "overflow_x": null,
            "grid_auto_flow": null,
            "grid_area": null,
            "grid_template_columns": null,
            "flex": null,
            "_model_name": "LayoutModel",
            "justify_items": null,
            "grid_row": null,
            "max_height": null,
            "align_content": null,
            "visibility": null,
            "align_self": null,
            "height": null,
            "min_height": null,
            "padding": null,
            "grid_auto_rows": null,
            "grid_gap": null,
            "max_width": null,
            "order": null,
            "_view_module_version": "1.2.0",
            "grid_template_areas": null,
            "object_position": null,
            "object_fit": null,
            "grid_auto_columns": null,
            "margin": null,
            "display": null,
            "left": null
          },
          "model_module_version": "1.2.0"
        },
        "0e133c8baab043dd90470dc2932ce34d": {
          "model_module": "@jupyter-widgets/controls",
          "model_name": "SliderStyleModel",
          "state": {
            "_view_name": "StyleView",
            "handle_color": null,
            "_model_name": "SliderStyleModel",
            "description_width": "",
            "_view_module": "@jupyter-widgets/base",
            "_model_module_version": "1.5.0",
            "_view_count": null,
            "_view_module_version": "1.2.0",
            "_model_module": "@jupyter-widgets/controls"
          },
          "model_module_version": "1.5.0"
        },
        "c797d02c446b4f4ba62a93ce60d1a203": {
          "model_module": "@jupyter-widgets/base",
          "model_name": "LayoutModel",
          "state": {
            "_view_name": "LayoutView",
            "grid_template_rows": null,
            "right": null,
            "justify_content": null,
            "_view_module": "@jupyter-widgets/base",
            "overflow": null,
            "_model_module_version": "1.2.0",
            "_view_count": null,
            "flex_flow": null,
            "width": null,
            "min_width": null,
            "border": null,
            "align_items": null,
            "bottom": null,
            "_model_module": "@jupyter-widgets/base",
            "top": null,
            "grid_column": null,
            "overflow_y": null,
            "overflow_x": null,
            "grid_auto_flow": null,
            "grid_area": null,
            "grid_template_columns": null,
            "flex": null,
            "_model_name": "LayoutModel",
            "justify_items": null,
            "grid_row": null,
            "max_height": null,
            "align_content": null,
            "visibility": null,
            "align_self": null,
            "height": null,
            "min_height": null,
            "padding": null,
            "grid_auto_rows": null,
            "grid_gap": null,
            "max_width": null,
            "order": null,
            "_view_module_version": "1.2.0",
            "grid_template_areas": null,
            "object_position": null,
            "object_fit": null,
            "grid_auto_columns": null,
            "margin": null,
            "display": null,
            "left": null
          },
          "model_module_version": "1.2.0"
        },
        "a34af58c03e148c6807d4440b75ad95c": {
          "model_module": "@jupyter-widgets/base",
          "model_name": "LayoutModel",
          "state": {
            "_view_name": "LayoutView",
            "grid_template_rows": null,
            "right": null,
            "justify_content": null,
            "_view_module": "@jupyter-widgets/base",
            "overflow": null,
            "_model_module_version": "1.2.0",
            "_view_count": null,
            "flex_flow": null,
            "width": null,
            "min_width": null,
            "border": null,
            "align_items": null,
            "bottom": null,
            "_model_module": "@jupyter-widgets/base",
            "top": null,
            "grid_column": null,
            "overflow_y": null,
            "overflow_x": null,
            "grid_auto_flow": null,
            "grid_area": null,
            "grid_template_columns": null,
            "flex": null,
            "_model_name": "LayoutModel",
            "justify_items": null,
            "grid_row": null,
            "max_height": null,
            "align_content": null,
            "visibility": null,
            "align_self": null,
            "height": null,
            "min_height": null,
            "padding": null,
            "grid_auto_rows": null,
            "grid_gap": null,
            "max_width": null,
            "order": null,
            "_view_module_version": "1.2.0",
            "grid_template_areas": null,
            "object_position": null,
            "object_fit": null,
            "grid_auto_columns": null,
            "margin": null,
            "display": null,
            "left": null
          },
          "model_module_version": "1.2.0"
        }
      }
    }
  },
  "cells": [
    {
      "cell_type": "markdown",
      "metadata": {
        "id": "fEEJxTEyeyxR"
      },
      "source": [
        "# OVERVIEW\n",
        "1. Announcements\n",
        "2. Module 1 recap\n",
        "3. Linear regression continued\n",
        "4. Splitting data into training and test\n",
        "5. Metrics - R2 score\n",
        "6. Bias-Variance tradeoff\n",
        "7. Project Module\n"
      ]
    },
    {
      "cell_type": "markdown",
      "metadata": {
        "id": "4EXlrMNlwP1x"
      },
      "source": [
        "#What’s our goal for this guided project?\n",
        "* Create a model to predict how much vote share an \n",
        "incumbent president will receive.   \n",
        "#What are the core learning objectives that will allow us to meet that goal?\n",
        "* Do train/test split.\n",
        "* Use scikit-learn to fit a multiple regression model.\n",
        "* Use metrics such as MAE, RMSE, and R^2 to evaluate model.\n"
      ]
    },
    {
      "cell_type": "markdown",
      "metadata": {
        "id": "upbi_t6lwX1O"
      },
      "source": [
        "#What’s my plan for today’s project?\n",
        "1. Explore our dataset (EDA) and define our problem\n",
        "2. Train-test split\n",
        "3. Build multiple regression model\n",
        "4. Evaluate model performance using common metrics\n",
        "#What else?\n",
        "* Review module project\n",
        "* Critical Incident Questionnaire (CIQ)\n"
      ]
    },
    {
      "cell_type": "code",
      "metadata": {
        "id": "gUcWhX-0r9gl"
      },
      "source": [
        "# Libraries for R^2 visualization\n",
        "from ipywidgets import interactive, IntSlider, FloatSlider\n",
        "from math import floor, ceil\n",
        "from sklearn.base import BaseEstimator, RegressorMixin\n",
        "\n",
        "# Libraries for model building\n",
        "from sklearn.linear_model import LinearRegression\n",
        "from sklearn.metrics import mean_absolute_error, mean_squared_error, r2_score\n",
        "import matplotlib.pyplot as plt\n",
        "import numpy as np\n",
        "import pandas as pd\n",
        "\n",
        "# Library for working locally or Colab\n",
        "import sys"
      ],
      "execution_count": null,
      "outputs": []
    },
    {
      "cell_type": "code",
      "metadata": {
        "id": "E5WTvJFCWQjx"
      },
      "source": [
        "# If you're on Colab:\n",
        "if 'google.colab' in sys.modules:\n",
        "    DATA_PATH = 'https://raw.githubusercontent.com/LambdaSchool/DS-Unit-2-Applied-Modeling/master/data/'\n",
        "\n",
        "# If you're working locally:\n",
        "else:\n",
        "    DATA_PATH = '../data/'"
      ],
      "execution_count": null,
      "outputs": []
    },
    {
      "cell_type": "markdown",
      "metadata": {
        "id": "TGelVAREWyrN"
      },
      "source": [
        "# I. Wrangle Data"
      ]
    },
    {
      "cell_type": "code",
      "metadata": {
        "id": "VG4AuRG82OaR"
      },
      "source": [
        "# Sourcing the file path\n",
        "filepath = DATA_PATH + 'elections/bread_peace_voting.csv'\n",
        "\n",
        "# Creating a function to wrangle the data\n",
        "def wrangle(filepath):\n",
        "  \n",
        "  # Columns that will be renamed for headers\n",
        "  cols_name = ['Year','Party_canidate','Other_canidate','Personal_income_growth','Military_fatalities','Party_vote_share']\n",
        "\n",
        "  # first file path source, then parse dates before indexing, then set the column names to the specification above, then drop the header row that becomes row 0\n",
        "  df = pd.read_csv(filepath,index_col=['Year'],names=cols_name, header=0)\n",
        "\n",
        "  # Drop high cardinal columns: cardinality is the number of unique values in your column.\n",
        "  threshold = .75*len('Year')\n",
        "  cols_to_drop = []\n",
        "  for cols in df.select_dtypes('object'):\n",
        "    if df[cols].nunique() > threshold:\n",
        "      cols_to_drop.append(cols)\n",
        "\n",
        "  df.drop(columns=cols_to_drop, inplace=True)\n",
        "\n",
        "  return df"
      ],
      "execution_count": null,
      "outputs": []
    },
    {
      "cell_type": "code",
      "metadata": {
        "id": "8cTSdKOIMAfP"
      },
      "source": [
        "df = wrangle(DATA_PATH + 'elections/bread_peace_voting.csv')"
      ],
      "execution_count": null,
      "outputs": []
    },
    {
      "cell_type": "code",
      "metadata": {
        "colab": {
          "base_uri": "https://localhost:8080/",
          "height": 597
        },
        "id": "z_7dj2yd2WrG",
        "outputId": "dc77312a-c489-4797-f0f3-aca7c6c5f766"
      },
      "source": [
        "df"
      ],
      "execution_count": null,
      "outputs": [
        {
          "output_type": "execute_result",
          "data": {
            "text/html": [
              "<div>\n",
              "<style scoped>\n",
              "    .dataframe tbody tr th:only-of-type {\n",
              "        vertical-align: middle;\n",
              "    }\n",
              "\n",
              "    .dataframe tbody tr th {\n",
              "        vertical-align: top;\n",
              "    }\n",
              "\n",
              "    .dataframe thead th {\n",
              "        text-align: right;\n",
              "    }\n",
              "</style>\n",
              "<table border=\"1\" class=\"dataframe\">\n",
              "  <thead>\n",
              "    <tr style=\"text-align: right;\">\n",
              "      <th></th>\n",
              "      <th>Personal_income_growth</th>\n",
              "      <th>Military_fatalities</th>\n",
              "      <th>Party_vote_share</th>\n",
              "    </tr>\n",
              "    <tr>\n",
              "      <th>Year</th>\n",
              "      <th></th>\n",
              "      <th></th>\n",
              "      <th></th>\n",
              "    </tr>\n",
              "  </thead>\n",
              "  <tbody>\n",
              "    <tr>\n",
              "      <th>1952</th>\n",
              "      <td>2.40</td>\n",
              "      <td>190</td>\n",
              "      <td>44.60</td>\n",
              "    </tr>\n",
              "    <tr>\n",
              "      <th>1956</th>\n",
              "      <td>2.89</td>\n",
              "      <td>0</td>\n",
              "      <td>57.76</td>\n",
              "    </tr>\n",
              "    <tr>\n",
              "      <th>1960</th>\n",
              "      <td>0.85</td>\n",
              "      <td>0</td>\n",
              "      <td>49.91</td>\n",
              "    </tr>\n",
              "    <tr>\n",
              "      <th>1964</th>\n",
              "      <td>4.21</td>\n",
              "      <td>1</td>\n",
              "      <td>61.34</td>\n",
              "    </tr>\n",
              "    <tr>\n",
              "      <th>1968</th>\n",
              "      <td>3.02</td>\n",
              "      <td>146</td>\n",
              "      <td>49.60</td>\n",
              "    </tr>\n",
              "    <tr>\n",
              "      <th>1972</th>\n",
              "      <td>3.62</td>\n",
              "      <td>0</td>\n",
              "      <td>61.79</td>\n",
              "    </tr>\n",
              "    <tr>\n",
              "      <th>1976</th>\n",
              "      <td>1.08</td>\n",
              "      <td>2</td>\n",
              "      <td>48.95</td>\n",
              "    </tr>\n",
              "    <tr>\n",
              "      <th>1980</th>\n",
              "      <td>-0.39</td>\n",
              "      <td>0</td>\n",
              "      <td>44.70</td>\n",
              "    </tr>\n",
              "    <tr>\n",
              "      <th>1984</th>\n",
              "      <td>3.86</td>\n",
              "      <td>0</td>\n",
              "      <td>59.17</td>\n",
              "    </tr>\n",
              "    <tr>\n",
              "      <th>1988</th>\n",
              "      <td>2.27</td>\n",
              "      <td>0</td>\n",
              "      <td>53.94</td>\n",
              "    </tr>\n",
              "    <tr>\n",
              "      <th>1992</th>\n",
              "      <td>0.38</td>\n",
              "      <td>0</td>\n",
              "      <td>46.55</td>\n",
              "    </tr>\n",
              "    <tr>\n",
              "      <th>1996</th>\n",
              "      <td>1.04</td>\n",
              "      <td>0</td>\n",
              "      <td>54.74</td>\n",
              "    </tr>\n",
              "    <tr>\n",
              "      <th>2000</th>\n",
              "      <td>2.36</td>\n",
              "      <td>0</td>\n",
              "      <td>50.27</td>\n",
              "    </tr>\n",
              "    <tr>\n",
              "      <th>2004</th>\n",
              "      <td>1.72</td>\n",
              "      <td>4</td>\n",
              "      <td>51.24</td>\n",
              "    </tr>\n",
              "    <tr>\n",
              "      <th>2008</th>\n",
              "      <td>0.10</td>\n",
              "      <td>14</td>\n",
              "      <td>46.32</td>\n",
              "    </tr>\n",
              "    <tr>\n",
              "      <th>2012</th>\n",
              "      <td>0.95</td>\n",
              "      <td>5</td>\n",
              "      <td>52.00</td>\n",
              "    </tr>\n",
              "    <tr>\n",
              "      <th>2016</th>\n",
              "      <td>0.10</td>\n",
              "      <td>5</td>\n",
              "      <td>48.20</td>\n",
              "    </tr>\n",
              "  </tbody>\n",
              "</table>\n",
              "</div>"
            ],
            "text/plain": [
              "      Personal_income_growth  Military_fatalities  Party_vote_share\n",
              "Year                                                               \n",
              "1952                    2.40                  190             44.60\n",
              "1956                    2.89                    0             57.76\n",
              "1960                    0.85                    0             49.91\n",
              "1964                    4.21                    1             61.34\n",
              "1968                    3.02                  146             49.60\n",
              "1972                    3.62                    0             61.79\n",
              "1976                    1.08                    2             48.95\n",
              "1980                   -0.39                    0             44.70\n",
              "1984                    3.86                    0             59.17\n",
              "1988                    2.27                    0             53.94\n",
              "1992                    0.38                    0             46.55\n",
              "1996                    1.04                    0             54.74\n",
              "2000                    2.36                    0             50.27\n",
              "2004                    1.72                    4             51.24\n",
              "2008                    0.10                   14             46.32\n",
              "2012                    0.95                    5             52.00\n",
              "2016                    0.10                    5             48.20"
            ]
          },
          "metadata": {
            "tags": []
          },
          "execution_count": 50
        }
      ]
    },
    {
      "cell_type": "markdown",
      "metadata": {
        "id": "tleLz0-82bth"
      },
      "source": [
        "* Target = Incumbent Party Vote Share"
      ]
    },
    {
      "cell_type": "code",
      "metadata": {
        "colab": {
          "base_uri": "https://localhost:8080/"
        },
        "id": "ufX7L27Q2xUE",
        "outputId": "f703a69d-27a2-4a5c-e66b-d977656c741b"
      },
      "source": [
        "df.info()"
      ],
      "execution_count": null,
      "outputs": [
        {
          "output_type": "stream",
          "text": [
            "<class 'pandas.core.frame.DataFrame'>\n",
            "RangeIndex: 17 entries, 0 to 16\n",
            "Data columns (total 6 columns):\n",
            " #   Column                                     Non-Null Count  Dtype  \n",
            "---  ------                                     --------------  -----  \n",
            " 0   Year                                       17 non-null     int64  \n",
            " 1   Incumbent Party Candidate                  17 non-null     object \n",
            " 2   Other Candidate                            17 non-null     object \n",
            " 3   Average Recent Growth in Personal Incomes  17 non-null     float64\n",
            " 4   US Military Fatalities per Million         17 non-null     int64  \n",
            " 5   Incumbent Party Vote Share                 17 non-null     float64\n",
            "dtypes: float64(2), int64(2), object(2)\n",
            "memory usage: 944.0+ bytes\n"
          ],
          "name": "stdout"
        }
      ]
    },
    {
      "cell_type": "code",
      "metadata": {
        "colab": {
          "base_uri": "https://localhost:8080/"
        },
        "id": "xjv09rqn3Q-K",
        "outputId": "2d2ca9cd-209d-4a57-a5c5-8bbfb1feaad6"
      },
      "source": [
        "df['Incumbent Party Candidate'].value_counts()"
      ],
      "execution_count": null,
      "outputs": [
        {
          "output_type": "execute_result",
          "data": {
            "text/plain": [
              "Nixon         2\n",
              "Bush, Sr.     2\n",
              "Clinton       2\n",
              "Stevenson     1\n",
              "Carter        1\n",
              "Johnson       1\n",
              "Eisenhower    1\n",
              "Obama         1\n",
              "McCain        1\n",
              "Reagan        1\n",
              "Bush, Jr.     1\n",
              "Gore          1\n",
              "Humphrey      1\n",
              "Ford          1\n",
              "Name: Incumbent Party Candidate, dtype: int64"
            ]
          },
          "metadata": {
            "tags": []
          },
          "execution_count": 11
        }
      ]
    },
    {
      "cell_type": "markdown",
      "metadata": {
        "id": "Dek_MCFyXLq7"
      },
      "source": [
        "# II. Split Data\n",
        "\n",
        "**First** we need to split our **target vector** from our **feature matrix**."
      ]
    },
    {
      "cell_type": "code",
      "metadata": {
        "id": "5-1KGXcI2V2A"
      },
      "source": [
        "# Define our feature X and target y\n",
        "target = 'Party_vote_share'\n",
        "y = df[target]\n",
        "X = df.drop(columns=target)"
      ],
      "execution_count": null,
      "outputs": []
    },
    {
      "cell_type": "markdown",
      "metadata": {
        "id": "DZkHRqALX2be"
      },
      "source": [
        "**Second** we need to split our dataset into **training** and **test** sets.\n",
        "\n",
        "Two strategies:\n",
        "\n",
        "- Random train-test split using [`train_test_split`](https://scikit-learn.org/stable/modules/generated/sklearn.model_selection.train_test_split.html). Generally we use 80% of the data for training, and 20% of the data for testing.\n",
        "- If you have **timeseries**, then you need to do a \"cutoff\" split."
      ]
    },
    {
      "cell_type": "code",
      "metadata": {
        "id": "RJqL21ur3sDm"
      },
      "source": [
        "# Take all data before 2008 for training and test on data from 2008-2020\n",
        "cutoff = 2008\n",
        "mask = X.index < cutoff\n",
        "X_train,y_train = X.loc[mask], y.loc[mask]\n",
        "X_test, y_test = X.loc[~mask], y.loc[~mask]"
      ],
      "execution_count": null,
      "outputs": []
    },
    {
      "cell_type": "code",
      "metadata": {
        "colab": {
          "base_uri": "https://localhost:8080/"
        },
        "id": "jT6CqapyAoJm",
        "outputId": "99dbb144-418b-47f1-8d45-796c46508432"
      },
      "source": [
        "X_train.shape, X_test.shape"
      ],
      "execution_count": null,
      "outputs": [
        {
          "output_type": "execute_result",
          "data": {
            "text/plain": [
              "((14, 2), (3, 2))"
            ]
          },
          "metadata": {
            "tags": []
          },
          "execution_count": 53
        }
      ]
    },
    {
      "cell_type": "markdown",
      "metadata": {
        "id": "7iSEjfzTdJtS"
      },
      "source": [
        "# III. Establish Baseline"
      ]
    },
    {
      "cell_type": "code",
      "metadata": {
        "id": "VlB3cu_l3s1J",
        "colab": {
          "base_uri": "https://localhost:8080/"
        },
        "outputId": "b7d9b9f4-f783-4527-a735-67ebbf6aa33f"
      },
      "source": [
        "# The baseline prediction would always be the mean of the target variable used in the  TRAINING DATA.\n",
        "y_pred = [y_train.mean()]*len(y_train)\n",
        "baseline_mae = mean_absolute_error(y_train, y_pred)\n",
        "\n",
        "print('Incumbunt vote share: ',y_train.mean())\n",
        "print('---------------------------------------------')\n",
        "print('Baseline MAE: ',baseline_mae)"
      ],
      "execution_count": null,
      "outputs": [
        {
          "output_type": "stream",
          "text": [
            "Incumbunt vote share:  52.46857142857142\n",
            "---------------------------------------------\n",
            "Baseline MAE:  4.846938775510204\n"
          ],
          "name": "stdout"
        }
      ]
    },
    {
      "cell_type": "code",
      "metadata": {
        "colab": {
          "base_uri": "https://localhost:8080/",
          "height": 295
        },
        "id": "8QEquj1mBcgT",
        "outputId": "5a39866b-9d99-4579-ad93-b8744eaab2e1"
      },
      "source": [
        "# plotting the entire data\n",
        "plt.scatter(X['Personal_income_growth'],y)\n",
        "plt.xlabel('Recent Growth in personal')\n",
        "plt.ylabel('Incumbunt Vote Share')\n",
        "plt.title('Scatter Plot of Entire set')\n",
        "plt.show();"
      ],
      "execution_count": null,
      "outputs": [
        {
          "output_type": "display_data",
          "data": {
            "image/png": "[encoded data removed]",
            "text/plain": [
              "<Figure size 432x288 with 1 Axes>"
            ]
          },
          "metadata": {
            "tags": [],
            "needs_background": "light"
          }
        }
      ]
    },
    {
      "cell_type": "code",
      "metadata": {
        "colab": {
          "base_uri": "https://localhost:8080/",
          "height": 295
        },
        "id": "EbKXYUV8NrtY",
        "outputId": "832c3046-bcb2-4045-d4e5-8c30a170aa71"
      },
      "source": [
        "# plotting the training data\n",
        "plt.scatter(X_train['Personal_income_growth'],y_train)\n",
        "plt.xlabel('Recent Growth in personal incomes')\n",
        "plt.ylabel('Incumbent Vote share')\n",
        "plt.title('Scatter Plot of Training Data')\n",
        "plt.show();"
      ],
      "execution_count": null,
      "outputs": [
        {
          "output_type": "display_data",
          "data": {
            "image/png": "[encoded data removed]",
            "text/plain": [
              "<Figure size 432x288 with 1 Axes>"
            ]
          },
          "metadata": {
            "tags": [],
            "needs_background": "light"
          }
        }
      ]
    },
    {
      "cell_type": "markdown",
      "metadata": {
        "id": "PzZqgSfpd6Z9"
      },
      "source": [
        "# IV. Build Model"
      ]
    },
    {
      "cell_type": "code",
      "metadata": {
        "id": "YK9UgruML0sL",
        "colab": {
          "base_uri": "https://localhost:8080/"
        },
        "outputId": "f0f30344-4f5f-42cf-84cd-06ece60b2336"
      },
      "source": [
        "# Step 1: Already done the import of libaraies\n",
        "\n",
        "# Step 2: Instantiation\n",
        "model = LinearRegression()\n",
        "\n",
        "model.fit(X_train,y_train)"
      ],
      "execution_count": null,
      "outputs": [
        {
          "output_type": "execute_result",
          "data": {
            "text/plain": [
              "LinearRegression(copy_X=True, fit_intercept=True, n_jobs=None, normalize=False)"
            ]
          },
          "metadata": {
            "tags": []
          },
          "execution_count": 60
        }
      ]
    },
    {
      "cell_type": "markdown",
      "metadata": {
        "id": "kKS9OY-0eYyU"
      },
      "source": [
        "# V. Check Metrics\n",
        "\n",
        "## Mean Absolute Error\n",
        "\n",
        "The unit of measurement is the same as the unit of measurment for your target (in this case, vote share [%])."
      ]
    },
    {
      "cell_type": "code",
      "metadata": {
        "id": "jjsNKDYY3wws",
        "colab": {
          "base_uri": "https://localhost:8080/"
        },
        "outputId": "96c7bbfc-d996-440b-9c3e-4373484b76e1"
      },
      "source": [
        "# Predicting the y values on training and test data\n",
        "y_pred_train_lr = model.predict(X_train)\n",
        "y_pred_test_lr = model.predict(X_test)\n",
        "\n",
        "# Calculating metric on the training and test data\n",
        "print('Training MAE: ',mean_absolute_error(y_train, y_pred_train_lr))\n",
        "print('-------------------------------------------------------------')\n",
        "print('Test MAE: ',mean_absolute_error(y_test, y_pred_test_lr))"
      ],
      "execution_count": null,
      "outputs": [
        {
          "output_type": "stream",
          "text": [
            "Training MAE:  1.3303221006874268\n",
            "-------------------------------------------------------------\n",
            "Test MAE:  1.6341722692537293\n"
          ],
          "name": "stdout"
        }
      ]
    },
    {
      "cell_type": "markdown",
      "metadata": {
        "id": "gbbgj--egYyJ"
      },
      "source": [
        "## Root Mean Squared Error\n",
        "\n",
        "The unit of measurement is the same as the unit of measurment for your target (in this case, vote share [%])."
      ]
    },
    {
      "cell_type": "code",
      "metadata": {
        "id": "D8RUCk0u3x9L",
        "colab": {
          "base_uri": "https://localhost:8080/"
        },
        "outputId": "29112a1d-488c-4ef8-dde1-577c3bd87140"
      },
      "source": [
        "# Calculating the RMSE for training and test data\n",
        "print('Training RMSE: ', mean_squared_error(y_train,y_pred_train_lr,squared=False))\n",
        "print('-------------------------------------------------------------')\n",
        "print('Test RMSE: ', mean_squared_error(y_test,y_pred_test_lr,squared=False))"
      ],
      "execution_count": null,
      "outputs": [
        {
          "output_type": "stream",
          "text": [
            "Training RMSE:  1.9823427386821593\n",
            "-------------------------------------------------------------\n",
            "Test RMSE:  1.8613616351898397\n"
          ],
          "name": "stdout"
        }
      ]
    },
    {
      "cell_type": "markdown",
      "metadata": {
        "id": "JiG46uC-kQGW"
      },
      "source": [
        "## $R^2$ Score\n",
        "\n",
        "TL;DR: Usually ranges between 0 (bad) and 1 (good)."
      ]
    },
    {
      "cell_type": "code",
      "metadata": {
        "id": "23FV-p8bh61A",
        "colab": {
          "base_uri": "https://localhost:8080/",
          "height": 468,
          "referenced_widgets": [
            "3fdf3899ff1646d7b328af5400751495",
            "c16ddd6da272413895d75ed0e144cc30",
            "657918f70d93425090b2c114f553f170",
            "6ee5dcd9b0fd434eacd3a44de5605c6f",
            "3e58bb3037264d43810624aea0a22a3b",
            "3c6d2547d301450dace898b0e1d09764",
            "fadf67851d174027b4c8946f2a62a657",
            "0e133c8baab043dd90470dc2932ce34d",
            "c797d02c446b4f4ba62a93ce60d1a203",
            "a34af58c03e148c6807d4440b75ad95c"
          ]
        },
        "outputId": "2913ecef-ce9a-420c-8785-3d15b8a6a6ae"
      },
      "source": [
        "class BruteForceRegressor(BaseEstimator, RegressorMixin):\n",
        "    def __init__(self, m=0, b=0):\n",
        "        self.m = m\n",
        "        self.b = b\n",
        "        self.mean = 0\n",
        "        \n",
        "    def fit(self, X, y):\n",
        "        self.mean = np.mean(y)\n",
        "        return self\n",
        "    \n",
        "    def predict(self, X, return_mean=True):\n",
        "        if return_mean:\n",
        "            return [self.mean] * len(X)\n",
        "        else:\n",
        "            return X * self.m + self.b\n",
        "\n",
        "def plot(slope, intercept):\n",
        "    # Assign data to variables\n",
        "    x = df['Personal_income_growth']\n",
        "    y = df['Party_vote_share']\n",
        "    \n",
        "    # Create figure\n",
        "    fig, (ax1, ax2) = plt.subplots(1, 2, figsize=(20,6))\n",
        "    \n",
        "    # Set ax limits\n",
        "    mar = 0.2\n",
        "    x_lim = floor(x.min() - x.min()*mar), ceil(x.max() + x.min()*mar)\n",
        "    y_lim = floor(y.min() - y.min()*mar), ceil(y.max() + y.min()*mar)\n",
        "    \n",
        "    # Instantiate and train model\n",
        "    bfr = BruteForceRegressor(slope, intercept)\n",
        "    bfr.fit(x, y)\n",
        "    \n",
        "    # ax1   \n",
        "    ## Plot data\n",
        "    ax1.set_xlim(x_lim)\n",
        "    ax1.set_ylim(y_lim)\n",
        "    ax1.scatter(x, y)\n",
        "    \n",
        "    ## Plot base model\n",
        "    ax1.axhline(bfr.mean, color='orange', label='baseline model')\n",
        "    \n",
        "    ## Plot residual lines\n",
        "    y_base_pred = bfr.predict(x)\n",
        "    ss_base = mean_squared_error(y, y_base_pred) * len(y)\n",
        "    for x_i, y_i, yp_i in zip(x, y, y_base_pred):\n",
        "        ax1.plot([x_i, x_i], [y_i, yp_i], \n",
        "                 color='gray', linestyle='--', alpha=0.75)\n",
        "    \n",
        "    ## Formatting\n",
        "    ax1.legend()\n",
        "    ax1.set_title(f'Sum of Squares: {np.round(ss_base, 2)}')\n",
        "    ax1.set_xlabel('Growth in Personal Incomes')\n",
        "    ax1.set_ylabel('Incumbent Party Vote Share [%]')\n",
        "\n",
        "    # ax2\n",
        "\n",
        "    ax2.set_xlim(x_lim)\n",
        "    ax2.set_ylim(y_lim)\n",
        "    ## Plot data\n",
        "    ax2.scatter(x, y)\n",
        "    \n",
        "    ## Plot model\n",
        "    x_model = np.linspace(*ax2.get_xlim(), 10)\n",
        "    y_model = bfr.predict(x_model, return_mean=False)\n",
        "    ax2.plot(x_model, y_model, color='green', label='our model')\n",
        "    for x_coord, y_coord in zip(x, y):\n",
        "        ax2.plot([x_coord, x_coord], [y_coord, x_coord * slope + intercept], \n",
        "                 color='gray', linestyle='--', alpha=0.75)   \n",
        "    \n",
        "    ss_ours = mean_squared_error(y, bfr.predict(x, return_mean=False)) * len(y)\n",
        "    \n",
        "    ## Formatting\n",
        "    ax2.legend()\n",
        "    ax2.set_title(f'Sum of Squares: {np.round(ss_ours, 2)}')\n",
        "    ax2.set_xlabel('Growth in Personal Incomes')\n",
        "    ax2.set_ylabel('Incumbent Party Vote Share [%]')\n",
        "\n",
        "y = df['Party_vote_share']\n",
        "slope_slider = FloatSlider(min=-5, max=5, step=0.5, value=0)\n",
        "intercept_slider = FloatSlider(min=int(y.min()), max=y.max(), step=2, value=y.mean())\n",
        "    \n",
        "interactive(plot, slope=slope_slider, intercept=intercept_slider)"
      ],
      "execution_count": null,
      "outputs": [
        {
          "output_type": "display_data",
          "data": {
            "application/vnd.jupyter.widget-view+json": {
              "model_id": "3fdf3899ff1646d7b328af5400751495",
              "version_minor": 0,
              "version_major": 2
            },
            "text/plain": [
              "interactive(children=(FloatSlider(value=0.0, description='slope', max=5.0, min=-5.0, step=0.5), FloatSlider(va…"
            ]
          },
          "metadata": {
            "tags": []
          }
        }
      ]
    },
    {
      "cell_type": "code",
      "metadata": {
        "id": "96hWWlRcdtFb",
        "colab": {
          "base_uri": "https://localhost:8080/"
        },
        "outputId": "05cf4b11-2150-4c58-9d5f-87bcc01e0ed9"
      },
      "source": [
        "# R2 score = 1 - (model/baseline)\n",
        "# R2 score = 1 - (485/485) = 0\n",
        "# R2 score = 1 -(0/485) = 1\n",
        "\n",
        "1 - (1526/485)"
      ],
      "execution_count": null,
      "outputs": [
        {
          "output_type": "execute_result",
          "data": {
            "text/plain": [
              "-2.1463917525773195"
            ]
          },
          "metadata": {
            "tags": []
          },
          "execution_count": 75
        }
      ]
    },
    {
      "cell_type": "code",
      "metadata": {
        "colab": {
          "base_uri": "https://localhost:8080/"
        },
        "id": "nuLWAQ8sONyi",
        "outputId": "cb45c838-5c9a-464f-dd8d-9799a27bb5df"
      },
      "source": [
        "# Calculating r2 for our training and test data\n",
        "print('Training R^2 Score:', model.score(X_train, y_train))\n",
        "print('Test R^2 Score:', model.score(X_test, y_test))"
      ],
      "execution_count": null,
      "outputs": [
        {
          "output_type": "stream",
          "text": [
            "Training R^2 Score: 0.8739958896016927\n",
            "Test R^2 Score: 0.3792995526663848\n"
          ],
          "name": "stdout"
        }
      ]
    },
    {
      "cell_type": "markdown",
      "metadata": {
        "id": "6eHzIsbYqcgo"
      },
      "source": [
        "# VI. Communicate Results\n",
        "\n",
        "**Challenge:** How can we find the coefficients and intercept for our `model`?"
      ]
    },
    {
      "cell_type": "code",
      "metadata": {
        "id": "U9reRJKE7T-6",
        "colab": {
          "base_uri": "https://localhost:8080/"
        },
        "outputId": "004fe20e-983e-4bc8-aa6b-0222bb634519"
      },
      "source": [
        "model.coef_"
      ],
      "execution_count": null,
      "outputs": [
        {
          "output_type": "execute_result",
          "data": {
            "text/plain": [
              "array([ 3.59004735, -0.05315709])"
            ]
          },
          "metadata": {
            "tags": []
          },
          "execution_count": 76
        }
      ]
    },
    {
      "cell_type": "code",
      "metadata": {
        "colab": {
          "base_uri": "https://localhost:8080/"
        },
        "id": "9l1XzaBJOSIC",
        "outputId": "6a5b513c-eaf8-4a86-b044-05194781dd7c"
      },
      "source": [
        "print('The coefficient for income is:', model.coef_[0])\n",
        "print('The coefficient for fatalities is:', model.coef_[1])"
      ],
      "execution_count": null,
      "outputs": [
        {
          "output_type": "stream",
          "text": [
            "The coefficient for income is: 3.5900473494560536\n",
            "The coefficient for fatalities is: -0.05315709351049324\n"
          ],
          "name": "stdout"
        }
      ]
    },
    {
      "cell_type": "code",
      "metadata": {
        "colab": {
          "base_uri": "https://localhost:8080/"
        },
        "id": "3pg0akFCMCvx",
        "outputId": "5b0cd053-d87c-4060-d064-29ed3be37a0f"
      },
      "source": [
        "model.intercept_"
      ],
      "execution_count": null,
      "outputs": [
        {
          "output_type": "execute_result",
          "data": {
            "text/plain": [
              "46.25489966153873"
            ]
          },
          "metadata": {
            "tags": []
          },
          "execution_count": 77
        }
      ]
    },
    {
      "cell_type": "code",
      "metadata": {
        "colab": {
          "base_uri": "https://localhost:8080/"
        },
        "id": "E6OccALXOT-s",
        "outputId": "fca0e916-52cf-4773-8267-5f39eafc7ce9"
      },
      "source": [
        "print('The interecept of  for fatalities is:', model.coef_[1])"
      ],
      "execution_count": null,
      "outputs": [
        {
          "output_type": "stream",
          "text": [
            "The interecept of  for fatalities is: -0.05315709351049324\n"
          ],
          "name": "stdout"
        }
      ]
    }
  ]
}