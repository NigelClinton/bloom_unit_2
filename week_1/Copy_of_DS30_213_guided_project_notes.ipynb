{
  "nbformat": 4,
  "nbformat_minor": 0,
  "metadata": {
    "colab": {
      "name": "Copy of DS30_213-guided-project-notes.ipynb",
      "provenance": [],
      "collapsed_sections": []
    },
    "kernelspec": {
      "name": "python3",
      "display_name": "Python 3"
    }
  },
  "cells": [
    {
      "cell_type": "markdown",
      "metadata": {
        "id": "23i3MEg86Gsw"
      },
      "source": [
        "# OVERVIEW\n",
        "\n",
        "1. Announcements\n",
        "2. Recap\n",
        "3. Bias-variance tradeoff\n",
        "4. List comprehension\n",
        "5. One hot encoding\n",
        "6. Ridge regression\n",
        "7. Feature importances\n"
      ]
    },
    {
      "cell_type": "markdown",
      "metadata": {
        "id": "bIge6NQL5gCe"
      },
      "source": [
        "#What’s our goal for this guided project?\n",
        "* Improve our NYC rent model. \n",
        "#What are the core learning objectives that will allow us to meet that goal?\n",
        "* Do one-hot encoding of categorical features.\n",
        "* Use scikit-learn to fit a Ridge Regression model."
      ]
    },
    {
      "cell_type": "markdown",
      "metadata": {
        "id": "_eSKu5pt5msJ"
      },
      "source": [
        "#What’s my plan for today’s project?\n",
        "1. Perform EDA on our NYC rent data set\n",
        "2. One hot encode categorical features\n",
        "3. Build a ridge regression model\n",
        "#What else?\n",
        "* Review module project\n"
      ]
    },
    {
      "cell_type": "code",
      "metadata": {
        "id": "k0dvbuCzd5qK"
      },
      "source": [
        "# Model Building\n",
        "from sklearn.linear_model import LinearRegression, Ridge\n",
        "from sklearn.metrics import mean_absolute_error, mean_squared_error\n",
        "from sklearn.pipeline import make_pipeline\n",
        "import numpy as np\n",
        "import matplotlib.pyplot as plt\n",
        "import pandas as pd\n",
        "\n",
        "# For running this notebook either locally or in colab\n",
        "import sys"
      ],
      "execution_count": null,
      "outputs": []
    },
    {
      "cell_type": "code",
      "metadata": {
        "id": "wz7tyC22gLEA",
        "outputId": "b27825eb-c37d-4193-a5ad-11721a22e941",
        "colab": {
          "base_uri": "https://localhost:8080/"
        }
      },
      "source": [
        "# If you're on Colab:\n",
        "if 'google.colab' in sys.modules:\n",
        "    DATA_PATH = 'https://raw.githubusercontent.com/LambdaSchool/DS-Unit-2-Applied-Modeling/master/data/'\n",
        "    !pip install category_encoders==2.*\n",
        "\n",
        "# If you're working locally:\n",
        "else:\n",
        "    DATA_PATH = '../data/'"
      ],
      "execution_count": null,
      "outputs": [
        {
          "output_type": "stream",
          "text": [
            "Collecting category_encoders==2.*\n",
            "  Downloading category_encoders-2.2.2-py2.py3-none-any.whl (80 kB)\n",
            "\u001b[?25l\r\u001b[K     |████                            | 10 kB 19.7 MB/s eta 0:00:01\r\u001b[K     |████████▏                       | 20 kB 24.1 MB/s eta 0:00:01\r\u001b[K     |████████████▏                   | 30 kB 14.2 MB/s eta 0:00:01\r\u001b[K     |████████████████▎               | 40 kB 10.8 MB/s eta 0:00:01\r\u001b[K     |████████████████████▎           | 51 kB 6.7 MB/s eta 0:00:01\r\u001b[K     |████████████████████████▍       | 61 kB 7.5 MB/s eta 0:00:01\r\u001b[K     |████████████████████████████▍   | 71 kB 7.3 MB/s eta 0:00:01\r\u001b[K     |████████████████████████████████| 80 kB 3.4 MB/s \n",
            "\u001b[?25hRequirement already satisfied: numpy>=1.14.0 in /usr/local/lib/python3.7/dist-packages (from category_encoders==2.*) (1.19.5)\n",
            "Requirement already satisfied: pandas>=0.21.1 in /usr/local/lib/python3.7/dist-packages (from category_encoders==2.*) (1.1.5)\n",
            "Requirement already satisfied: scikit-learn>=0.20.0 in /usr/local/lib/python3.7/dist-packages (from category_encoders==2.*) (0.22.2.post1)\n",
            "Requirement already satisfied: statsmodels>=0.9.0 in /usr/local/lib/python3.7/dist-packages (from category_encoders==2.*) (0.10.2)\n",
            "Requirement already satisfied: scipy>=1.0.0 in /usr/local/lib/python3.7/dist-packages (from category_encoders==2.*) (1.4.1)\n",
            "Requirement already satisfied: patsy>=0.5.1 in /usr/local/lib/python3.7/dist-packages (from category_encoders==2.*) (0.5.1)\n",
            "Requirement already satisfied: python-dateutil>=2.7.3 in /usr/local/lib/python3.7/dist-packages (from pandas>=0.21.1->category_encoders==2.*) (2.8.1)\n",
            "Requirement already satisfied: pytz>=2017.2 in /usr/local/lib/python3.7/dist-packages (from pandas>=0.21.1->category_encoders==2.*) (2018.9)\n",
            "Requirement already satisfied: six in /usr/local/lib/python3.7/dist-packages (from patsy>=0.5.1->category_encoders==2.*) (1.15.0)\n",
            "Requirement already satisfied: joblib>=0.11 in /usr/local/lib/python3.7/dist-packages (from scikit-learn>=0.20.0->category_encoders==2.*) (1.0.1)\n",
            "Installing collected packages: category-encoders\n",
            "Successfully installed category-encoders-2.2.2\n"
          ],
          "name": "stdout"
        }
      ]
    },
    {
      "cell_type": "code",
      "metadata": {
        "id": "L_Z0Qn2p6mKi",
        "outputId": "338bc5e1-e317-4e4a-85f2-b718e5848181",
        "colab": {
          "base_uri": "https://localhost:8080/"
        }
      },
      "source": [
        "# For encoding categorical data\n",
        "from category_encoders import OneHotEncoder"
      ],
      "execution_count": null,
      "outputs": [
        {
          "output_type": "stream",
          "text": [
            "/usr/local/lib/python3.7/dist-packages/statsmodels/tools/_testing.py:19: FutureWarning: pandas.util.testing is deprecated. Use the functions in the public API at pandas.testing instead.\n",
            "  import pandas.util.testing as tm\n"
          ],
          "name": "stderr"
        }
      ]
    },
    {
      "cell_type": "markdown",
      "metadata": {
        "id": "c9XvBGFMguJ1"
      },
      "source": [
        "# NYC Rent\n",
        "\n",
        "**GOAL:** Improve our model for predicting NYC rent prices.\n",
        "\n",
        "**Objectives**\n",
        "\n",
        "- Do one-hot encoding of categorical features\n",
        "- Do univariate feature selection\n",
        "- Use scikit-learn to fit Ridge Regression models"
      ]
    },
    {
      "cell_type": "markdown",
      "metadata": {
        "id": "0kaV7oNahJLj"
      },
      "source": [
        "# I. Wrangle Data"
      ]
    },
    {
      "cell_type": "markdown",
      "metadata": {
        "id": "iOecYDRyx5m-"
      },
      "source": [
        "Create **wrangle function** for **reproducibility**."
      ]
    },
    {
      "cell_type": "code",
      "metadata": {
        "id": "m9Dm3h3Ux5AI"
      },
      "source": [
        "def wrangle(filepath):\n",
        "  df = pd.read_csv(filepath, parse_dates=['created'],index_col='created')\n",
        "  \n",
        "  # Remove outlier observations\n",
        "  df = df[(df['price'] >= np.percentile(df['price'], 0.05)) & \n",
        "          (df['price'] <= np.percentile(df['price'], 99.5)) & \n",
        "          (df['latitude'] >= np.percentile(df['latitude'], 0.05)) & \n",
        "          (df['latitude'] < np.percentile(df['latitude'], 99.95)) &\n",
        "          (df['longitude'] >= np.percentile(df['longitude'], 0.05)) & \n",
        "          (df['longitude'] <= np.percentile(df['longitude'], 99.95))]\n",
        "\n",
        "\n",
        "  #Remove high cardinal features\n",
        "  # threshold = 10\n",
        "  # cols_to_remove = []\n",
        "  # for cols in df.select_dtypes('object').columns:\n",
        "  #   if df[cols].nunique() > threshold:\n",
        "  #     cols_to_remove.append(cols)\n",
        "\n",
        "  # list comprehension - this condenses everything listed above\n",
        "  cols_to_remove = [cols for cols in df.select_dtypes('object').columns if df[cols].nunique() > (.75*len('created'))]\n",
        "  df.drop(columns=cols_to_remove,inplace=True)\n",
        "\n",
        "  return df\n",
        "\n",
        "df = wrangle(DATA_PATH+'apartments/renthop-nyc.csv')"
      ],
      "execution_count": null,
      "outputs": []
    },
    {
      "cell_type": "markdown",
      "metadata": {
        "id": "Fr-x5LJo0pRc"
      },
      "source": [
        "# II. Split Data\n",
        "\n",
        "Split **target vector** from **feature matrix**."
      ]
    },
    {
      "cell_type": "code",
      "metadata": {
        "id": "r2TXo5xLo662"
      },
      "source": [
        "target = 'price'\n",
        "\n",
        "y = df[target]\n",
        "X = df.drop(columns=target)"
      ],
      "execution_count": null,
      "outputs": []
    },
    {
      "cell_type": "markdown",
      "metadata": {
        "id": "ZMoRDMuT7A7q"
      },
      "source": [
        "Split data into **training** and **test** sets.\n",
        "\n",
        "(Use data from April & May 2016 to train. Use data from June 2016 to test.)"
      ]
    },
    {
      "cell_type": "code",
      "metadata": {
        "id": "7w92aZ7co9CA"
      },
      "source": [
        "# Create a cutoffdate for your mask\n",
        "cutoff = '2016-6-01'\n",
        "# Create a mask using the cutoff date\n",
        "mask = X.index < cutoff\n",
        "# Split the training data based on the cutoff date\n",
        "X_train, y_train = X.loc[mask], y.loc[mask]\n",
        "X_test, y_test = X.loc[~mask], y.loc[~mask]"
      ],
      "execution_count": null,
      "outputs": []
    },
    {
      "cell_type": "markdown",
      "metadata": {
        "id": "-x9lFKmupRWk"
      },
      "source": [
        "# III. Establish Baseline"
      ]
    },
    {
      "cell_type": "markdown",
      "metadata": {
        "id": "d1BOKNBc7Jnf"
      },
      "source": [
        "**Note:** This is a **regression** problem because we're predictiong the continuous value `'price'`."
      ]
    },
    {
      "cell_type": "code",
      "metadata": {
        "id": "-XNZHgf-7XQc",
        "colab": {
          "base_uri": "https://localhost:8080/"
        },
        "outputId": "e302a679-6cfe-47a8-b624-508d749d34d4"
      },
      "source": [
        "y_pred = [y_train.mean()] * len(y_train)\n",
        "print('Mean price by the baseline prediction:', y_train.mean())\n",
        "print('Baseline MAE:', mean_absolute_error(y_train,y_pred))\n",
        "print('Baseline RMSE:', mean_squared_error(y_train,y_pred,squared = False))"
      ],
      "execution_count": null,
      "outputs": [
        {
          "output_type": "stream",
          "text": [
            "Mean price by the baseline prediction: 3565.095561112848\n",
            "Baseline MAE: 1203.9726810650523\n",
            "Baseline RMSE: 1764.9257869773612\n"
          ],
          "name": "stdout"
        }
      ]
    },
    {
      "cell_type": "markdown",
      "metadata": {
        "id": "Xea7aFidqPoV"
      },
      "source": [
        "# IV. Build Models"
      ]
    },
    {
      "cell_type": "markdown",
      "metadata": {
        "id": "TFc7aAwylBwv"
      },
      "source": [
        "**Question:** How can we represent *categorical* features numerically so that we can use them to train our model?"
      ]
    },
    {
      "cell_type": "code",
      "metadata": {
        "id": "IKwppXfWIH_K",
        "colab": {
          "base_uri": "https://localhost:8080/"
        },
        "outputId": "2088665e-d724-440f-f028-ae00ea94571b"
      },
      "source": [
        "# Step 1: import OHE (already done as part of the header)\n",
        "\n",
        "# Step 2: instantiate your transformer\n",
        "ohe = OneHotEncoder(use_cat_names=True)\n",
        "\n",
        "# Step 3: Transform your data using the fit command\n",
        "ohe_fit = ohe.fit(X_train)\n",
        "XT_train = ohe.transform(X_train)\n",
        "XT_test = ohe.transform(X_test)"
      ],
      "execution_count": null,
      "outputs": [
        {
          "output_type": "stream",
          "text": [
            "/usr/local/lib/python3.7/dist-packages/category_encoders/utils.py:21: FutureWarning: is_categorical is deprecated and will be removed in a future version.  Use is_categorical_dtype instead\n",
            "  elif pd.api.types.is_categorical(cols):\n"
          ],
          "name": "stderr"
        }
      ]
    },
    {
      "cell_type": "markdown",
      "metadata": {
        "id": "35SyuZhQQqNu"
      },
      "source": [
        "**Model 1:** Regular ol' linear regression"
      ]
    },
    {
      "cell_type": "code",
      "metadata": {
        "id": "OOsVETc19TXY",
        "colab": {
          "base_uri": "https://localhost:8080/"
        },
        "outputId": "6e84cbb7-c00b-48ff-e364-691c769a965d"
      },
      "source": [
        "model_lr = LinearRegression()\n",
        "model_lr.fit(XT_train,y_train)"
      ],
      "execution_count": null,
      "outputs": [
        {
          "output_type": "execute_result",
          "data": {
            "text/plain": [
              "LinearRegression(copy_X=True, fit_intercept=True, n_jobs=None, normalize=False)"
            ]
          },
          "metadata": {
            "tags": []
          },
          "execution_count": 34
        }
      ]
    },
    {
      "cell_type": "markdown",
      "metadata": {
        "id": "gMjtQqeVQufl"
      },
      "source": [
        "**Model 2:** Ridge regression (regularization)"
      ]
    },
    {
      "cell_type": "code",
      "metadata": {
        "id": "ZRs-fAaeQt1e",
        "colab": {
          "base_uri": "https://localhost:8080/"
        },
        "outputId": "9e651b87-8394-46b3-f5a7-41a19e938a00"
      },
      "source": [
        "model_rr = Ridge()\n",
        "model_rr.fit(XT_train,y_train)"
      ],
      "execution_count": null,
      "outputs": [
        {
          "output_type": "execute_result",
          "data": {
            "text/plain": [
              "Ridge(alpha=1.0, copy_X=True, fit_intercept=True, max_iter=None,\n",
              "      normalize=False, random_state=None, solver='auto', tol=0.001)"
            ]
          },
          "metadata": {
            "tags": []
          },
          "execution_count": 39
        }
      ]
    },
    {
      "cell_type": "markdown",
      "metadata": {
        "id": "rHhIH6VE0iRH"
      },
      "source": [
        "# V. Check Metrics"
      ]
    },
    {
      "cell_type": "code",
      "metadata": {
        "id": "hDj8LEUVOdGs",
        "colab": {
          "base_uri": "https://localhost:8080/"
        },
        "outputId": "c0578bce-8697-40cd-819e-ea9b777d5599"
      },
      "source": [
        "print('Training MAE for LR:', mean_absolute_error(y_train,model_lr.predict(XT_train)))\n",
        "print('Training MAE for LR:', mean_absolute_error(y_test,model_lr.predict(XT_test)))"
      ],
      "execution_count": null,
      "outputs": [
        {
          "output_type": "stream",
          "text": [
            "Training MAE for LR: 672.5004620674722\n",
            "Training MAE for LR: 676.2468313173481\n"
          ],
          "name": "stdout"
        }
      ]
    },
    {
      "cell_type": "code",
      "metadata": {
        "id": "BXrqHj_lHPum",
        "colab": {
          "base_uri": "https://localhost:8080/"
        },
        "outputId": "bf4f201c-18d9-434e-c856-716ff989a19e"
      },
      "source": [
        "print('Training MAE for RR:', mean_absolute_error(y_train,model_rr.predict(XT_train)))\n",
        "print('Training MAE for RR:', mean_absolute_error(y_test,model_rr.predict(XT_test)))"
      ],
      "execution_count": null,
      "outputs": [
        {
          "output_type": "stream",
          "text": [
            "Training MAE for RR: 672.0351683623206\n",
            "Training MAE for RR: 675.6640925954118\n"
          ],
          "name": "stdout"
        }
      ]
    },
    {
      "cell_type": "markdown",
      "metadata": {
        "id": "uI9K2OXDWThQ"
      },
      "source": [
        "# Communicate results"
      ]
    },
    {
      "cell_type": "code",
      "metadata": {
        "id": "84xIPGtUBbsA"
      },
      "source": [
        "coef_lr = model_lr.coef_\n",
        "features = ohe.get_feature_names()\n",
        "feature_importance = pd.Series(coef_lr,index=features).sort_values()"
      ],
      "execution_count": null,
      "outputs": []
    },
    {
      "cell_type": "code",
      "metadata": {
        "id": "RcqrdVkHrdCT",
        "colab": {
          "base_uri": "https://localhost:8080/"
        },
        "outputId": "357fcaef-cf74-43b9-bfa0-b9df2fce5a89"
      },
      "source": [
        "feature_importance"
      ],
      "execution_count": null,
      "outputs": [
        {
          "output_type": "execute_result",
          "data": {
            "text/plain": [
              "longitude               -12915.376941\n",
              "interest_level_high       -303.748986\n",
              "high_speed_internet       -293.488210\n",
              "roof_deck                 -163.032592\n",
              "common_outdoor_space      -152.284943\n",
              "hardwood_floors           -140.466538\n",
              "new_construction          -132.712891\n",
              "laundry_in_building       -105.638776\n",
              "no_fee                    -102.749016\n",
              "interest_level_medium     -101.162520\n",
              "pre-war                    -90.163071\n",
              "outdoor_space              -79.714220\n",
              "balcony                    -44.895842\n",
              "garden_patio               -42.511372\n",
              "cats_allowed               -33.146061\n",
              "swimming_pool               55.900715\n",
              "dishwasher                  57.699454\n",
              "dogs_allowed                74.669721\n",
              "fitness_center             117.910595\n",
              "exclusive                  135.386653\n",
              "loft                       136.971673\n",
              "elevator                   147.633881\n",
              "wheelchair_access          174.125800\n",
              "terrace                    179.789849\n",
              "dining_room                257.826357\n",
              "interest_level_low         404.911506\n",
              "doorman                    427.362497\n",
              "laundry_in_unit            477.954766\n",
              "bedrooms                   491.075575\n",
              "latitude                  1170.511435\n",
              "bathrooms                 1702.981748\n",
              "dtype: float64"
            ]
          },
          "metadata": {
            "tags": []
          },
          "execution_count": 45
        }
      ]
    },
    {
      "cell_type": "code",
      "metadata": {
        "colab": {
          "base_uri": "https://localhost:8080/",
          "height": 265
        },
        "id": "aodU9lkoNXMI",
        "outputId": "85229ac7-3b46-4094-d284-836da1fe8d77"
      },
      "source": [
        "feature_importance.tail(10).plot(kind='barh')\n",
        "plt.show();"
      ],
      "execution_count": null,
      "outputs": [
        {
          "output_type": "display_data",
          "data": {
            "image/png": "[encoded data removed]",
            "text/plain": [
              "<Figure size 432x288 with 1 Axes>"
            ]
          },
          "metadata": {
            "tags": [],
            "needs_background": "light"
          }
        }
      ]
    },
    {
      "cell_type": "code",
      "metadata": {
        "id": "mEtOCm3oNwHn"
      },
      "source": [
        "coef_rr = model_rr.coef_\n",
        "features = ohe.get_feature_names()\n",
        "feature_importance = pd.Series(coef_rr,index=features).sort_values()"
      ],
      "execution_count": null,
      "outputs": []
    },
    {
      "cell_type": "code",
      "metadata": {
        "colab": {
          "base_uri": "https://localhost:8080/",
          "height": 265
        },
        "id": "hLgXpfG-N11B",
        "outputId": "871cd1e4-9889-460e-88b4-13a88b79cb47"
      },
      "source": [
        "feature_importance.tail(10).plot(kind='barh')\n",
        "plt.show();"
      ],
      "execution_count": null,
      "outputs": [
        {
          "output_type": "display_data",
          "data": {
            "image/png": "[encoded data removed]",
            "text/plain": [
              "<Figure size 432x288 with 1 Axes>"
            ]
          },
          "metadata": {
            "tags": [],
            "needs_background": "light"
          }
        }
      ]
    },
    {
      "cell_type": "code",
      "metadata": {
        "colab": {
          "base_uri": "https://localhost:8080/"
        },
        "id": "61jJ690iN4V0",
        "outputId": "b393f000-a4de-43c6-f048-a4fda0645a12"
      },
      "source": [
        "feature_importance"
      ],
      "execution_count": null,
      "outputs": [
        {
          "output_type": "execute_result",
          "data": {
            "text/plain": [
              "longitude               -12341.324027\n",
              "interest_level_high       -305.912742\n",
              "high_speed_internet       -292.268007\n",
              "roof_deck                 -162.527000\n",
              "common_outdoor_space      -147.996239\n",
              "hardwood_floors           -139.026401\n",
              "new_construction          -132.610812\n",
              "laundry_in_building       -104.371877\n",
              "no_fee                    -103.079348\n",
              "interest_level_medium     -100.826758\n",
              "pre-war                    -89.424380\n",
              "outdoor_space              -80.434796\n",
              "balcony                    -45.689928\n",
              "garden_patio               -42.728390\n",
              "cats_allowed               -35.257192\n",
              "swimming_pool               55.645884\n",
              "dishwasher                  60.163409\n",
              "dogs_allowed                78.026612\n",
              "fitness_center             120.623259\n",
              "exclusive                  132.059866\n",
              "loft                       140.603283\n",
              "elevator                   148.009338\n",
              "wheelchair_access          170.377839\n",
              "terrace                    181.605171\n",
              "dining_room                254.577898\n",
              "interest_level_low         406.739500\n",
              "doorman                    433.025498\n",
              "laundry_in_unit            479.917484\n",
              "bedrooms                   490.555221\n",
              "latitude                  1016.641870\n",
              "bathrooms                 1702.420972\n",
              "dtype: float64"
            ]
          },
          "metadata": {
            "tags": []
          },
          "execution_count": 49
        }
      ]
    }
  ]
}