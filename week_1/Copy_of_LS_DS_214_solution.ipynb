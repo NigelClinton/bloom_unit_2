{
  "nbformat": 4,
  "nbformat_minor": 0,
  "metadata": {
    "colab": {
      "name": "Copy of LS_DS_214_solution.ipynb",
      "provenance": [],
      "collapsed_sections": []
    },
    "kernelspec": {
      "display_name": "Python 3",
      "language": "python",
      "name": "python3"
    },
    "language_info": {
      "codemirror_mode": {
        "name": "ipython",
        "version": 3
      },
      "file_extension": ".py",
      "mimetype": "text/x-python",
      "name": "python",
      "nbconvert_exporter": "python",
      "pygments_lexer": "ipython3",
      "version": "3.8.5"
    }
  },
  "cells": [
    {
      "cell_type": "markdown",
      "metadata": {
        "id": "rvkRNq4wAxw1"
      },
      "source": [
        "Lambda School Data Science\n",
        "\n",
        "*Unit 2, Sprint 1, Module 4*\n",
        "\n",
        "---"
      ]
    },
    {
      "cell_type": "code",
      "metadata": {
        "id": "W2DyuwuPAxw2"
      },
      "source": [
        "%%capture\n",
        "import sys\n",
        "\n",
        "# If you're on Colab:\n",
        "if 'google.colab' in sys.modules:\n",
        "    DATA_PATH = 'https://raw.githubusercontent.com/LambdaSchool/DS-Unit-2-Linear-Models/master/data/'\n",
        "    !pip install category_encoders==2.*\n",
        "\n",
        "# If you're working locally:\n",
        "else:\n",
        "    DATA_PATH = '../data/'\n",
        "\n",
        "# Import Model Building libaries\n",
        "from sklearn.linear_model import LinearRegression, Ridge\n",
        "from sklearn.metrics import mean_absolute_error, mean_squared_error\n",
        "from sklearn.pipeline import make_pipeline\n",
        "from sklearn.model_selection import train_test_split\n",
        "from sklearn.preprocessing import StandardScaler\n",
        "import numpy as np\n",
        "import pandas as pd\n",
        "from sklearn.impute import SimpleImputer\n",
        "from sklearn.linear_model import LogisticRegression\n",
        "\n",
        "# Import libaries for encoding data\n",
        "from category_encoders import OneHotEncoder\n",
        "\n",
        "# Import Visualization libaries\n",
        "import matplotlib.pyplot as plt"
      ],
      "execution_count": null,
      "outputs": []
    },
    {
      "cell_type": "markdown",
      "metadata": {
        "id": "-O_6NCqlAxw3"
      },
      "source": [
        "# Module Project: Logistic Regression\n",
        "\n",
        "Do you like burritos? 🌯 You're in luck then, because in this project you'll create a model to predict whether a burrito is `'Great'`.\n",
        "\n",
        "The dataset for this assignment comes from [Scott Cole](https://srcole.github.io/100burritos/), a San Diego-based data scientist and burrito enthusiast. \n",
        "\n",
        "## Directions\n",
        "\n",
        "The tasks for this project are the following:\n",
        "\n",
        "- **Task 1:** Import `csv` file using `wrangle` function.\n",
        "- **Task 2:** Conduct exploratory data analysis (EDA), and modify `wrangle` function .\n",
        "- **Task 3:** Split data into feature matrix `X` and target vector `y`.\n",
        "- **Task 4:** Split feature matrix `X` and target vector `y` into training and test sets.\n",
        "- **Task 5:** Establish the baseline accuracy score for your dataset.\n",
        "- **Task 6:** Build `model_logr` using a pipeline that includes three transfomers and `LogisticRegression` predictor. Train model on `X_train` and `X_test`.\n",
        "- **Task 7:** Calculate the training and test accuracy score for your model.\n",
        "- **Task 8:** Create a horizontal bar chart showing the 10 most influencial features for your  model. \n",
        "- **Task 9:** Demonstrate and explain the differences between `model_lr.predict()` and `model_lr.predict_proba()`.\n",
        "\n",
        "**Note** \n",
        "\n",
        "You should limit yourself to the following libraries:\n",
        "\n",
        "- `category_encoders`\n",
        "- `matplotlib`\n",
        "- `pandas`\n",
        "- `sklearn`"
      ]
    },
    {
      "cell_type": "markdown",
      "metadata": {
        "id": "eNpwB9GtAxw4"
      },
      "source": [
        "# I. Wrangle Data"
      ]
    },
    {
      "cell_type": "code",
      "metadata": {
        "id": "hcaY0rD2Axw4"
      },
      "source": [
        "def wrangle(filepath):\n",
        "    # Import w/ DateTimeIndex\n",
        "    df = pd.read_csv(filepath, parse_dates=['Date'],\n",
        "                     index_col='Date')\n",
        "    \n",
        "    # Drop unrated burritos\n",
        "    df.dropna(subset=['overall'], inplace=True)\n",
        "    \n",
        "    # Derive binary classification target:\n",
        "    # We define a 'Great' burrito as having an\n",
        "    # overall rating of 4 or higher, on a 5 point scale\n",
        "    df['Great'] = (df['overall'] >= 4).astype(int)\n",
        "\n",
        "    # Function to replace space with nospace\n",
        "    def nospace(x):\n",
        "      return x.replace(\" \", \"\")\n",
        "    df = df.apply(nospace)\n",
        "\n",
        "    # function to replace all x with 0\n",
        "    def newx(x):\n",
        "      return x.replace(\"x\", \"0\")\n",
        "    df = df.apply(newx)\n",
        "\n",
        "    # function to replace all X with 1 \n",
        "    def new_x(x):\n",
        "      return x.replace(\"X\", \"1\")\n",
        "    df = df.apply(new_x)\n",
        "\n",
        "    # function to replace all No with 0\n",
        "    def new_n(x):\n",
        "      return x.replace(\"No\",\"0\")\n",
        "    df = df.apply(new_n)\n",
        "\n",
        "    # function to replace all Yes with 1\n",
        "    def new_y(x):\n",
        "      return x.replace(\"Yes\",\"1\")\n",
        "    df = df.apply(new_y)\n",
        "\n",
        "    # Columns for int conversion\n",
        "    cols_to_change = ['Chips','NonSD','Beef','Pico','Guac','Cheese','Fries','Sour cream','Pork','Shrimp','Rice','Beans','Tomato','Bell peper','Cabbage','Sauce','Salsa.1','Cilantro','Onion']\n",
        "\n",
        "    # function to replace all strings to int values\n",
        "    df[cols_to_change] = df[cols_to_change].applymap(lambda x: 1 if type(x) == str else 0)\n",
        "\n",
        "    # function to take all of the following's column and replace them with binary values, then convert it to an int\n",
        "    burrito_type = ['california','asada','surf','carnitas']\n",
        "    for b in burrito_type:\n",
        "      df[b] = df['Burrito'].str.lower().str.contains(b).astype(int)\n",
        "\n",
        "    # Drop columns that are going to mess with the model in some way\n",
        "    df = df.drop(columns=['Notes','Location','Address','URL','Neighborhood','Unreliable','Queso','Sushi','Chile relleno','Zucchini','Lobster','Bacon','Fish','Mushroom','Ham','Avocado','Chicken','Nopales','Avocado','Corn','Taquito','Egg','Pineapple','Carrots','Lettuce','Rec', 'overall','Burrito','Reviewer'])\n",
        "\n",
        "    return df\n",
        "\n",
        "filepath = DATA_PATH + 'burritos/burritos.csv'\n",
        "\n",
        "# Using the wrangle function created above to clean the dataset before training models\n",
        "df = wrangle(filepath)"
      ],
      "execution_count": null,
      "outputs": []
    },
    {
      "cell_type": "markdown",
      "metadata": {
        "id": "fWKnyUP7Axw4"
      },
      "source": [
        "**Task 1:** Use the above `wrangle` function to import the `burritos.csv` file into a DataFrame named `df`."
      ]
    },
    {
      "cell_type": "code",
      "metadata": {
        "id": "hxsNWSPpIMLY",
        "colab": {
          "base_uri": "https://localhost:8080/"
        },
        "outputId": "d8f3157b-7ec8-49e6-d91b-2ec161d3221e"
      },
      "source": [
        "# EDA\n",
        "df.columns"
      ],
      "execution_count": null,
      "outputs": [
        {
          "output_type": "execute_result",
          "data": {
            "text/plain": [
              "Index(['Yelp', 'Google', 'Chips', 'Cost', 'Hunger', 'Mass (g)',\n",
              "       'Density (g/mL)', 'Length', 'Circum', 'Volume', 'Tortilla', 'Temp',\n",
              "       'Meat', 'Fillings', 'Meat:filling', 'Uniformity', 'Salsa', 'Synergy',\n",
              "       'Wrap', 'NonSD', 'Beef', 'Pico', 'Guac', 'Cheese', 'Fries',\n",
              "       'Sour cream', 'Pork', 'Shrimp', 'Rice', 'Beans', 'Tomato', 'Bell peper',\n",
              "       'Cabbage', 'Sauce', 'Salsa.1', 'Cilantro', 'Onion', 'Great',\n",
              "       'california', 'asada', 'surf', 'carnitas'],\n",
              "      dtype='object')"
            ]
          },
          "metadata": {
            "tags": []
          },
          "execution_count": 79
        }
      ]
    },
    {
      "cell_type": "code",
      "metadata": {
        "id": "NJRUlksJlodP"
      },
      "source": [
        "# EDA\n",
        "df.info()"
      ],
      "execution_count": null,
      "outputs": []
    },
    {
      "cell_type": "code",
      "metadata": {
        "id": "lyaNdnIuaMpp"
      },
      "source": [
        "  threshold = .75*len('Year')\n",
        "  cols_to_drop = []\n",
        "  for cols in df.select_dtypes('object'):\n",
        "    if df[cols].nunique() > threshold:\n",
        "      cols_to_drop.append(cols)\n",
        "print('High Card:',cols_to_drop)\n",
        "print('---------------------------------------------------')\n",
        "print(df['Length'].value_counts())\n",
        "print('---------------------------------------------------')\n",
        "print(df['Google'].value_counts())\n",
        "print('---------------------------------------------------')\n",
        "print(df['Great'].value_counts())\n",
        "print('---------------------------------------------------')\n",
        "print(df['Tomato'].value_counts())\n",
        "print('---------------------------------------------------')\n",
        "print('Percentage of null values within dataset')\n",
        "print('===================================================')\n",
        "((df.isnull()).sum()*100/(len(df))).round(2)"
      ],
      "execution_count": null,
      "outputs": []
    },
    {
      "cell_type": "code",
      "metadata": {
        "id": "O6enekKdlxB7"
      },
      "source": [
        "# EDA\n",
        "df.head(10)"
      ],
      "execution_count": null,
      "outputs": []
    },
    {
      "cell_type": "markdown",
      "metadata": {
        "id": "EidRCLg9Axw5"
      },
      "source": [
        "During your exploratory data analysis, note that there are several columns whose data type is `object` but that seem to be a binary encoding. For example, `df['Beef'].head()` returns:\n",
        "\n",
        "```\n",
        "0      x\n",
        "1      x\n",
        "2    NaN\n",
        "3      x\n",
        "4      x\n",
        "Name: Beef, dtype: object\n",
        "```\n",
        "\n",
        "**Task 2:** Change the `wrangle` function so that these columns are properly encoded as `0` and `1`s. Be sure your code handles upper- and lowercase `X`s, and `NaN`s."
      ]
    },
    {
      "cell_type": "code",
      "metadata": {
        "id": "ox8FOuyFAxw5"
      },
      "source": [
        "# Conduct your exploratory data analysis here\n",
        "# And modify the `wrangle` function above."
      ],
      "execution_count": null,
      "outputs": []
    },
    {
      "cell_type": "markdown",
      "metadata": {
        "id": "ardYnGWLAxw6"
      },
      "source": [
        "If you explore the `'Burrito'` column of `df`, you'll notice that it's a high-cardinality categorical feature. You'll also notice that there's a lot of overlap between the categories. \n",
        "\n",
        "**Stretch Goal:** Change the `wrangle` function above so that it engineers four new features: `'california'`, `'asada'`, `'surf'`, and `'carnitas'`. Each row should have a `1` or `0` based on the text information in the `'Burrito'` column. For example, here's how the first 5 rows of the dataset would look.\n",
        "\n",
        "| **Burrito** | **california** | **asada** | **surf** | **carnitas** |\n",
        "| :---------- | :------------: | :-------: | :------: | :----------: |\n",
        "| California  |       1        |     0     |    0     |      0       |\n",
        "| California  |       1        |     0     |    0     |      0       |\n",
        "|  Carnitas   |       0        |     0     |    0     |      1       |\n",
        "| Carne asada |       0        |     1     |    0     |      0       |\n",
        "| California  |       1        |     0     |    0     |      0       |\n",
        "\n",
        "**Note:** Be sure to also drop the `'Burrito'` once you've engineered your new features."
      ]
    },
    {
      "cell_type": "code",
      "metadata": {
        "id": "eWgpYBGRAxw6"
      },
      "source": [
        "# Conduct your exploratory data analysis here\n",
        "# And modify the `wrangle` function above."
      ],
      "execution_count": null,
      "outputs": []
    },
    {
      "cell_type": "markdown",
      "metadata": {
        "id": "mbChoRm6Axw6"
      },
      "source": [
        "# II. Split Data\n",
        "\n",
        "**Task 3:** Split your dataset into the feature matrix `X` and the target vector `y`. You want to predict `'Great'`."
      ]
    },
    {
      "cell_type": "code",
      "metadata": {
        "id": "2h9MD9guAxw7"
      },
      "source": [
        "# Split your dataset into the feature matrix X and the target vector y. You want to predict 'Great'\n",
        "target='Great'\n",
        "X = df.drop(columns=target)\n",
        "y = df[target]"
      ],
      "execution_count": null,
      "outputs": []
    },
    {
      "cell_type": "markdown",
      "metadata": {
        "id": "iUBtXYxuAxw7"
      },
      "source": [
        "**Task 4:** Split `X` and `y` into a training set (`X_train`, `y_train`) and a test set (`X_test`, `y_test`).\n",
        "\n",
        "- Your training set should include data from 2016 through 2017. \n",
        "- Your test set should include data from 2018 and later."
      ]
    },
    {
      "cell_type": "code",
      "metadata": {
        "id": "yFRIi1G2Axw7"
      },
      "source": [
        "# Split X and y into a training set (X_train, y_train) and a test set (X_test, y_test)\n",
        "mask = X.index.year < 2018\n",
        "X_train, y_train = X.loc[mask], y.loc[mask]\n",
        "X_test, y_test = X.loc[~mask], y.loc[~mask]"
      ],
      "execution_count": null,
      "outputs": []
    },
    {
      "cell_type": "markdown",
      "metadata": {
        "id": "FL_-eQXcAxw7"
      },
      "source": [
        "# III. Establish Baseline\n",
        "\n",
        "**Task 5:** Since this is a **classification** problem, you should establish a baseline accuracy score. Figure out what is the majority class in `y_train` and what percentage of your training observations it represents. "
      ]
    },
    {
      "cell_type": "code",
      "metadata": {
        "id": "Tmt6wpbgAxw8",
        "colab": {
          "base_uri": "https://localhost:8080/"
        },
        "outputId": "94496495-dc0e-43f0-f069-0697217dd0f1"
      },
      "source": [
        "# Figure out what is the majority class in y_train and what percentage of your training observations it represents\n",
        "baseline_acc = y_train.value_counts(normalize=True)\n",
        "print('Baseline Accuracy Score:', baseline_acc.max())"
      ],
      "execution_count": null,
      "outputs": [
        {
          "output_type": "stream",
          "text": [
            "Baseline Accuracy Score: 0.5822454308093995\n"
          ],
          "name": "stdout"
        }
      ]
    },
    {
      "cell_type": "markdown",
      "metadata": {
        "id": "-XyPR3W2Axw8"
      },
      "source": [
        "# IV. Build Model\n",
        "\n",
        "**Task 6:** Build a `Pipeline` named `model_logr`, and fit it to your training data. Your pipeline should include:\n",
        "\n",
        "- a `OneHotEncoder` transformer for categorical features, \n",
        "- a `SimpleImputer` transformer to deal with missing values, \n",
        "- a [`StandarScaler`](https://scikit-learn.org/stable/modules/generated/sklearn.preprocessing.StandardScaler.html) transfomer (which often improves performance in a logistic regression model), and \n",
        "- a `LogisticRegression` predictor."
      ]
    },
    {
      "cell_type": "code",
      "metadata": {
        "id": "fUNKukb5Axw8",
        "colab": {
          "base_uri": "https://localhost:8080/"
        },
        "outputId": "888b3827-d12c-434b-93cc-86a8f8366fe7"
      },
      "source": [
        "# Build a Pipeline named model_logr, and fit it to your training data\n",
        "model_logr = make_pipeline(\n",
        "    OneHotEncoder(use_cat_names=True),\n",
        "    SimpleImputer(strategy='mean'),\n",
        "    StandardScaler(),\n",
        "    LogisticRegression()\n",
        ")\n",
        "model_logr.fit(X_train,y_train)"
      ],
      "execution_count": null,
      "outputs": [
        {
          "output_type": "stream",
          "text": [
            "/usr/local/lib/python3.7/dist-packages/category_encoders/utils.py:21: FutureWarning: is_categorical is deprecated and will be removed in a future version.  Use is_categorical_dtype instead\n",
            "  elif pd.api.types.is_categorical(cols):\n"
          ],
          "name": "stderr"
        },
        {
          "output_type": "execute_result",
          "data": {
            "text/plain": [
              "Pipeline(memory=None,\n",
              "         steps=[('onehotencoder',\n",
              "                 OneHotEncoder(cols=[], drop_invariant=False,\n",
              "                               handle_missing='value', handle_unknown='value',\n",
              "                               return_df=True, use_cat_names=True, verbose=0)),\n",
              "                ('simpleimputer',\n",
              "                 SimpleImputer(add_indicator=False, copy=True, fill_value=None,\n",
              "                               missing_values=nan, strategy='mean',\n",
              "                               verbose=0)),\n",
              "                ('standardscaler',\n",
              "                 StandardScaler(copy=True, with_mean=True, with_std=True)),\n",
              "                ('logisticregression',\n",
              "                 LogisticRegression(C=1.0, class_weight=None, dual=False,\n",
              "                                    fit_intercept=True, intercept_scaling=1,\n",
              "                                    l1_ratio=None, max_iter=100,\n",
              "                                    multi_class='auto', n_jobs=None,\n",
              "                                    penalty='l2', random_state=None,\n",
              "                                    solver='lbfgs', tol=0.0001, verbose=0,\n",
              "                                    warm_start=False))],\n",
              "         verbose=False)"
            ]
          },
          "metadata": {
            "tags": []
          },
          "execution_count": 51
        }
      ]
    },
    {
      "cell_type": "markdown",
      "metadata": {
        "id": "xTRNBfh-Axw8"
      },
      "source": [
        "# IV. Check Metrics\n",
        "\n",
        "**Task 7:** Calculate the training and test accuracy score for `model_lr`."
      ]
    },
    {
      "cell_type": "code",
      "metadata": {
        "id": "wUCk2BKTAxw8",
        "colab": {
          "base_uri": "https://localhost:8080/"
        },
        "outputId": "1ffcb2d3-02db-4a3b-9a14-f352b2efdb85"
      },
      "source": [
        "# Calculate the training and test accuracy score for model_logr\n",
        "training_acc = model_logr.score(X_train,y_train)\n",
        "test_acc = model_logr.score(X_test,y_test)\n",
        "\n",
        "# Print the results:\n",
        "print('Training Accuracy Score:', training_acc)\n",
        "print('===================================================')\n",
        "print('Test Accuracy Score:', test_acc)"
      ],
      "execution_count": null,
      "outputs": [
        {
          "output_type": "stream",
          "text": [
            "Training Accuracy Score: 0.8903394255874674\n",
            "===================================================\n",
            "Test Accuracy Score: 0.7368421052631579\n"
          ],
          "name": "stdout"
        }
      ]
    },
    {
      "cell_type": "markdown",
      "metadata": {
        "id": "pnWhyzztAxw9"
      },
      "source": [
        "# V. Communicate Results\n",
        "\n",
        "**Task 8:** Create a horizontal barchart that plots the 10 most important coefficients for `model_lr`, sorted by absolute value.\n",
        "\n",
        "**Note:** Since you created your model using a `Pipeline`, you'll need to use the [`named_steps`](https://scikit-learn.org/stable/modules/generated/sklearn.pipeline.Pipeline.html) attribute to access the coefficients in your `LogisticRegression` predictor. Be sure to look at the shape of the coefficients array before you combine it with the feature names."
      ]
    },
    {
      "cell_type": "code",
      "metadata": {
        "id": "csteYmcgAxw9",
        "colab": {
          "base_uri": "https://localhost:8080/",
          "height": 280
        },
        "outputId": "ebbab523-d6c9-44c9-e283-32e8879d2269"
      },
      "source": [
        "# Create your horizontal barchart here.\n",
        "coefficients = model_logr.named_steps['logisticregression'].coef_[0]\n",
        "features = model_logr.named_steps['onehotencoder'].get_feature_names()\n",
        "feat_imp = pd.Series(coefficients, index=features).sort_values()\n",
        "feat_imp.tail(10).plot(kind='barh')\n",
        "plt.title('Coefficients for Logistic Regression');"
      ],
      "execution_count": null,
      "outputs": [
        {
          "output_type": "display_data",
          "data": {
            "image/png": "[encoded data removed]",
            "text/plain": [
              "<Figure size 432x288 with 1 Axes>"
            ]
          },
          "metadata": {
            "tags": [],
            "needs_background": "light"
          }
        }
      ]
    },
    {
      "cell_type": "markdown",
      "metadata": {
        "id": "v0NcGgVbAxw9"
      },
      "source": [
        "There is more than one way to generate predictions with `model_lr`. For instance, you can use [`predict`](https://scikit-learn.org/stable/modules/generated/sklearn.linear_model.LogisticRegression.html?highlight=logisticregression) or [`predict_proba`](https://scikit-learn.org/stable/modules/generated/sklearn.linear_model.LogisticRegression.html?highlight=logisticregression#sklearn.linear_model.LogisticRegression.predict_proba).\n",
        "\n",
        "**Task 9:** Generate predictions for `X_test` using both `predict` and `predict_proba`. Then below, write a summary of the differences in the output for these two methods. You should answer the following questions:\n",
        "\n",
        "- What data type do `predict` and `predict_proba` output?\n",
        "- What are the shapes of their different output?\n",
        "- What numerical values are in the output?\n",
        "- What do those numerical values represent?"
      ]
    },
    {
      "cell_type": "code",
      "metadata": {
        "id": "YKL0MlztAxw9",
        "colab": {
          "base_uri": "https://localhost:8080/"
        },
        "outputId": "82279d1d-dc02-478c-b8c9-1902619cc630"
      },
      "source": [
        "# Write code here to explore the differences between `predict` and `predict_proba`.\n",
        "\n",
        "y_pred = model_logr.predict(X_test)\n",
        "y_preda = model_logr.predict_proba(X_test)\n",
        "\n",
        "print(y_pred)\n",
        "print('----------------------------------------------------------')\n",
        "print(y_preda)\n",
        "print('==========================================================')\n",
        "print(y_pred.shape)\n",
        "print('----------------------------------------------------------')\n",
        "print(y_preda.shape)"
      ],
      "execution_count": null,
      "outputs": [
        {
          "output_type": "stream",
          "text": [
            "[1 1 0 1 0 0 1 1 1 1 1 0 1 1 1 1 1 0 0 0 0 1 0 0 1 0 0 1 1 1 0 1 1 0 1 1 1\n",
            " 1]\n",
            "----------------------------------------------------------\n",
            "[[4.66170269e-05 9.99953383e-01]\n",
            " [1.47413290e-03 9.98525867e-01]\n",
            " [9.99672693e-01 3.27306804e-04]\n",
            " [1.95945292e-05 9.99980405e-01]\n",
            " [9.99146929e-01 8.53070856e-04]\n",
            " [8.39026291e-01 1.60973709e-01]\n",
            " [2.00687744e-02 9.79931226e-01]\n",
            " [2.23523264e-04 9.99776477e-01]\n",
            " [1.44017844e-01 8.55982156e-01]\n",
            " [7.12300930e-02 9.28769907e-01]\n",
            " [3.27568306e-01 6.72431694e-01]\n",
            " [9.52006063e-01 4.79939372e-02]\n",
            " [1.35353013e-01 8.64646987e-01]\n",
            " [2.15113285e-01 7.84886715e-01]\n",
            " [1.45011607e-01 8.54988393e-01]\n",
            " [4.00914547e-02 9.59908545e-01]\n",
            " [5.81450151e-02 9.41854985e-01]\n",
            " [9.94516250e-01 5.48375027e-03]\n",
            " [9.98540407e-01 1.45959300e-03]\n",
            " [9.94701424e-01 5.29857620e-03]\n",
            " [9.90706606e-01 9.29339411e-03]\n",
            " [2.04518684e-02 9.79548132e-01]\n",
            " [8.80847705e-01 1.19152295e-01]\n",
            " [6.92317967e-01 3.07682033e-01]\n",
            " [2.41372758e-01 7.58627242e-01]\n",
            " [9.51321857e-01 4.86781429e-02]\n",
            " [9.46116237e-01 5.38837629e-02]\n",
            " [1.18349824e-05 9.99988165e-01]\n",
            " [3.88765521e-02 9.61123448e-01]\n",
            " [4.98816123e-03 9.95011839e-01]\n",
            " [9.08100465e-01 9.18995352e-02]\n",
            " [2.13830338e-01 7.86169662e-01]\n",
            " [4.07252721e-02 9.59274728e-01]\n",
            " [9.87165961e-01 1.28340388e-02]\n",
            " [2.34641404e-01 7.65358596e-01]\n",
            " [2.79594210e-01 7.20405790e-01]\n",
            " [2.09116587e-04 9.99790883e-01]\n",
            " [1.97590935e-02 9.80240907e-01]]\n",
            "==========================================================\n",
            "(38,)\n",
            "----------------------------------------------------------\n",
            "(38, 2)\n"
          ],
          "name": "stdout"
        }
      ]
    },
    {
      "cell_type": "markdown",
      "metadata": {
        "id": "wC53XsTnAxw9"
      },
      "source": [
        "**Give your written answer here:**\n",
        "\n",
        "```\n",
        "- What data type do `predict` and `predict_proba` output?\n",
        "* The output is a numpy array\n",
        "\n",
        "- What are the shapes of their different output?\n",
        "* y_pred - 38,0\n",
        "* y_preda - 38,2\n",
        "\n",
        "- What numerical values are in the output?\n",
        "*Binary output that shows if a burrito is great or not\n",
        "\n",
        "- What do those numerical values represent?\n",
        "*The proability % of the output\n",
        "```"
      ]
    }
  ]
}