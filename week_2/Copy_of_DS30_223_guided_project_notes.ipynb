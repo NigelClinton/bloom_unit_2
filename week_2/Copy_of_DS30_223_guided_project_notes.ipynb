{
 "cells": [
  {
   "cell_type": "markdown",
   "metadata": {
    "id": "NvWhcow-dvS8"
   },
   "source": [
    "# Cross-Validation\n",
    "\n",
    "- Do **k-fold cross-validation** with independent test set\n",
    "- Use scikit-learn for **hyperparameter optimization**"
   ]
  },
  {
   "cell_type": "code",
   "execution_count": null,
   "metadata": {
    "id": "HRgkCSgGdty-"
   },
   "outputs": [],
   "source": [
    "!pip install category_encoders==2.*"
   ]
  },
  {
   "cell_type": "code",
   "execution_count": 28,
   "metadata": {
    "id": "HF70Jp0x4NJU"
   },
   "outputs": [],
   "source": [
    "from category_encoders import OrdinalEncoder\n",
    "from sklearn.ensemble import RandomForestClassifier\n",
    "from sklearn.model_selection import train_test_split\n",
    "from sklearn.metrics import accuracy_score\n",
    "from sklearn.impute import SimpleImputer\n",
    "from sklearn.model_selection import cross_val_score, validation_curve # k-fold CV\n",
    "from sklearn.model_selection import GridSearchCV, RandomizedSearchCV # Hyperparameter tuning\n",
    "from sklearn.pipeline import make_pipeline\n",
    "from sklearn.tree import DecisionTreeClassifier\n",
    "import numpy as np\n",
    "import pandas as pd\n",
    "import matplotlib.pyplot as plt\n",
    "import warnings\n",
    "import seaborn as sns\n",
    "warnings.simplefilter(action='ignore', category=FutureWarning)\n",
    "pd.set_option('display.max_columns', 50)"
   ]
  },
  {
   "cell_type": "markdown",
   "metadata": {
    "id": "oCBYPw7kd1AN"
   },
   "source": [
    "# I. Wrangle Data"
   ]
  },
  {
   "cell_type": "code",
   "execution_count": 85,
   "metadata": {
    "id": "jaXMenXoZ0D6"
   },
   "outputs": [],
   "source": [
    "# Use wrangle function to import training and test data, and clean\n",
    "def wrangle(fm_path, tv_path=None):\n",
    "    if tv_path:\n",
    "        df = pd.merge(pd.read_csv(fm_path, \n",
    "                                  na_values=[0, -2.000000e-08]),\n",
    "                      pd.read_csv(tv_path)).set_index('id')\n",
    "    else:\n",
    "        df = pd.read_csv(fm_path, \n",
    "                         na_values=[0, -2.000000e-08],\n",
    "                         index_col='id')\n",
    "\n",
    "    df['date_recorded'] = pd.to_datetime(df['date_recorded'])\n",
    "    \n",
    "    # Drop constant columns\n",
    "    df.drop(columns=['recorded_by'], inplace=True)\n",
    "    \n",
    "    # Create age feature\n",
    "    df['pump_age'] = df['date_recorded'].dt.year - df['construction_year']\n",
    "    df.drop(columns=['date_recorded','construction_year'], inplace=True)\n",
    "    \n",
    "    # Drop HCCCs\n",
    "    cutoff = 100\n",
    "    drop_cols = [col for col in df.select_dtypes('object').columns\n",
    "                 if df[col].nunique() > cutoff]\n",
    "    df.drop(columns=drop_cols, inplace=True)\n",
    "\n",
    "    # Drop duplicate columns\n",
    "    dupe_cols = [col for col in df.head(15).T.duplicated().index\n",
    "                 if df.head(15).T.duplicated()[col]]\n",
    "    df.drop(columns=dupe_cols, inplace=True)             \n",
    "\n",
    "\n",
    "    return df\n",
    "\n",
    "# Using the above wrangle function to read train_features.csv and train_labels.csv into the DataFrame\n",
    "df = wrangle(fm_path= 'train_features.csv',\n",
    "             tv_path= 'train_labels.csv')\n",
    "\n",
    "# test_features.csv into the DataFrame X_test\n",
    "X_test = wrangle(fm_path= 'test_features.csv')"
   ]
  },
  {
   "cell_type": "markdown",
   "metadata": {
    "id": "jetWccxMqmzY"
   },
   "source": [
    "# II. Split Data"
   ]
  },
  {
   "cell_type": "markdown",
   "metadata": {
    "id": "y-MPA0qlr-mK"
   },
   "source": [
    "## Split TV from FM"
   ]
  },
  {
   "cell_type": "code",
   "execution_count": 86,
   "metadata": {},
   "outputs": [
    {
     "data": {
      "text/plain": [
       "Index(['amount_tsh', 'gps_height', 'longitude', 'latitude', 'num_private',\n",
       "       'basin', 'region', 'region_code', 'district_code', 'population',\n",
       "       'public_meeting', 'scheme_management', 'permit', 'extraction_type',\n",
       "       'extraction_type_class', 'management', 'management_group', 'payment',\n",
       "       'payment_type', 'water_quality', 'quality_group', 'quantity', 'source',\n",
       "       'source_type', 'source_class', 'waterpoint_type', 'status_group',\n",
       "       'pump_age'],\n",
       "      dtype='object')"
      ]
     },
     "execution_count": 86,
     "metadata": {},
     "output_type": "execute_result"
    }
   ],
   "source": [
    "df.columns"
   ]
  },
  {
   "cell_type": "code",
   "execution_count": 87,
   "metadata": {},
   "outputs": [
    {
     "data": {
      "text/html": [
       "<div>\n",
       "<style scoped>\n",
       "    .dataframe tbody tr th:only-of-type {\n",
       "        vertical-align: middle;\n",
       "    }\n",
       "\n",
       "    .dataframe tbody tr th {\n",
       "        vertical-align: top;\n",
       "    }\n",
       "\n",
       "    .dataframe thead th {\n",
       "        text-align: right;\n",
       "    }\n",
       "</style>\n",
       "<table border=\"1\" class=\"dataframe\">\n",
       "  <thead>\n",
       "    <tr style=\"text-align: right;\">\n",
       "      <th></th>\n",
       "      <th>amount_tsh</th>\n",
       "      <th>gps_height</th>\n",
       "      <th>longitude</th>\n",
       "      <th>latitude</th>\n",
       "      <th>num_private</th>\n",
       "      <th>basin</th>\n",
       "      <th>region</th>\n",
       "      <th>region_code</th>\n",
       "      <th>district_code</th>\n",
       "      <th>population</th>\n",
       "      <th>public_meeting</th>\n",
       "      <th>scheme_management</th>\n",
       "      <th>permit</th>\n",
       "      <th>extraction_type</th>\n",
       "      <th>extraction_type_class</th>\n",
       "      <th>management</th>\n",
       "      <th>management_group</th>\n",
       "      <th>payment</th>\n",
       "      <th>payment_type</th>\n",
       "      <th>water_quality</th>\n",
       "      <th>quality_group</th>\n",
       "      <th>quantity</th>\n",
       "      <th>source</th>\n",
       "      <th>source_type</th>\n",
       "      <th>source_class</th>\n",
       "      <th>waterpoint_type</th>\n",
       "      <th>status_group</th>\n",
       "      <th>pump_age</th>\n",
       "    </tr>\n",
       "    <tr>\n",
       "      <th>id</th>\n",
       "      <th></th>\n",
       "      <th></th>\n",
       "      <th></th>\n",
       "      <th></th>\n",
       "      <th></th>\n",
       "      <th></th>\n",
       "      <th></th>\n",
       "      <th></th>\n",
       "      <th></th>\n",
       "      <th></th>\n",
       "      <th></th>\n",
       "      <th></th>\n",
       "      <th></th>\n",
       "      <th></th>\n",
       "      <th></th>\n",
       "      <th></th>\n",
       "      <th></th>\n",
       "      <th></th>\n",
       "      <th></th>\n",
       "      <th></th>\n",
       "      <th></th>\n",
       "      <th></th>\n",
       "      <th></th>\n",
       "      <th></th>\n",
       "      <th></th>\n",
       "      <th></th>\n",
       "      <th></th>\n",
       "      <th></th>\n",
       "    </tr>\n",
       "  </thead>\n",
       "  <tbody>\n",
       "    <tr>\n",
       "      <th>454.0</th>\n",
       "      <td>50.0</td>\n",
       "      <td>2092.0</td>\n",
       "      <td>35.426020</td>\n",
       "      <td>-4.227446</td>\n",
       "      <td>NaN</td>\n",
       "      <td>Internal</td>\n",
       "      <td>Manyara</td>\n",
       "      <td>21</td>\n",
       "      <td>1.0</td>\n",
       "      <td>160.0</td>\n",
       "      <td>True</td>\n",
       "      <td>Water Board</td>\n",
       "      <td>True</td>\n",
       "      <td>gravity</td>\n",
       "      <td>gravity</td>\n",
       "      <td>water board</td>\n",
       "      <td>user-group</td>\n",
       "      <td>pay per bucket</td>\n",
       "      <td>per bucket</td>\n",
       "      <td>soft</td>\n",
       "      <td>good</td>\n",
       "      <td>insufficient</td>\n",
       "      <td>spring</td>\n",
       "      <td>spring</td>\n",
       "      <td>groundwater</td>\n",
       "      <td>communal standpipe</td>\n",
       "      <td>functional</td>\n",
       "      <td>15.0</td>\n",
       "    </tr>\n",
       "    <tr>\n",
       "      <th>510.0</th>\n",
       "      <td>NaN</td>\n",
       "      <td>NaN</td>\n",
       "      <td>35.510074</td>\n",
       "      <td>-5.724555</td>\n",
       "      <td>NaN</td>\n",
       "      <td>Internal</td>\n",
       "      <td>Dodoma</td>\n",
       "      <td>1</td>\n",
       "      <td>6.0</td>\n",
       "      <td>NaN</td>\n",
       "      <td>True</td>\n",
       "      <td>VWC</td>\n",
       "      <td>True</td>\n",
       "      <td>india mark ii</td>\n",
       "      <td>handpump</td>\n",
       "      <td>vwc</td>\n",
       "      <td>user-group</td>\n",
       "      <td>never pay</td>\n",
       "      <td>never pay</td>\n",
       "      <td>soft</td>\n",
       "      <td>good</td>\n",
       "      <td>enough</td>\n",
       "      <td>shallow well</td>\n",
       "      <td>shallow well</td>\n",
       "      <td>groundwater</td>\n",
       "      <td>hand pump</td>\n",
       "      <td>functional</td>\n",
       "      <td>NaN</td>\n",
       "    </tr>\n",
       "    <tr>\n",
       "      <th>14146.0</th>\n",
       "      <td>NaN</td>\n",
       "      <td>NaN</td>\n",
       "      <td>32.499866</td>\n",
       "      <td>-9.081222</td>\n",
       "      <td>NaN</td>\n",
       "      <td>Lake Rukwa</td>\n",
       "      <td>Mbeya</td>\n",
       "      <td>12</td>\n",
       "      <td>6.0</td>\n",
       "      <td>NaN</td>\n",
       "      <td>True</td>\n",
       "      <td>VWC</td>\n",
       "      <td>False</td>\n",
       "      <td>other</td>\n",
       "      <td>other</td>\n",
       "      <td>vwc</td>\n",
       "      <td>user-group</td>\n",
       "      <td>never pay</td>\n",
       "      <td>never pay</td>\n",
       "      <td>soft</td>\n",
       "      <td>good</td>\n",
       "      <td>enough</td>\n",
       "      <td>shallow well</td>\n",
       "      <td>shallow well</td>\n",
       "      <td>groundwater</td>\n",
       "      <td>other</td>\n",
       "      <td>non functional</td>\n",
       "      <td>NaN</td>\n",
       "    </tr>\n",
       "    <tr>\n",
       "      <th>47410.0</th>\n",
       "      <td>NaN</td>\n",
       "      <td>NaN</td>\n",
       "      <td>34.060484</td>\n",
       "      <td>-8.830208</td>\n",
       "      <td>NaN</td>\n",
       "      <td>Rufiji</td>\n",
       "      <td>Mbeya</td>\n",
       "      <td>12</td>\n",
       "      <td>7.0</td>\n",
       "      <td>NaN</td>\n",
       "      <td>True</td>\n",
       "      <td>VWC</td>\n",
       "      <td>True</td>\n",
       "      <td>gravity</td>\n",
       "      <td>gravity</td>\n",
       "      <td>vwc</td>\n",
       "      <td>user-group</td>\n",
       "      <td>pay monthly</td>\n",
       "      <td>monthly</td>\n",
       "      <td>soft</td>\n",
       "      <td>good</td>\n",
       "      <td>insufficient</td>\n",
       "      <td>river</td>\n",
       "      <td>river/lake</td>\n",
       "      <td>surface</td>\n",
       "      <td>communal standpipe</td>\n",
       "      <td>non functional</td>\n",
       "      <td>NaN</td>\n",
       "    </tr>\n",
       "    <tr>\n",
       "      <th>1288.0</th>\n",
       "      <td>300.0</td>\n",
       "      <td>1023.0</td>\n",
       "      <td>37.032690</td>\n",
       "      <td>-6.040787</td>\n",
       "      <td>NaN</td>\n",
       "      <td>Wami / Ruvu</td>\n",
       "      <td>Morogoro</td>\n",
       "      <td>5</td>\n",
       "      <td>1.0</td>\n",
       "      <td>120.0</td>\n",
       "      <td>True</td>\n",
       "      <td>VWC</td>\n",
       "      <td>True</td>\n",
       "      <td>other</td>\n",
       "      <td>other</td>\n",
       "      <td>vwc</td>\n",
       "      <td>user-group</td>\n",
       "      <td>pay when scheme fails</td>\n",
       "      <td>on failure</td>\n",
       "      <td>salty</td>\n",
       "      <td>salty</td>\n",
       "      <td>enough</td>\n",
       "      <td>shallow well</td>\n",
       "      <td>shallow well</td>\n",
       "      <td>groundwater</td>\n",
       "      <td>other</td>\n",
       "      <td>non functional</td>\n",
       "      <td>14.0</td>\n",
       "    </tr>\n",
       "    <tr>\n",
       "      <th>...</th>\n",
       "      <td>...</td>\n",
       "      <td>...</td>\n",
       "      <td>...</td>\n",
       "      <td>...</td>\n",
       "      <td>...</td>\n",
       "      <td>...</td>\n",
       "      <td>...</td>\n",
       "      <td>...</td>\n",
       "      <td>...</td>\n",
       "      <td>...</td>\n",
       "      <td>...</td>\n",
       "      <td>...</td>\n",
       "      <td>...</td>\n",
       "      <td>...</td>\n",
       "      <td>...</td>\n",
       "      <td>...</td>\n",
       "      <td>...</td>\n",
       "      <td>...</td>\n",
       "      <td>...</td>\n",
       "      <td>...</td>\n",
       "      <td>...</td>\n",
       "      <td>...</td>\n",
       "      <td>...</td>\n",
       "      <td>...</td>\n",
       "      <td>...</td>\n",
       "      <td>...</td>\n",
       "      <td>...</td>\n",
       "      <td>...</td>\n",
       "    </tr>\n",
       "    <tr>\n",
       "      <th>68525.0</th>\n",
       "      <td>1000.0</td>\n",
       "      <td>327.0</td>\n",
       "      <td>36.367112</td>\n",
       "      <td>-8.774761</td>\n",
       "      <td>NaN</td>\n",
       "      <td>Rufiji</td>\n",
       "      <td>Morogoro</td>\n",
       "      <td>5</td>\n",
       "      <td>4.0</td>\n",
       "      <td>255.0</td>\n",
       "      <td>True</td>\n",
       "      <td>Water Board</td>\n",
       "      <td>True</td>\n",
       "      <td>gravity</td>\n",
       "      <td>gravity</td>\n",
       "      <td>wug</td>\n",
       "      <td>user-group</td>\n",
       "      <td>pay monthly</td>\n",
       "      <td>monthly</td>\n",
       "      <td>soft</td>\n",
       "      <td>good</td>\n",
       "      <td>enough</td>\n",
       "      <td>river</td>\n",
       "      <td>river/lake</td>\n",
       "      <td>surface</td>\n",
       "      <td>communal standpipe</td>\n",
       "      <td>functional</td>\n",
       "      <td>16.0</td>\n",
       "    </tr>\n",
       "    <tr>\n",
       "      <th>11980.0</th>\n",
       "      <td>1000.0</td>\n",
       "      <td>1743.0</td>\n",
       "      <td>34.531524</td>\n",
       "      <td>-9.769604</td>\n",
       "      <td>NaN</td>\n",
       "      <td>Lake Nyasa</td>\n",
       "      <td>Iringa</td>\n",
       "      <td>11</td>\n",
       "      <td>5.0</td>\n",
       "      <td>35.0</td>\n",
       "      <td>True</td>\n",
       "      <td>VWC</td>\n",
       "      <td>False</td>\n",
       "      <td>gravity</td>\n",
       "      <td>gravity</td>\n",
       "      <td>vwc</td>\n",
       "      <td>user-group</td>\n",
       "      <td>pay annually</td>\n",
       "      <td>annually</td>\n",
       "      <td>soft</td>\n",
       "      <td>good</td>\n",
       "      <td>seasonal</td>\n",
       "      <td>spring</td>\n",
       "      <td>spring</td>\n",
       "      <td>groundwater</td>\n",
       "      <td>communal standpipe</td>\n",
       "      <td>functional</td>\n",
       "      <td>23.0</td>\n",
       "    </tr>\n",
       "    <tr>\n",
       "      <th>35778.0</th>\n",
       "      <td>NaN</td>\n",
       "      <td>-13.0</td>\n",
       "      <td>38.974416</td>\n",
       "      <td>-5.420823</td>\n",
       "      <td>NaN</td>\n",
       "      <td>Pangani</td>\n",
       "      <td>Tanga</td>\n",
       "      <td>4</td>\n",
       "      <td>5.0</td>\n",
       "      <td>1000.0</td>\n",
       "      <td>False</td>\n",
       "      <td>Private operator</td>\n",
       "      <td>False</td>\n",
       "      <td>other</td>\n",
       "      <td>other</td>\n",
       "      <td>private operator</td>\n",
       "      <td>commercial</td>\n",
       "      <td>never pay</td>\n",
       "      <td>never pay</td>\n",
       "      <td>soft</td>\n",
       "      <td>good</td>\n",
       "      <td>insufficient</td>\n",
       "      <td>shallow well</td>\n",
       "      <td>shallow well</td>\n",
       "      <td>groundwater</td>\n",
       "      <td>other</td>\n",
       "      <td>non functional</td>\n",
       "      <td>6.0</td>\n",
       "    </tr>\n",
       "    <tr>\n",
       "      <th>49444.0</th>\n",
       "      <td>NaN</td>\n",
       "      <td>NaN</td>\n",
       "      <td>34.316586</td>\n",
       "      <td>-3.107161</td>\n",
       "      <td>NaN</td>\n",
       "      <td>Lake Victoria</td>\n",
       "      <td>Shinyanga</td>\n",
       "      <td>17</td>\n",
       "      <td>6.0</td>\n",
       "      <td>NaN</td>\n",
       "      <td>True</td>\n",
       "      <td>WUG</td>\n",
       "      <td>True</td>\n",
       "      <td>nira/tanira</td>\n",
       "      <td>handpump</td>\n",
       "      <td>wug</td>\n",
       "      <td>user-group</td>\n",
       "      <td>never pay</td>\n",
       "      <td>never pay</td>\n",
       "      <td>soft</td>\n",
       "      <td>good</td>\n",
       "      <td>enough</td>\n",
       "      <td>shallow well</td>\n",
       "      <td>shallow well</td>\n",
       "      <td>groundwater</td>\n",
       "      <td>hand pump</td>\n",
       "      <td>functional</td>\n",
       "      <td>NaN</td>\n",
       "    </tr>\n",
       "    <tr>\n",
       "      <th>23812.0</th>\n",
       "      <td>NaN</td>\n",
       "      <td>1290.0</td>\n",
       "      <td>37.626401</td>\n",
       "      <td>-3.211457</td>\n",
       "      <td>NaN</td>\n",
       "      <td>Pangani</td>\n",
       "      <td>Kilimanjaro</td>\n",
       "      <td>3</td>\n",
       "      <td>1.0</td>\n",
       "      <td>1.0</td>\n",
       "      <td>True</td>\n",
       "      <td>Company</td>\n",
       "      <td>True</td>\n",
       "      <td>gravity</td>\n",
       "      <td>gravity</td>\n",
       "      <td>company</td>\n",
       "      <td>commercial</td>\n",
       "      <td>pay monthly</td>\n",
       "      <td>monthly</td>\n",
       "      <td>soft</td>\n",
       "      <td>good</td>\n",
       "      <td>enough</td>\n",
       "      <td>spring</td>\n",
       "      <td>spring</td>\n",
       "      <td>groundwater</td>\n",
       "      <td>communal standpipe multiple</td>\n",
       "      <td>non functional</td>\n",
       "      <td>37.0</td>\n",
       "    </tr>\n",
       "  </tbody>\n",
       "</table>\n",
       "<p>47519 rows × 28 columns</p>\n",
       "</div>"
      ],
      "text/plain": [
       "         amount_tsh  gps_height  longitude  latitude  num_private  \\\n",
       "id                                                                  \n",
       "454.0          50.0      2092.0  35.426020 -4.227446          NaN   \n",
       "510.0           NaN         NaN  35.510074 -5.724555          NaN   \n",
       "14146.0         NaN         NaN  32.499866 -9.081222          NaN   \n",
       "47410.0         NaN         NaN  34.060484 -8.830208          NaN   \n",
       "1288.0        300.0      1023.0  37.032690 -6.040787          NaN   \n",
       "...             ...         ...        ...       ...          ...   \n",
       "68525.0      1000.0       327.0  36.367112 -8.774761          NaN   \n",
       "11980.0      1000.0      1743.0  34.531524 -9.769604          NaN   \n",
       "35778.0         NaN       -13.0  38.974416 -5.420823          NaN   \n",
       "49444.0         NaN         NaN  34.316586 -3.107161          NaN   \n",
       "23812.0         NaN      1290.0  37.626401 -3.211457          NaN   \n",
       "\n",
       "                 basin       region  region_code  district_code  population  \\\n",
       "id                                                                            \n",
       "454.0         Internal      Manyara           21            1.0       160.0   \n",
       "510.0         Internal       Dodoma            1            6.0         NaN   \n",
       "14146.0     Lake Rukwa        Mbeya           12            6.0         NaN   \n",
       "47410.0         Rufiji        Mbeya           12            7.0         NaN   \n",
       "1288.0     Wami / Ruvu     Morogoro            5            1.0       120.0   \n",
       "...                ...          ...          ...            ...         ...   \n",
       "68525.0         Rufiji     Morogoro            5            4.0       255.0   \n",
       "11980.0     Lake Nyasa       Iringa           11            5.0        35.0   \n",
       "35778.0        Pangani        Tanga            4            5.0      1000.0   \n",
       "49444.0  Lake Victoria    Shinyanga           17            6.0         NaN   \n",
       "23812.0        Pangani  Kilimanjaro            3            1.0         1.0   \n",
       "\n",
       "        public_meeting scheme_management permit extraction_type  \\\n",
       "id                                                                \n",
       "454.0             True       Water Board   True         gravity   \n",
       "510.0             True               VWC   True   india mark ii   \n",
       "14146.0           True               VWC  False           other   \n",
       "47410.0           True               VWC   True         gravity   \n",
       "1288.0            True               VWC   True           other   \n",
       "...                ...               ...    ...             ...   \n",
       "68525.0           True       Water Board   True         gravity   \n",
       "11980.0           True               VWC  False         gravity   \n",
       "35778.0          False  Private operator  False           other   \n",
       "49444.0           True               WUG   True     nira/tanira   \n",
       "23812.0           True           Company   True         gravity   \n",
       "\n",
       "        extraction_type_class        management management_group  \\\n",
       "id                                                                 \n",
       "454.0                 gravity       water board       user-group   \n",
       "510.0                handpump               vwc       user-group   \n",
       "14146.0                 other               vwc       user-group   \n",
       "47410.0               gravity               vwc       user-group   \n",
       "1288.0                  other               vwc       user-group   \n",
       "...                       ...               ...              ...   \n",
       "68525.0               gravity               wug       user-group   \n",
       "11980.0               gravity               vwc       user-group   \n",
       "35778.0                 other  private operator       commercial   \n",
       "49444.0              handpump               wug       user-group   \n",
       "23812.0               gravity           company       commercial   \n",
       "\n",
       "                       payment payment_type water_quality quality_group  \\\n",
       "id                                                                        \n",
       "454.0           pay per bucket   per bucket          soft          good   \n",
       "510.0                never pay    never pay          soft          good   \n",
       "14146.0              never pay    never pay          soft          good   \n",
       "47410.0            pay monthly      monthly          soft          good   \n",
       "1288.0   pay when scheme fails   on failure         salty         salty   \n",
       "...                        ...          ...           ...           ...   \n",
       "68525.0            pay monthly      monthly          soft          good   \n",
       "11980.0           pay annually     annually          soft          good   \n",
       "35778.0              never pay    never pay          soft          good   \n",
       "49444.0              never pay    never pay          soft          good   \n",
       "23812.0            pay monthly      monthly          soft          good   \n",
       "\n",
       "             quantity        source   source_type source_class  \\\n",
       "id                                                               \n",
       "454.0    insufficient        spring        spring  groundwater   \n",
       "510.0          enough  shallow well  shallow well  groundwater   \n",
       "14146.0        enough  shallow well  shallow well  groundwater   \n",
       "47410.0  insufficient         river    river/lake      surface   \n",
       "1288.0         enough  shallow well  shallow well  groundwater   \n",
       "...               ...           ...           ...          ...   \n",
       "68525.0        enough         river    river/lake      surface   \n",
       "11980.0      seasonal        spring        spring  groundwater   \n",
       "35778.0  insufficient  shallow well  shallow well  groundwater   \n",
       "49444.0        enough  shallow well  shallow well  groundwater   \n",
       "23812.0        enough        spring        spring  groundwater   \n",
       "\n",
       "                     waterpoint_type    status_group  pump_age  \n",
       "id                                                              \n",
       "454.0             communal standpipe      functional      15.0  \n",
       "510.0                      hand pump      functional       NaN  \n",
       "14146.0                        other  non functional       NaN  \n",
       "47410.0           communal standpipe  non functional       NaN  \n",
       "1288.0                         other  non functional      14.0  \n",
       "...                              ...             ...       ...  \n",
       "68525.0           communal standpipe      functional      16.0  \n",
       "11980.0           communal standpipe      functional      23.0  \n",
       "35778.0                        other  non functional       6.0  \n",
       "49444.0                    hand pump      functional       NaN  \n",
       "23812.0  communal standpipe multiple  non functional      37.0  \n",
       "\n",
       "[47519 rows x 28 columns]"
      ]
     },
     "execution_count": 87,
     "metadata": {},
     "output_type": "execute_result"
    }
   ],
   "source": [
    "df"
   ]
  },
  {
   "cell_type": "code",
   "execution_count": 88,
   "metadata": {},
   "outputs": [
    {
     "data": {
      "text/plain": [
       "amount_tsh               70.14\n",
       "gps_height               34.25\n",
       "longitude                 3.02\n",
       "latitude                  3.02\n",
       "num_private              98.70\n",
       "basin                     0.00\n",
       "region                    0.00\n",
       "region_code               0.00\n",
       "district_code             0.04\n",
       "population               35.87\n",
       "public_meeting            5.66\n",
       "scheme_management         6.53\n",
       "permit                    5.13\n",
       "extraction_type           0.00\n",
       "extraction_type_class     0.00\n",
       "management                0.00\n",
       "management_group          0.00\n",
       "payment                   0.00\n",
       "payment_type              0.00\n",
       "water_quality             0.00\n",
       "quality_group             0.00\n",
       "quantity                  0.00\n",
       "source                    0.00\n",
       "source_type               0.00\n",
       "source_class              0.00\n",
       "waterpoint_type           0.00\n",
       "status_group              0.00\n",
       "pump_age                 34.73\n",
       "dtype: float64"
      ]
     },
     "execution_count": 88,
     "metadata": {},
     "output_type": "execute_result"
    }
   ],
   "source": [
    "round(df.isnull().sum()/len(df)*100,2)"
   ]
  },
  {
   "cell_type": "code",
   "execution_count": 29,
   "metadata": {},
   "outputs": [
    {
     "data": {
      "text/html": [
       "<div>\n",
       "<style scoped>\n",
       "    .dataframe tbody tr th:only-of-type {\n",
       "        vertical-align: middle;\n",
       "    }\n",
       "\n",
       "    .dataframe tbody tr th {\n",
       "        vertical-align: top;\n",
       "    }\n",
       "\n",
       "    .dataframe thead th {\n",
       "        text-align: right;\n",
       "    }\n",
       "</style>\n",
       "<table border=\"1\" class=\"dataframe\">\n",
       "  <thead>\n",
       "    <tr style=\"text-align: right;\">\n",
       "      <th></th>\n",
       "      <th>amount_tsh</th>\n",
       "      <th>gps_height</th>\n",
       "      <th>longitude</th>\n",
       "      <th>latitude</th>\n",
       "      <th>region_code</th>\n",
       "      <th>population</th>\n",
       "      <th>pump_age</th>\n",
       "    </tr>\n",
       "  </thead>\n",
       "  <tbody>\n",
       "    <tr>\n",
       "      <th>amount_tsh</th>\n",
       "      <td>1.000000</td>\n",
       "      <td>0.059626</td>\n",
       "      <td>-0.036765</td>\n",
       "      <td>-0.030419</td>\n",
       "      <td>-0.038344</td>\n",
       "      <td>-0.001729</td>\n",
       "      <td>0.021589</td>\n",
       "    </tr>\n",
       "    <tr>\n",
       "      <th>gps_height</th>\n",
       "      <td>0.059626</td>\n",
       "      <td>1.000000</td>\n",
       "      <td>-0.572844</td>\n",
       "      <td>0.281433</td>\n",
       "      <td>-0.322055</td>\n",
       "      <td>-0.036637</td>\n",
       "      <td>0.023007</td>\n",
       "    </tr>\n",
       "    <tr>\n",
       "      <th>longitude</th>\n",
       "      <td>-0.036765</td>\n",
       "      <td>-0.572844</td>\n",
       "      <td>1.000000</td>\n",
       "      <td>-0.300245</td>\n",
       "      <td>0.149095</td>\n",
       "      <td>-0.097179</td>\n",
       "      <td>-0.035064</td>\n",
       "    </tr>\n",
       "    <tr>\n",
       "      <th>latitude</th>\n",
       "      <td>-0.030419</td>\n",
       "      <td>0.281433</td>\n",
       "      <td>-0.300245</td>\n",
       "      <td>1.000000</td>\n",
       "      <td>-0.245281</td>\n",
       "      <td>0.048344</td>\n",
       "      <td>-0.019061</td>\n",
       "    </tr>\n",
       "    <tr>\n",
       "      <th>region_code</th>\n",
       "      <td>-0.038344</td>\n",
       "      <td>-0.322055</td>\n",
       "      <td>0.149095</td>\n",
       "      <td>-0.245281</td>\n",
       "      <td>1.000000</td>\n",
       "      <td>0.080257</td>\n",
       "      <td>0.020465</td>\n",
       "    </tr>\n",
       "    <tr>\n",
       "      <th>population</th>\n",
       "      <td>-0.001729</td>\n",
       "      <td>-0.036637</td>\n",
       "      <td>-0.097179</td>\n",
       "      <td>0.048344</td>\n",
       "      <td>0.080257</td>\n",
       "      <td>1.000000</td>\n",
       "      <td>-0.027999</td>\n",
       "    </tr>\n",
       "    <tr>\n",
       "      <th>pump_age</th>\n",
       "      <td>0.021589</td>\n",
       "      <td>0.023007</td>\n",
       "      <td>-0.035064</td>\n",
       "      <td>-0.019061</td>\n",
       "      <td>0.020465</td>\n",
       "      <td>-0.027999</td>\n",
       "      <td>1.000000</td>\n",
       "    </tr>\n",
       "  </tbody>\n",
       "</table>\n",
       "</div>"
      ],
      "text/plain": [
       "             amount_tsh  gps_height  longitude  latitude  region_code  \\\n",
       "amount_tsh     1.000000    0.059626  -0.036765 -0.030419    -0.038344   \n",
       "gps_height     0.059626    1.000000  -0.572844  0.281433    -0.322055   \n",
       "longitude     -0.036765   -0.572844   1.000000 -0.300245     0.149095   \n",
       "latitude      -0.030419    0.281433  -0.300245  1.000000    -0.245281   \n",
       "region_code   -0.038344   -0.322055   0.149095 -0.245281     1.000000   \n",
       "population    -0.001729   -0.036637  -0.097179  0.048344     0.080257   \n",
       "pump_age       0.021589    0.023007  -0.035064 -0.019061     0.020465   \n",
       "\n",
       "             population  pump_age  \n",
       "amount_tsh    -0.001729  0.021589  \n",
       "gps_height    -0.036637  0.023007  \n",
       "longitude     -0.097179 -0.035064  \n",
       "latitude       0.048344 -0.019061  \n",
       "region_code    0.080257  0.020465  \n",
       "population     1.000000 -0.027999  \n",
       "pump_age      -0.027999  1.000000  "
      ]
     },
     "execution_count": 29,
     "metadata": {},
     "output_type": "execute_result"
    }
   ],
   "source": [
    "df.corr()"
   ]
  },
  {
   "cell_type": "code",
   "execution_count": 40,
   "metadata": {},
   "outputs": [
    {
     "data": {
      "text/plain": [
       "never pay     20318\n",
       "per bucket     7223\n",
       "monthly        6574\n",
       "unknown        6520\n",
       "on failure     3154\n",
       "annually       2886\n",
       "other           844\n",
       "Name: payment_type, dtype: int64"
      ]
     },
     "execution_count": 40,
     "metadata": {},
     "output_type": "execute_result"
    }
   ],
   "source": [
    "df['payment_type'].value_counts()"
   ]
  },
  {
   "cell_type": "code",
   "execution_count": 39,
   "metadata": {},
   "outputs": [
    {
     "data": {
      "text/plain": [
       "never pay                20318\n",
       "pay per bucket            7223\n",
       "pay monthly               6574\n",
       "unknown                   6520\n",
       "pay when scheme fails     3154\n",
       "pay annually              2886\n",
       "other                      844\n",
       "Name: payment, dtype: int64"
      ]
     },
     "execution_count": 39,
     "metadata": {},
     "output_type": "execute_result"
    }
   ],
   "source": [
    "df['payment'].value_counts()"
   ]
  },
  {
   "cell_type": "code",
   "execution_count": 4,
   "metadata": {
    "id": "r1tp2pnxqUvB"
   },
   "outputs": [],
   "source": [
    "target = 'status_group'\n",
    "y = df[target]\n",
    "X = df.drop(columns=target)"
   ]
  },
  {
   "cell_type": "markdown",
   "metadata": {},
   "source": [
    "# Create train-validation split to compare with train-val process"
   ]
  },
  {
   "cell_type": "code",
   "execution_count": 5,
   "metadata": {},
   "outputs": [],
   "source": [
    "X_train,y_val,y_train,y_val = train_test_split(X,y,test_size=.2,random_state=42)"
   ]
  },
  {
   "cell_type": "markdown",
   "metadata": {
    "id": "n8jSWomGsLsw"
   },
   "source": [
    "# Training-Validation Split\n",
    "\n",
    "- Since we're doing k-fold CV, there's no need for a validation set."
   ]
  },
  {
   "cell_type": "code",
   "execution_count": null,
   "metadata": {
    "id": "eDRiZ0XReG7b"
   },
   "outputs": [],
   "source": []
  },
  {
   "cell_type": "markdown",
   "metadata": {
    "id": "WX9uvMMgs6J_"
   },
   "source": [
    "# III. Establish Baseline\n",
    "\n",
    "This is a **classification** problem, our baseline will be **accuracy**. "
   ]
  },
  {
   "cell_type": "code",
   "execution_count": 6,
   "metadata": {
    "id": "bXLLxnTDs328"
   },
   "outputs": [
    {
     "name": "stdout",
     "output_type": "stream",
     "text": [
      "Baseline accuracy: 0.5425489938182296\n"
     ]
    }
   ],
   "source": [
    "baseline_Acc = y_train.value_counts(normalize=True).max()\n",
    "print('Baseline accuracy:',baseline_Acc)"
   ]
  },
  {
   "cell_type": "markdown",
   "metadata": {
    "id": "MA19NsrFtgTT"
   },
   "source": [
    "# IV. Build Models\n",
    "\n",
    "- `DecisionTreeClassifier`\n",
    "- `RandomForestClassifier`"
   ]
  },
  {
   "cell_type": "code",
   "execution_count": 6,
   "metadata": {
    "id": "YwlI3IpGlqSU"
   },
   "outputs": [
    {
     "data": {
      "text/plain": [
       "Pipeline(steps=[('ordinalencoder',\n",
       "                 OrdinalEncoder(cols=['basin', 'region', 'public_meeting',\n",
       "                                      'scheme_management', 'permit',\n",
       "                                      'extraction_type',\n",
       "                                      'extraction_type_class', 'management',\n",
       "                                      'management_group', 'payment',\n",
       "                                      'payment_type', 'water_quality',\n",
       "                                      'quality_group', 'quantity', 'source',\n",
       "                                      'source_type', 'source_class',\n",
       "                                      'waterpoint_type'],\n",
       "                                mapping=[{'col': 'basin',\n",
       "                                          'data_typ...\n",
       "                                          'data_type': dtype('O'),\n",
       "                                          'mapping': groundwater    1\n",
       "surface        2\n",
       "unknown        3\n",
       "NaN           -2\n",
       "dtype: int64},\n",
       "                                         {'col': 'waterpoint_type',\n",
       "                                          'data_type': dtype('O'),\n",
       "                                          'mapping': hand pump                      1\n",
       "communal standpipe             2\n",
       "communal standpipe multiple    3\n",
       "improved spring                4\n",
       "other                          5\n",
       "cattle trough                  6\n",
       "dam                            7\n",
       "NaN                           -2\n",
       "dtype: int64}])),\n",
       "                ('simpleimputer', SimpleImputer()),\n",
       "                ('decisiontreeclassifier',\n",
       "                 DecisionTreeClassifier(random_state=42))])"
      ]
     },
     "execution_count": 6,
     "metadata": {},
     "output_type": "execute_result"
    }
   ],
   "source": [
    "model_dt = make_pipeline(OrdinalEncoder(),\n",
    "                        SimpleImputer(strategy='mean'),\n",
    "                        DecisionTreeClassifier(random_state=42))\n",
    "model_dt.fit(X_train,y_train)"
   ]
  },
  {
   "cell_type": "code",
   "execution_count": 7,
   "metadata": {},
   "outputs": [
    {
     "data": {
      "text/plain": [
       "Pipeline(steps=[('ordinalencoder',\n",
       "                 OrdinalEncoder(cols=['basin', 'region', 'public_meeting',\n",
       "                                      'scheme_management', 'permit',\n",
       "                                      'extraction_type',\n",
       "                                      'extraction_type_class', 'management',\n",
       "                                      'management_group', 'payment',\n",
       "                                      'payment_type', 'water_quality',\n",
       "                                      'quality_group', 'quantity', 'source',\n",
       "                                      'source_type', 'source_class',\n",
       "                                      'waterpoint_type'],\n",
       "                                mapping=[{'col': 'basin',\n",
       "                                          'data_typ...\n",
       "                                          'data_type': dtype('O'),\n",
       "                                          'mapping': groundwater    1\n",
       "surface        2\n",
       "unknown        3\n",
       "NaN           -2\n",
       "dtype: int64},\n",
       "                                         {'col': 'waterpoint_type',\n",
       "                                          'data_type': dtype('O'),\n",
       "                                          'mapping': hand pump                      1\n",
       "communal standpipe             2\n",
       "communal standpipe multiple    3\n",
       "improved spring                4\n",
       "other                          5\n",
       "cattle trough                  6\n",
       "dam                            7\n",
       "NaN                           -2\n",
       "dtype: int64}])),\n",
       "                ('simpleimputer', SimpleImputer()),\n",
       "                ('randomforestclassifier',\n",
       "                 RandomForestClassifier(n_jobs=-1, random_state=42))])"
      ]
     },
     "execution_count": 7,
     "metadata": {},
     "output_type": "execute_result"
    }
   ],
   "source": [
    "model_rf = make_pipeline(OrdinalEncoder(),\n",
    "                         SimpleImputer(strategy='mean'),\n",
    "                         RandomForestClassifier(n_jobs=-1,\n",
    "                                                random_state=42))\n",
    "\n",
    "model_rf.fit(X_train,y_train)"
   ]
  },
  {
   "cell_type": "markdown",
   "metadata": {
    "id": "Gib6HYcSi0so"
   },
   "source": [
    "### Train_Test_Split scores (can't be compared to CV scores)"
   ]
  },
  {
   "cell_type": "markdown",
   "metadata": {},
   "source": [
    "# DT Accuracy"
   ]
  },
  {
   "cell_type": "code",
   "execution_count": null,
   "metadata": {},
   "outputs": [],
   "source": [
    "training_acc = accuracy_score(y_train,model_dt.predict(X_train))\n",
    "val_acc = accuracy_score(y_val,model_dt.predict(X_val))\n",
    "\n",
    "print('Training Accuracy Score:', training_acc)\n",
    "print('Validation Accuracy Score:', val_acc)"
   ]
  },
  {
   "cell_type": "markdown",
   "metadata": {},
   "source": [
    "# RF Accuracy"
   ]
  },
  {
   "cell_type": "code",
   "execution_count": null,
   "metadata": {},
   "outputs": [],
   "source": [
    "training_acc = accuracy_score(y_train,model_rf.predict(X_train))\n",
    "val_acc = accuracy_score(y_val,model_rf.predict(X_val))\n",
    "\n",
    "print('Training Accuracy Score:', training_acc)\n",
    "print('Validation Accuracy Score:', val_acc)"
   ]
  },
  {
   "cell_type": "markdown",
   "metadata": {},
   "source": [
    "# CV Score for DT"
   ]
  },
  {
   "cell_type": "code",
   "execution_count": 7,
   "metadata": {},
   "outputs": [
    {
     "ename": "NameError",
     "evalue": "name 'model_dt' is not defined",
     "output_type": "error",
     "traceback": [
      "\u001b[1;31m---------------------------------------------------------------------------\u001b[0m",
      "\u001b[1;31mNameError\u001b[0m                                 Traceback (most recent call last)",
      "\u001b[1;32m~\\AppData\\Local\\Temp/ipykernel_9696/762462371.py\u001b[0m in \u001b[0;36m<module>\u001b[1;34m\u001b[0m\n\u001b[1;32m----> 1\u001b[1;33m \u001b[0mcv_scores_dt\u001b[0m \u001b[1;33m=\u001b[0m \u001b[0mcross_val_score\u001b[0m\u001b[1;33m(\u001b[0m\u001b[0mmodel_dt\u001b[0m\u001b[1;33m,\u001b[0m\u001b[0mX\u001b[0m\u001b[1;33m,\u001b[0m\u001b[0my\u001b[0m\u001b[1;33m,\u001b[0m\u001b[0mcv\u001b[0m\u001b[1;33m=\u001b[0m\u001b[1;36m5\u001b[0m\u001b[1;33m)\u001b[0m\u001b[1;33m\u001b[0m\u001b[1;33m\u001b[0m\u001b[0m\n\u001b[0m",
      "\u001b[1;31mNameError\u001b[0m: name 'model_dt' is not defined"
     ]
    }
   ],
   "source": [
    "cv_scores_dt = cross_val_score(model_dt,X,y,cv=5)"
   ]
  },
  {
   "cell_type": "code",
   "execution_count": null,
   "metadata": {},
   "outputs": [],
   "source": [
    "print('CV score for Decision Tree')\n",
    "print(cv_scores_dt)\n",
    "print('-------------------------------------------------------')\n",
    "print('The mean CV accuracy for DT is:',cv_scores_dt.mean())\n",
    "print('-------------------------------------------------------')\n",
    "print('The mean CV std deviation for DT is:',cv_scores_dt.std())"
   ]
  },
  {
   "cell_type": "markdown",
   "metadata": {},
   "source": [
    "# CV Score for RF"
   ]
  },
  {
   "cell_type": "code",
   "execution_count": null,
   "metadata": {},
   "outputs": [],
   "source": [
    "cv_scores_rf = cross_val_score(model_rf,X,y,cv=5, n_jobs=-1)"
   ]
  },
  {
   "cell_type": "code",
   "execution_count": null,
   "metadata": {},
   "outputs": [],
   "source": [
    "print('CV score for Random Forest')\n",
    "print(cv_scores_rf)\n",
    "print('-------------------------------------------------------')\n",
    "print('The mean CV accuracy for RF is:',cv_scores_rf.mean())\n",
    "print('-------------------------------------------------------')\n",
    "print('The mean CV std deviation for RF is:',cv_scores_rf.std())"
   ]
  },
  {
   "cell_type": "markdown",
   "metadata": {
    "id": "l96Atv4REyH3"
   },
   "source": [
    "**Check cross-validation scores**\n",
    "\n",
    "![Cross Validation](https://upload.wikimedia.org/wikipedia/commons/4/4b/KfoldCV.gif)"
   ]
  },
  {
   "cell_type": "markdown",
   "metadata": {
    "id": "RNHrlq7zA0kM"
   },
   "source": [
    "# V. Tune Model\n",
    "\n",
    "- What are important hyperparameters for `RandomForestClassifier`?\n",
    "  - `max_depth`: 5-35\n",
    "  - `n_estimators` 25-100\n",
    "  - imputation strategy"
   ]
  },
  {
   "cell_type": "code",
   "execution_count": 19,
   "metadata": {
    "id": "1fLsM-Z-lDe5"
   },
   "outputs": [],
   "source": [
    "clf = make_pipeline(OrdinalEncoder(),\n",
    "                    SimpleImputer(),\n",
    "                    RandomForestClassifier(random_state=42,n_jobs=-1))\n",
    "\n",
    "param_grid = {'simpleimputer__strategy':['meadian','mean'],\n",
    "             'randomforestclassifier__max_depth':range(5,35,5),\n",
    "             'randomforestclassifier__n_estimators':range(25,200,5),\n",
    "             'randomforestclassifier__max_samples':np.arange(0.2,1,0.1),\n",
    "             'randomforestclassifier__max_features':['sqrt','log2'],\n",
    "             'randomforestclassifier__min_samples_split':np.arange(2, 10, 1),\n",
    "             'randomforestclassifier__class_weight':['balanced',None,'balanced_subsample'],\n",
    "             'randomforestclassifier__criterion':['gini','entropy'],\n",
    "             'randomforestclassifier__warm_start':[False,True],\n",
    "             'randomforestclassifier__oob_score':[False,True],\n",
    "             'randomforestclassifier__bootstrap':[False,True]}"
   ]
  },
  {
   "cell_type": "markdown",
   "metadata": {
    "id": "SRL-I2ensgom"
   },
   "source": [
    "**`GridSearch`:** Very thourough, but it can take a long time.\n",
    "\n",
    "Test out every single combination of hyperparameters that we provide it\n",
    "**and** it's going to use cross-validation."
   ]
  },
  {
   "cell_type": "code",
   "execution_count": null,
   "metadata": {
    "id": "AVtzRXnRnRkm",
    "scrolled": true
   },
   "outputs": [
    {
     "name": "stdout",
     "output_type": "stream",
     "text": [
      "Fitting 5 folds for each of 107520 candidates, totalling 537600 fits\n"
     ]
    }
   ],
   "source": [
    "model_rfgs = GridSearchCV(clf,\n",
    "                        param_grid = param_grid,\n",
    "                        n_jobs=-1,\n",
    "                        verbose=1)\n",
    "model_rfgs.fit(X,y)"
   ]
  },
  {
   "cell_type": "code",
   "execution_count": null,
   "metadata": {
    "id": "n5Y2piNYsp_b"
   },
   "outputs": [],
   "source": [
    "model_rfgs.best_params_"
   ]
  },
  {
   "cell_type": "code",
   "execution_count": null,
   "metadata": {},
   "outputs": [],
   "source": [
    "print('The Best Accuracy score for the grid search is:',model_rfgs.best_score_)"
   ]
  },
  {
   "cell_type": "markdown",
   "metadata": {
    "id": "UPvNOV6Cw1Zl"
   },
   "source": [
    "**`RandomizedSearchCV`:** Quicker, less effective but usually good enough."
   ]
  },
  {
   "cell_type": "code",
   "execution_count": 66,
   "metadata": {},
   "outputs": [
    {
     "name": "stdout",
     "output_type": "stream",
     "text": [
      "Fitting 5 folds for each of 40 candidates, totalling 200 fits\n"
     ]
    },
    {
     "name": "stderr",
     "output_type": "stream",
     "text": [
      "c:\\users\\nigel\\appdata\\local\\programs\\python\\python39\\lib\\site-packages\\sklearn\\model_selection\\_search.py:922: UserWarning: One or more of the test scores are non-finite: [0.75296191 0.61592191 0.61697424        nan        nan        nan\n",
      " 0.75931729        nan 0.78667467        nan        nan        nan\n",
      "        nan 0.7912413  0.78520166        nan        nan        nan\n",
      "        nan 0.74898458        nan        nan 0.7124307         nan\n",
      "        nan 0.79753359 0.6176476         nan        nan        nan\n",
      " 0.72150083 0.79305114        nan        nan 0.78903174        nan\n",
      "        nan 0.78869506 0.78739026        nan]\n",
      "  warnings.warn(\n"
     ]
    },
    {
     "data": {
      "text/plain": [
       "RandomizedSearchCV(estimator=Pipeline(steps=[('ordinalencoder',\n",
       "                                              OrdinalEncoder()),\n",
       "                                             ('simpleimputer', SimpleImputer()),\n",
       "                                             ('randomforestclassifier',\n",
       "                                              RandomForestClassifier(n_jobs=-1,\n",
       "                                                                     random_state=42))]),\n",
       "                   n_iter=40, n_jobs=-1,\n",
       "                   param_distributions={'randomforestclassifier__bootstrap': [False,\n",
       "                                                                              True],\n",
       "                                        'randomforestclassifier__class_weight': ['balanced',\n",
       "                                                                                 None,\n",
       "                                                                                 'balanced_...\n",
       "                                        'randomforestclassifier__max_samples': array([0.2, 0.3, 0.4, 0.5, 0.6, 0.7, 0.8, 0.9]),\n",
       "                                        'randomforestclassifier__min_samples_split': array([2, 3, 4, 5, 6, 7, 8, 9]),\n",
       "                                        'randomforestclassifier__n_estimators': range(25, 200, 5),\n",
       "                                        'randomforestclassifier__oob_score': [False,\n",
       "                                                                              True],\n",
       "                                        'randomforestclassifier__warm_start': [False,\n",
       "                                                                               True],\n",
       "                                        'simpleimputer__strategy': ['meadian',\n",
       "                                                                    'mean']},\n",
       "                   verbose=1)"
      ]
     },
     "execution_count": 66,
     "metadata": {},
     "output_type": "execute_result"
    }
   ],
   "source": [
    "model_rfrs = RandomizedSearchCV(clf,\n",
    "                                param_distributions = param_grid,\n",
    "                               n_iter=40,\n",
    "                               n_jobs=-1,\n",
    "                               verbose=1)\n",
    "model_rfrs.fit(X,y)"
   ]
  },
  {
   "cell_type": "code",
   "execution_count": 67,
   "metadata": {},
   "outputs": [
    {
     "data": {
      "text/plain": [
       "{'simpleimputer__strategy': 'mean',\n",
       " 'randomforestclassifier__warm_start': False,\n",
       " 'randomforestclassifier__oob_score': False,\n",
       " 'randomforestclassifier__n_estimators': 125,\n",
       " 'randomforestclassifier__min_samples_split': 5,\n",
       " 'randomforestclassifier__max_samples': 0.6000000000000001,\n",
       " 'randomforestclassifier__max_features': 'sqrt',\n",
       " 'randomforestclassifier__max_depth': 25,\n",
       " 'randomforestclassifier__criterion': 'entropy',\n",
       " 'randomforestclassifier__class_weight': 'balanced_subsample',\n",
       " 'randomforestclassifier__bootstrap': True}"
      ]
     },
     "execution_count": 67,
     "metadata": {},
     "output_type": "execute_result"
    }
   ],
   "source": [
    "model_rfrs.best_params_"
   ]
  },
  {
   "cell_type": "code",
   "execution_count": 14,
   "metadata": {},
   "outputs": [
    {
     "ename": "NameError",
     "evalue": "name 'model_rfgs' is not defined",
     "output_type": "error",
     "traceback": [
      "\u001b[1;31m---------------------------------------------------------------------------\u001b[0m",
      "\u001b[1;31mNameError\u001b[0m                                 Traceback (most recent call last)",
      "\u001b[1;32m~\\AppData\\Local\\Temp/ipykernel_9696/912409240.py\u001b[0m in \u001b[0;36m<module>\u001b[1;34m\u001b[0m\n\u001b[1;32m----> 1\u001b[1;33m \u001b[0mprint\u001b[0m\u001b[1;33m(\u001b[0m\u001b[1;34m'The Best Accuracy score for the grid search is:'\u001b[0m\u001b[1;33m,\u001b[0m\u001b[0mmodel_rfgs\u001b[0m\u001b[1;33m.\u001b[0m\u001b[0mbest_score_\u001b[0m\u001b[1;33m)\u001b[0m\u001b[1;33m\u001b[0m\u001b[1;33m\u001b[0m\u001b[0m\n\u001b[0m",
      "\u001b[1;31mNameError\u001b[0m: name 'model_rfgs' is not defined"
     ]
    }
   ],
   "source": [
    "print('The Best Accuracy score for the grid search is:',model_rfgs.best_score_)"
   ]
  },
  {
   "cell_type": "code",
   "execution_count": 68,
   "metadata": {},
   "outputs": [
    {
     "name": "stdout",
     "output_type": "stream",
     "text": [
      "The Best Accuracy score for the grid search is: 0.7975335894282543\n"
     ]
    }
   ],
   "source": [
    "print('The Best Accuracy score for the grid search is:',model_rfrs.best_score_)"
   ]
  },
  {
   "cell_type": "code",
   "execution_count": 9,
   "metadata": {},
   "outputs": [
    {
     "data": {
      "text/plain": [
       "Pipeline(steps=[('ordinalencoder',\n",
       "                 OrdinalEncoder(cols=['basin', 'region', 'public_meeting',\n",
       "                                      'scheme_management', 'permit',\n",
       "                                      'extraction_type',\n",
       "                                      'extraction_type_class', 'management',\n",
       "                                      'management_group', 'payment',\n",
       "                                      'payment_type', 'water_quality',\n",
       "                                      'quality_group', 'quantity', 'source',\n",
       "                                      'source_type', 'source_class',\n",
       "                                      'waterpoint_type'],\n",
       "                                mapping=[{'col': 'basin',\n",
       "                                          'data_typ...\n",
       "unknown        3\n",
       "NaN           -2\n",
       "dtype: int64},\n",
       "                                         {'col': 'waterpoint_type',\n",
       "                                          'data_type': dtype('O'),\n",
       "                                          'mapping': hand pump                      1\n",
       "communal standpipe             2\n",
       "communal standpipe multiple    3\n",
       "improved spring                4\n",
       "other                          5\n",
       "cattle trough                  6\n",
       "dam                            7\n",
       "NaN                           -2\n",
       "dtype: int64}])),\n",
       "                ('simpleimputer', SimpleImputer()),\n",
       "                ('randomforestclassifier',\n",
       "                 RandomForestClassifier(max_depth=25, max_samples=0.5,\n",
       "                                        n_estimators=95, n_jobs=-1,\n",
       "                                        random_state=42))])"
      ]
     },
     "execution_count": 9,
     "metadata": {},
     "output_type": "execute_result"
    }
   ],
   "source": [
    "model_rf = make_pipeline(OrdinalEncoder(),\n",
    "                         SimpleImputer(strategy='mean'),\n",
    "                         RandomForestClassifier(n_jobs=-1,\n",
    "                                                random_state=42,\n",
    "                                                max_depth=25,\n",
    "                                                max_samples=.5,\n",
    "                                                n_estimators=95))\n",
    "\n",
    "model_rf.fit(X_train,y_train)"
   ]
  },
  {
   "cell_type": "code",
   "execution_count": null,
   "metadata": {},
   "outputs": [],
   "source": [
    "training_acc = accuracy_score(y_train,model_rf.predict(X_train))\n",
    "val_acc = accuracy_score(y_val,model_rf.predict(X_val))\n",
    "\n",
    "print('Training Accuracy Score:', training_acc)\n",
    "print('Validation Accuracy Score:', val_acc)"
   ]
  },
  {
   "cell_type": "markdown",
   "metadata": {},
   "source": [
    "# Use your hypter parameters to retrain your model on X and than pass your X_test to make predicitions"
   ]
  },
  {
   "cell_type": "markdown",
   "metadata": {
    "id": "gdPydrAciFvW"
   },
   "source": [
    "# VI. Communicate Results\n",
    "\n",
    "**Showing Feature Importance**"
   ]
  },
  {
   "cell_type": "markdown",
   "metadata": {
    "id": "orrZCcWqj0Wu"
   },
   "source": [
    "Plot the feature importance for our `RandomForest` model."
   ]
  },
  {
   "cell_type": "code",
   "execution_count": null,
   "metadata": {
    "id": "ZQ1l9ZsJMbXi"
   },
   "outputs": [],
   "source": [
    "best_estimator = model_rfgs.best_estimator_\n",
    "importances = best_estimator.named_steps['randomforestclassifier'].feature_importances_\n",
    "features = X_train.columns\n",
    "feat_imp = pd.Series(importances, index=features).sort_values()\n",
    "feat_imp.plot(kind='barh')\n",
    "plt.xlabel('Reduction in Gini Impurity');"
   ]
  },
  {
   "cell_type": "code",
   "execution_count": null,
   "metadata": {},
   "outputs": [],
   "source": []
  },
  {
   "cell_type": "markdown",
   "metadata": {
    "id": "mc4-86wQ0xfX"
   },
   "source": [
    "# Make Submission"
   ]
  },
  {
   "cell_type": "code",
   "execution_count": null,
   "metadata": {
    "id": "Oo18Q8CVMbXh"
   },
   "outputs": [],
   "source": [
    "X_test = X_test[X_train.columns]\n",
    "y_pred = model_rfgs.predict(X_test)\n",
    "submission = pd.DataFrame({'status_group':y_pred}, index=X_test.index)\n",
    "datestamp = pd.Timestamp.now().strftime('%Y-%m-%d_%H%M_')\n",
    "submission.to_csv(f'{datestamp}submission.csv')"
   ]
  },
  {
   "cell_type": "code",
   "execution_count": null,
   "metadata": {},
   "outputs": [],
   "source": [
    "#save model\n",
    "import pickle\n",
    "filename = 'accuracy_8065perc'\n",
    "pickle.dump(model_rfgs,open(filename,'wb'))\n",
    "\n",
    "#load model\n",
    "model_rfgs = pickle.load(open(filename,'rb'))"
   ]
  },
  {
   "cell_type": "code",
   "execution_count": null,
   "metadata": {},
   "outputs": [],
   "source": []
  }
 ],
 "metadata": {
  "accelerator": "GPU",
  "colab": {
   "name": "Copy of DS30_223_guided_project_notes.ipynb",
   "provenance": []
  },
  "kernelspec": {
   "display_name": "Python 3",
   "language": "python",
   "name": "python3"
  },
  "language_info": {
   "codemirror_mode": {
    "name": "ipython",
    "version": 3
   },
   "file_extension": ".py",
   "mimetype": "text/x-python",
   "name": "python",
   "nbconvert_exporter": "python",
   "pygments_lexer": "ipython3",
   "version": "3.8.8"
  }
 },
 "nbformat": 4,
 "nbformat_minor": 1
}
