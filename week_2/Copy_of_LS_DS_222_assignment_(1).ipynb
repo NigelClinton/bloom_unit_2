{
 "cells": [
  {
   "cell_type": "markdown",
   "metadata": {
    "id": "1H2ogktCf3af"
   },
   "source": [
    "Lambda School Data Science\n",
    "\n",
    "*Unit 2, Sprint 2, Module 2*\n",
    "\n",
    "---"
   ]
  },
  {
   "cell_type": "code",
   "execution_count": 27,
   "metadata": {
    "colab": {
     "base_uri": "https://localhost:8080/"
    },
    "id": "SDmNj-TIgBOC",
    "outputId": "6f3cfebe-4897-4c5f-c93f-ae7de1e8eed5"
   },
   "outputs": [
    {
     "name": "stdout",
     "output_type": "stream",
     "text": [
      "Requirement already satisfied: category_encoders==2.* in c:\\users\\nigel\\appdata\\local\\programs\\python\\python39\\lib\\site-packages (2.2.2)\n",
      "Requirement already satisfied: scipy>=1.0.0 in c:\\users\\nigel\\appdata\\local\\programs\\python\\python39\\lib\\site-packages (from category_encoders==2.*) (1.7.0)\n",
      "Requirement already satisfied: statsmodels>=0.9.0 in c:\\users\\nigel\\appdata\\local\\programs\\python\\python39\\lib\\site-packages (from category_encoders==2.*) (0.12.2)\n",
      "Requirement already satisfied: numpy>=1.14.0 in c:\\users\\nigel\\appdata\\local\\programs\\python\\python39\\lib\\site-packages (from category_encoders==2.*) (1.21.0)\n",
      "Requirement already satisfied: patsy>=0.5.1 in c:\\users\\nigel\\appdata\\local\\programs\\python\\python39\\lib\\site-packages (from category_encoders==2.*) (0.5.1)\n",
      "Requirement already satisfied: scikit-learn>=0.20.0 in c:\\users\\nigel\\appdata\\local\\programs\\python\\python39\\lib\\site-packages (from category_encoders==2.*) (0.24.2)\n",
      "Requirement already satisfied: pandas>=0.21.1 in c:\\users\\nigel\\appdata\\local\\programs\\python\\python39\\lib\\site-packages (from category_encoders==2.*) (1.3.0)\n",
      "Requirement already satisfied: python-dateutil>=2.7.3 in c:\\users\\nigel\\appdata\\local\\programs\\python\\python39\\lib\\site-packages (from pandas>=0.21.1->category_encoders==2.*) (2.8.1)\n",
      "Requirement already satisfied: pytz>=2017.3 in c:\\users\\nigel\\appdata\\local\\programs\\python\\python39\\lib\\site-packages (from pandas>=0.21.1->category_encoders==2.*) (2021.1)\n",
      "Requirement already satisfied: six in c:\\users\\nigel\\appdata\\local\\programs\\python\\python39\\lib\\site-packages (from patsy>=0.5.1->category_encoders==2.*) (1.16.0)\n",
      "Requirement already satisfied: threadpoolctl>=2.0.0 in c:\\users\\nigel\\appdata\\local\\programs\\python\\python39\\lib\\site-packages (from scikit-learn>=0.20.0->category_encoders==2.*) (2.2.0)\n",
      "Requirement already satisfied: joblib>=0.11 in c:\\users\\nigel\\appdata\\local\\programs\\python\\python39\\lib\\site-packages (from scikit-learn>=0.20.0->category_encoders==2.*) (1.0.1)\n"
     ]
    }
   ],
   "source": [
    "!pip install category_encoders==2.*\n",
    "from category_encoders import OrdinalEncoder\n",
    "from sklearn.ensemble import RandomForestClassifier\n",
    "from sklearn.impute import SimpleImputer\n",
    "from sklearn.model_selection import train_test_split\n",
    "from sklearn.pipeline import make_pipeline\n",
    "from sklearn.tree import DecisionTreeClassifier, plot_tree\n",
    "import matplotlib.pyplot as plt\n",
    "import pandas as pd\n",
    "import numpy as np\n",
    "from sklearn.metrics import accuracy_score\n",
    "import seaborn as sns\n",
    "from sklearn.impute import KNNImputer\n",
    "import warnings\n",
    "warnings.simplefilter(action='ignore', category=FutureWarning)"
   ]
  },
  {
   "cell_type": "markdown",
   "metadata": {
    "id": "StvWaAYPf3ai"
   },
   "source": [
    "# Module Project: Random Forests"
   ]
  },
  {
   "cell_type": "markdown",
   "metadata": {
    "id": "WPIkT8zyf3ai"
   },
   "source": [
    "This week, the module projects will focus on creating and improving a model for the Tanazania Water Pump datset. Your goal is to create a model to predict whether a water pump is functional, non-functional, or needs repair.\n",
    "\n",
    "Dataset source: [DrivenData.org](https://www.drivendata.org/competitions/7/pump-it-up-data-mining-the-water-table/).\n",
    "\n",
    "## Directions\n",
    "\n",
    "The tasks for this project are as follows:\n",
    "\n",
    "- **Task 1:** Sign up for a [Kaggle](https://www.kaggle.com/) account.\n",
    "- **Task 2:** Use `wrangle` function to import training and test data.\n",
    "- **Task 3:** Split training data into feature matrix `X` and target vector `y`.\n",
    "- **Task 4:** Split feature matrix `X` and target vector `y` into training and test sets.\n",
    "- **Task 5:** Establish the baseline accuracy score for your dataset.\n",
    "- **Task 6:** Build and train `model_dt`.\n",
    "- **Task 7:** Calculate the training and validation accuracy score for your model.\n",
    "- **Task 8:** Adjust model's `max_depth` to reduce overfitting.\n",
    "- **Task 9 `stretch goal`:** Create a horizontal bar chart showing the 10 most important features for your model.\n",
    "\n",
    "You should limit yourself to the following libraries for this project:\n",
    "\n",
    "- `category_encoders`\n",
    "- `matplotlib`\n",
    "- `pandas`\n",
    "- `pandas-profiling`\n",
    "- `sklearn`\n",
    "\n",
    "# I. Wrangle Data"
   ]
  },
  {
   "cell_type": "code",
   "execution_count": 65,
   "metadata": {
    "id": "YqMnnjwof3aj"
   },
   "outputs": [],
   "source": [
    "def wrangle(fm_path, tv_path=None):\n",
    "    if tv_path:\n",
    "        df = pd.merge(pd.read_csv(fm_path, \n",
    "                                  na_values=[0, -2.000000e-08]),\n",
    "                      pd.read_csv(tv_path)).set_index('id')\n",
    "    else:\n",
    "        df = pd.read_csv(fm_path, \n",
    "                         na_values=[0, -2.000000e-08],\n",
    "                         index_col='id')\n",
    "\n",
    "    df['date_recorded'] = pd.to_datetime(df['date_recorded'])\n",
    "    \n",
    "    # Drop constant columns\n",
    "    df.drop(columns=['recorded_by','num_private'], inplace=True)\n",
    "    \n",
    "    # Create age feature\n",
    "    df['pump_age'] = df['date_recorded'].dt.year - df['construction_year']\n",
    "    df.drop(columns=['date_recorded','construction_year'], inplace=True)\n",
    "    \n",
    "    # Drop HCCCs\n",
    "    cutoff = 100\n",
    "    drop_cols = [col for col in df.select_dtypes('object').columns\n",
    "                 if df[col].nunique() > cutoff]\n",
    "    df.drop(columns=drop_cols, inplace=True)\n",
    "\n",
    "    # Drop duplicate columns\n",
    "    dupe_cols = [col for col in df.head(15).T.duplicated().index\n",
    "                 if df.head(15).T.duplicated()[col]]\n",
    "    df.drop(columns=dupe_cols, inplace=True)             \n",
    "\n",
    "\n",
    "    return df\n",
    "\n",
    "df = wrangle(fm_path= 'train_features.csv',\n",
    "             tv_path= 'train_labels.csv')\n",
    "\n",
    "X_test = wrangle(fm_path= 'test_features.csv')"
   ]
  },
  {
   "cell_type": "markdown",
   "metadata": {
    "id": "haZC2GS4f3aj"
   },
   "source": [
    "**Task 1:** Sign up for a [Kaggle](https://www.kaggle.com/) account. Choose a username that's based on your real name. Like GitHub, Kaggle is part of your public profile as a data scientist.\n",
    "\n",
    "**Task 2:** Modify the `wrangle` function to engineer a `'pump_age'` feature. Then use the function to read `train_features.csv` and `train_labels.csv` into the DataFrame `df`, and `test_features.csv` into the DataFrame `X_test`."
   ]
  },
  {
   "cell_type": "markdown",
   "metadata": {
    "id": "1jv4_Zirf3ak"
   },
   "source": [
    "# II. Split Data\n",
    "\n",
    "**Task 3:** Split your DataFrame `df` into a feature matrix `X` and the target vector `y`. You want to predict `'status_group'`."
   ]
  },
  {
   "cell_type": "code",
   "execution_count": 66,
   "metadata": {
    "id": "iTgvHs4if3ak"
   },
   "outputs": [],
   "source": [
    "target = 'status_group'\n",
    "y = df[target]\n",
    "X = df.drop(columns=target)"
   ]
  },
  {
   "cell_type": "markdown",
   "metadata": {
    "id": "DY0ccechf3ak"
   },
   "source": [
    "**Task 4:** Using a randomized split, divide `X` and `y` into a training set (`X_train`, `y_train`) and a validation set (`X_val`, `y_val`)."
   ]
  },
  {
   "cell_type": "code",
   "execution_count": 67,
   "metadata": {
    "id": "AR1zYlADf3al"
   },
   "outputs": [],
   "source": [
    "X_train, X_val, y_train, y_val = train_test_split(X,y,test_size=0.2, random_state=42)"
   ]
  },
  {
   "cell_type": "markdown",
   "metadata": {
    "id": "0ZSp84vGf3al"
   },
   "source": [
    "# III. Establish Baseline\n",
    "\n",
    "**Task 5:** Since this is a **classification** problem, you should establish a baseline accuracy score. Figure out what is the majority class in `y_train` and what percentage of your training observations it represents."
   ]
  },
  {
   "cell_type": "code",
   "execution_count": 68,
   "metadata": {
    "colab": {
     "base_uri": "https://localhost:8080/"
    },
    "id": "zcyRACW6f3al",
    "outputId": "69884d18-6114-49cf-ad80-4f7f0534534a"
   },
   "outputs": [
    {
     "name": "stdout",
     "output_type": "stream",
     "text": [
      "Baseline accuracy: 0.5425489938182296\n"
     ]
    }
   ],
   "source": [
    "baseline_Acc = y_train.value_counts(normalize=True).max()\n",
    "print('Baseline accuracy:',baseline_Acc)"
   ]
  },
  {
   "cell_type": "markdown",
   "metadata": {
    "id": "jvDIIKjOf3al"
   },
   "source": [
    "# IV. Build Model\n",
    "\n",
    "**Task 6:** Build a `Pipeline` named `model_rf`, and fit it to your training data. Your `Pipeline` should include:\n",
    "\n",
    "- an `OrdinalEncoder` transformer for categorical features.\n",
    "- a `SimpleImputer` transformer fot missing values.\n",
    "- a `RandomForestClassifier` predictor.\n",
    "\n",
    "**Note:** Don't forget to set the `random_state` parameter for your `RandomForestClassifier`. Also, to decrease training time, set `n_jobs` to `-1`."
   ]
  },
  {
   "cell_type": "code",
   "execution_count": 69,
   "metadata": {
    "id": "Qpe_dJ9ef3am"
   },
   "outputs": [],
   "source": [
    "# # Important parameters to tune for RF: n_estimators, max_samples, max_depth, max_features\n",
    "# model_rf = make_pipeline(OrdinalEncoder(),\n",
    "#                          SimpleImputer(),  #Try using KNN Imputer\n",
    "#                          RandomForestClassifier(n_jobs = -1,\n",
    "#                                                 random_state=42, \n",
    "#                                                 n_estimators = 270,\n",
    "#                                                 max_samples = 0.8,\n",
    "#                                                 max_features=12,\n",
    "#                                                class_weight='balanced_subsample',\n",
    "#                                                max_depth=35))\n",
    "# model_rf.fit(X_train,y_train)"
   ]
  },
  {
   "cell_type": "code",
   "execution_count": 70,
   "metadata": {
    "colab": {
     "base_uri": "https://localhost:8080/"
    },
    "id": "th751EhzhRLq",
    "outputId": "699bf772-fe56-4c6f-ec28-c15eb6341bd5"
   },
   "outputs": [
    {
     "data": {
      "text/plain": [
       "Pipeline(steps=[('ordinalencoder',\n",
       "                 OrdinalEncoder(cols=['basin', 'region', 'public_meeting',\n",
       "                                      'scheme_management', 'permit',\n",
       "                                      'extraction_type',\n",
       "                                      'extraction_type_class', 'management',\n",
       "                                      'management_group', 'payment',\n",
       "                                      'payment_type', 'water_quality',\n",
       "                                      'quality_group', 'quantity', 'source',\n",
       "                                      'source_type', 'source_class',\n",
       "                                      'waterpoint_type'],\n",
       "                                mapping=[{'col': 'basin',\n",
       "                                          'data_typ...\n",
       "dtype: int64},\n",
       "                                         {'col': 'waterpoint_type',\n",
       "                                          'data_type': dtype('O'),\n",
       "                                          'mapping': hand pump                      1\n",
       "communal standpipe             2\n",
       "communal standpipe multiple    3\n",
       "improved spring                4\n",
       "other                          5\n",
       "cattle trough                  6\n",
       "dam                            7\n",
       "NaN                           -2\n",
       "dtype: int64}])),\n",
       "                ('simpleimputer', SimpleImputer()),\n",
       "                ('randomforestclassifier',\n",
       "                 RandomForestClassifier(max_depth=25, max_features='sqrt',\n",
       "                                        max_samples=0.5, n_estimators=180,\n",
       "                                        n_jobs=-1, random_state=42))])"
      ]
     },
     "execution_count": 70,
     "metadata": {},
     "output_type": "execute_result"
    }
   ],
   "source": [
    "model_rf = make_pipeline(OrdinalEncoder(),\n",
    "                         SimpleImputer(strategy='mean'),\n",
    "                         RandomForestClassifier(n_jobs=-1,\n",
    "                                                random_state=42,\n",
    "                                                max_depth=25,\n",
    "                                                max_samples=.5,\n",
    "                                                n_estimators=180,\n",
    "                                                max_features='sqrt',\n",
    "                                                ))\n",
    "\n",
    "model_rf.fit(X_train,y_train)"
   ]
  },
  {
   "cell_type": "code",
   "execution_count": 71,
   "metadata": {
    "id": "4U8q3mCkhRLr"
   },
   "outputs": [],
   "source": [
    "# # Important parameters to tune for RF: n_estimators, max_samples, max_depth, max_features\n",
    "# model_rf = make_pipeline(OrdinalEncoder(),\n",
    "#                          SimpleImputer(),  #Try using KNN Imputer\n",
    "#                          RandomForestClassifier(n_jobs = -1,))\n",
    "# model_rf.fit(X_train,y_train)"
   ]
  },
  {
   "cell_type": "markdown",
   "metadata": {
    "id": "UKGFEh14f3am"
   },
   "source": [
    "# V. Check Metrics\n",
    "\n",
    "**Task 7:** Calculate the training and validation accuracy scores for `model_rf`."
   ]
  },
  {
   "cell_type": "code",
   "execution_count": 100,
   "metadata": {},
   "outputs": [
    {
     "name": "stdout",
     "output_type": "stream",
     "text": [
      "Training Accuracy Score: 0.9439694857293174\n",
      "Validation Accuracy Score: 0.8049242424242424\n"
     ]
    }
   ],
   "source": [
    "training_acc = accuracy_score(y_train,model_rf.predict(X_train))\n",
    "val_acc = accuracy_score(y_val,model_rf.predict(X_val))\n",
    "\n",
    "print('Training Accuracy Score:', training_acc)\n",
    "print('Validation Accuracy Score:', val_acc)"
   ]
  },
  {
   "cell_type": "markdown",
   "metadata": {
    "id": "nJcWYioZf3am"
   },
   "source": [
    "# VI. Tune Model\n",
    "\n",
    "**Task 8:** Tune `n_estimators` and `max_depth` hyperparameters for your `RandomForestClassifier` to get the best validation accuracy score for `model_rf`."
   ]
  },
  {
   "cell_type": "code",
   "execution_count": 119,
   "metadata": {},
   "outputs": [],
   "source": [
    "min_impurity_decreases = np.arange(0, 30, 1)\n",
    "train_acc = []\n",
    "val_acc = []\n",
    "\n",
    "for min_impurity_decrease_ in min_impurity_decreases:\n",
    "    treetree= make_pipeline(OrdinalEncoder(),\n",
    "                            SimpleImputer(strategy='mean'),\n",
    "                            RandomForestClassifier(n_jobs=-1,\n",
    "                                                   random_state=42,\n",
    "                                                   max_depth=25,\n",
    "                                                   max_samples=.5,\n",
    "                                                   n_estimators=180,\n",
    "                                                   max_features='sqrt',\n",
    "                                                   criterion='entropy',\n",
    "                                                   min_impurity_decrease=min_impurity_decrease_,\n",
    "                                                   class_weight=None))\n",
    "    \n",
    "    treetree.fit(X_train, y_train)\n",
    "    train_acc.append(treetree.score(X_train, y_train))\n",
    "    val_acc.append(treetree.score(X_val, y_val))"
   ]
  },
  {
   "cell_type": "code",
   "execution_count": 118,
   "metadata": {},
   "outputs": [
    {
     "data": {
      "text/plain": [
       "[0.5447180134680135,\n",
       " 0.5447180134680135,\n",
       " 0.5447180134680135,\n",
       " 0.5447180134680135,\n",
       " 0.5447180134680135,\n",
       " 0.5447180134680135,\n",
       " 0.5447180134680135,\n",
       " 0.5447180134680135,\n",
       " 0.5447180134680135,\n",
       " 0.5447180134680135,\n",
       " 0.5447180134680135,\n",
       " 0.5447180134680135,\n",
       " 0.5447180134680135,\n",
       " 0.5447180134680135,\n",
       " 0.5447180134680135,\n",
       " 0.5447180134680135,\n",
       " 0.5447180134680135,\n",
       " 0.5447180134680135,\n",
       " 0.5447180134680135,\n",
       " 0.5447180134680135,\n",
       " 0.5447180134680135,\n",
       " 0.5447180134680135,\n",
       " 0.5447180134680135,\n",
       " 0.5447180134680135,\n",
       " 0.5447180134680135,\n",
       " 0.5447180134680135,\n",
       " 0.5447180134680135,\n",
       " 0.5447180134680135]"
      ]
     },
     "execution_count": 118,
     "metadata": {},
     "output_type": "execute_result"
    }
   ],
   "source": [
    "val_acc"
   ]
  },
  {
   "cell_type": "code",
   "execution_count": 81,
   "metadata": {},
   "outputs": [
    {
     "data": {
      "text/plain": [
       "(38015, 26)"
      ]
     },
     "execution_count": 81,
     "metadata": {},
     "output_type": "execute_result"
    }
   ],
   "source": [
    "X_train.shape"
   ]
  },
  {
   "cell_type": "code",
   "execution_count": 82,
   "metadata": {},
   "outputs": [
    {
     "data": {
      "text/plain": [
       "(38015,)"
      ]
     },
     "execution_count": 82,
     "metadata": {},
     "output_type": "execute_result"
    }
   ],
   "source": [
    "y_train.shape"
   ]
  },
  {
   "cell_type": "code",
   "execution_count": 23,
   "metadata": {},
   "outputs": [],
   "source": [
    "max_features = list(range(1,X_train.shape[1]))\n",
    "train_results = []\n",
    "test_results = []\n",
    "\n",
    "for max_feature in max_features:\n",
    "    treetree= make_pipeline(OrdinalEncoder(),\n",
    "                            SimpleImputer(strategy='mean'),\n",
    "                            RandomForestClassifier(n_jobs=-1,\n",
    "                                                   random_state=42,\n",
    "                                                   max_depth=25,\n",
    "                                                   max_samples=.5,\n",
    "                                                   n_estimators=95,\n",
    "                                                   max_features=max_feature))\n",
    "    \n",
    "    treetree.fit(X_train, y_train)\n",
    "    train_acc.append(treetree.score(X_train, y_train))\n",
    "    val_acc.append(treetree.score(X_val, y_val))"
   ]
  },
  {
   "cell_type": "code",
   "execution_count": 26,
   "metadata": {},
   "outputs": [
    {
     "data": {
      "text/plain": [
       "[0.6037457912457912,\n",
       " 0.5447180134680135,\n",
       " 0.5447180134680135,\n",
       " 0.5447180134680135,\n",
       " 0.5447180134680135,\n",
       " 0.7980850168350169,\n",
       " 0.8003998316498316,\n",
       " 0.8009259259259259,\n",
       " 0.804503367003367,\n",
       " 0.8016624579124579,\n",
       " 0.8011363636363636,\n",
       " 0.8003998316498316,\n",
       " 0.7991372053872053,\n",
       " 0.8016624579124579,\n",
       " 0.7997685185185185,\n",
       " 0.8015572390572391,\n",
       " 0.8002946127946128,\n",
       " 0.8012415824915825,\n",
       " 0.8019781144781145,\n",
       " 0.8011363636363636,\n",
       " 0.8013468013468014,\n",
       " 0.8009259259259259,\n",
       " 0.8005050505050505,\n",
       " 0.8006102693602694,\n",
       " 0.7980850168350169,\n",
       " 0.8010311447811448,\n",
       " 0.8011363636363636,\n",
       " 0.8008207070707071,\n",
       " 0.8011363636363636,\n",
       " 0.8003998316498316,\n",
       " 0.7996632996632996]"
      ]
     },
     "execution_count": 26,
     "metadata": {},
     "output_type": "execute_result"
    }
   ],
   "source": [
    "val_acc"
   ]
  },
  {
   "cell_type": "code",
   "execution_count": 25,
   "metadata": {},
   "outputs": [
    {
     "ename": "NameError",
     "evalue": "name 'depths' is not defined",
     "output_type": "error",
     "traceback": [
      "\u001b[1;31m---------------------------------------------------------------------------\u001b[0m",
      "\u001b[1;31mNameError\u001b[0m                                 Traceback (most recent call last)",
      "\u001b[1;32m~\\AppData\\Local\\Temp/ipykernel_15716/1373438394.py\u001b[0m in \u001b[0;36m<module>\u001b[1;34m\u001b[0m\n\u001b[1;32m----> 1\u001b[1;33m \u001b[0mplt\u001b[0m\u001b[1;33m.\u001b[0m\u001b[0mplot\u001b[0m\u001b[1;33m(\u001b[0m\u001b[0mdepths\u001b[0m\u001b[1;33m,\u001b[0m \u001b[0mtrain_acc\u001b[0m\u001b[1;33m,\u001b[0m \u001b[0mcolor\u001b[0m\u001b[1;33m=\u001b[0m\u001b[1;34m'blue'\u001b[0m\u001b[1;33m,\u001b[0m \u001b[0mlabel\u001b[0m\u001b[1;33m=\u001b[0m\u001b[1;34m'training'\u001b[0m\u001b[1;33m)\u001b[0m\u001b[1;33m\u001b[0m\u001b[1;33m\u001b[0m\u001b[0m\n\u001b[0m\u001b[0;32m      2\u001b[0m \u001b[0mplt\u001b[0m\u001b[1;33m.\u001b[0m\u001b[0mplot\u001b[0m\u001b[1;33m(\u001b[0m\u001b[0mdepths\u001b[0m\u001b[1;33m,\u001b[0m \u001b[0mval_acc\u001b[0m\u001b[1;33m,\u001b[0m \u001b[0mcolor\u001b[0m\u001b[1;33m=\u001b[0m\u001b[1;34m'red'\u001b[0m\u001b[1;33m,\u001b[0m \u001b[0mlabel\u001b[0m\u001b[1;33m=\u001b[0m\u001b[1;34m'validation'\u001b[0m\u001b[1;33m)\u001b[0m\u001b[1;33m\u001b[0m\u001b[1;33m\u001b[0m\u001b[0m\n\u001b[0;32m      3\u001b[0m \u001b[0mplt\u001b[0m\u001b[1;33m.\u001b[0m\u001b[0mxlabel\u001b[0m\u001b[1;33m(\u001b[0m\u001b[1;34m'max_depth'\u001b[0m\u001b[1;33m)\u001b[0m\u001b[1;33m\u001b[0m\u001b[1;33m\u001b[0m\u001b[0m\n\u001b[0;32m      4\u001b[0m \u001b[0mplt\u001b[0m\u001b[1;33m.\u001b[0m\u001b[0mylabel\u001b[0m\u001b[1;33m(\u001b[0m\u001b[1;34m'accuracy'\u001b[0m\u001b[1;33m)\u001b[0m\u001b[1;33m\u001b[0m\u001b[1;33m\u001b[0m\u001b[0m\n\u001b[0;32m      5\u001b[0m \u001b[0mplt\u001b[0m\u001b[1;33m.\u001b[0m\u001b[0mlegend\u001b[0m\u001b[1;33m(\u001b[0m\u001b[1;33m)\u001b[0m\u001b[1;33m\u001b[0m\u001b[1;33m\u001b[0m\u001b[0m\n",
      "\u001b[1;31mNameError\u001b[0m: name 'depths' is not defined"
     ]
    }
   ],
   "source": [
    "plt.plot(depths, train_acc, color='blue', label='training')\n",
    "plt.plot(depths, val_acc, color='red', label='validation')\n",
    "plt.xlabel('max_depth')\n",
    "plt.ylabel('accuracy')\n",
    "plt.legend()\n",
    "plt.show()"
   ]
  },
  {
   "cell_type": "code",
   "execution_count": 24,
   "metadata": {
    "id": "7FJCrcf0hRLr"
   },
   "outputs": [],
   "source": [
    "sns.set(rc={'figure.figsize':(15,10)})"
   ]
  },
  {
   "cell_type": "markdown",
   "metadata": {},
   "source": [
    "# Depth -"
   ]
  },
  {
   "cell_type": "code",
   "execution_count": 13,
   "metadata": {},
   "outputs": [],
   "source": [
    "depths = range(17, 30, 1)\n",
    "train_acc = []\n",
    "val_acc = []\n",
    "\n",
    "for depth in depths:\n",
    "\n",
    "  tree_model = make_pipeline(\n",
    "      OrdinalEncoder(),\n",
    "      SimpleImputer(strategy='mean'),\n",
    "      RandomForestClassifier(max_depth=depth,\n",
    "                             random_state=42,\n",
    "                             n_jobs=-1))\n",
    "\n",
    "  tree_model.fit(X_train, y_train)\n",
    "  train_acc.append(tree_model.score(X_train, y_train))\n",
    "  val_acc.append(tree_model.score(X_val, y_val))"
   ]
  },
  {
   "cell_type": "code",
   "execution_count": 14,
   "metadata": {},
   "outputs": [
    {
     "data": {
      "text/plain": [
       "[0.7993476430976431,\n",
       " 0.7981902356902357,\n",
       " 0.7985058922558923,\n",
       " 0.7995580808080808,\n",
       " 0.8017676767676768,\n",
       " 0.8006102693602694,\n",
       " 0.7980850168350169,\n",
       " 0.7991372053872053,\n",
       " 0.7986111111111112,\n",
       " 0.79503367003367,\n",
       " 0.7962962962962963,\n",
       " 0.7951388888888888,\n",
       " 0.7938762626262627]"
      ]
     },
     "execution_count": 14,
     "metadata": {},
     "output_type": "execute_result"
    }
   ],
   "source": [
    "val_acc"
   ]
  },
  {
   "cell_type": "code",
   "execution_count": 15,
   "metadata": {},
   "outputs": [
    {
     "data": {
      "image/png": "[encoded data removed]",
      "text/plain": [
       "<Figure size 1080x720 with 1 Axes>"
      ]
     },
     "metadata": {},
     "output_type": "display_data"
    }
   ],
   "source": [
    "plt.plot(depths, train_acc, color='blue', label='training')\n",
    "plt.plot(depths, val_acc, color='red', label='validation')\n",
    "plt.xlabel('max_depth')\n",
    "plt.ylabel('accuracy')\n",
    "plt.legend()\n",
    "plt.show()"
   ]
  },
  {
   "cell_type": "markdown",
   "metadata": {},
   "source": [
    "# Sample Vs Depth -"
   ]
  },
  {
   "cell_type": "code",
   "execution_count": 16,
   "metadata": {},
   "outputs": [],
   "source": [
    "# Tune RF for max_samples\n",
    "samples = np.arange(0.2,1,0.1)\n",
    "\n",
    "train_acc = []\n",
    "val_acc = []\n",
    "for sample in samples:\n",
    "  model_rf1 = make_pipeline(OrdinalEncoder(),\n",
    "                         SimpleImputer(strategy='mean'),\n",
    "                         RandomForestClassifier(n_jobs = -1,\n",
    "                                                random_state=42,\n",
    "                                                max_depth = 21,\n",
    "                                                max_samples = sample))\n",
    "  model_rf1.fit(X_train,y_train)\n",
    "  train_acc.append(model_rf1.score(X_train,y_train))\n",
    "  val_acc.append(model_rf1.score(X_val,y_val))"
   ]
  },
  {
   "cell_type": "code",
   "execution_count": 17,
   "metadata": {},
   "outputs": [
    {
     "data": {
      "text/plain": [
       "[0.7929292929292929,\n",
       " 0.7982954545454546,\n",
       " 0.7994528619528619,\n",
       " 0.8008207070707071,\n",
       " 0.8012415824915825,\n",
       " 0.8018728956228957,\n",
       " 0.8021885521885522,\n",
       " 0.8000841750841751]"
      ]
     },
     "execution_count": 17,
     "metadata": {},
     "output_type": "execute_result"
    }
   ],
   "source": [
    "val_acc"
   ]
  },
  {
   "cell_type": "code",
   "execution_count": 18,
   "metadata": {},
   "outputs": [
    {
     "data": {
      "image/png": "[encoded data removed]",
      "text/plain": [
       "<Figure size 1080x720 with 1 Axes>"
      ]
     },
     "metadata": {},
     "output_type": "display_data"
    }
   ],
   "source": [
    "plt.plot(samples, train_acc, color='blue', label='training')\n",
    "plt.plot(samples, val_acc, color='red', label='validation')\n",
    "plt.xlabel('max_samples')\n",
    "plt.ylabel('accuracy')\n",
    "plt.legend()\n",
    "plt.show()"
   ]
  },
  {
   "cell_type": "markdown",
   "metadata": {},
   "source": [
    "# Estimate vs Depth -"
   ]
  },
  {
   "cell_type": "code",
   "execution_count": 24,
   "metadata": {},
   "outputs": [],
   "source": [
    "estimates = range(175, 220, 5)\n",
    "train_acc = []\n",
    "val_acc = []\n",
    "\n",
    "for estiamte in estimates:\n",
    "  model_rf1 = make_pipeline(OrdinalEncoder(),\n",
    "                         SimpleImputer(strategy='mean'),  #Try using KNN Imputer\n",
    "                         RandomForestClassifier(n_jobs = -1,\n",
    "                                                random_state=42,\n",
    "                                                max_depth = 21,\n",
    "                                                n_estimators = estiamte))\n",
    "\n",
    "  model_rf1.fit(X_train,y_train)\n",
    "  train_acc.append(model_rf1.score(X_train,y_train))\n",
    "  val_acc.append(model_rf1.score(X_val,y_val))"
   ]
  },
  {
   "cell_type": "code",
   "execution_count": 25,
   "metadata": {},
   "outputs": [
    {
     "data": {
      "text/plain": [
       "[0.8009259259259259,\n",
       " 0.8007154882154882,\n",
       " 0.8005050505050505,\n",
       " 0.8007154882154882,\n",
       " 0.8005050505050505,\n",
       " 0.8006102693602694,\n",
       " 0.8008207070707071,\n",
       " 0.8000841750841751,\n",
       " 0.7997685185185185]"
      ]
     },
     "execution_count": 25,
     "metadata": {},
     "output_type": "execute_result"
    }
   ],
   "source": [
    "val_acc"
   ]
  },
  {
   "cell_type": "code",
   "execution_count": 27,
   "metadata": {},
   "outputs": [
    {
     "data": {
      "image/png": "[encoded data removed]",
      "text/plain": [
       "<Figure size 1080x720 with 1 Axes>"
      ]
     },
     "metadata": {},
     "output_type": "display_data"
    }
   ],
   "source": [
    "plt.plot(estimates, train_acc, color='blue', label='training')\n",
    "plt.plot(estimates, val_acc, color='red', label='validation')\n",
    "plt.xlabel('max_samples')\n",
    "plt.ylabel('accuracy')\n",
    "plt.legend()\n",
    "plt.show()"
   ]
  },
  {
   "cell_type": "markdown",
   "metadata": {},
   "source": [
    "# Max sample vs Estimate & Depth"
   ]
  },
  {
   "cell_type": "code",
   "execution_count": 30,
   "metadata": {},
   "outputs": [],
   "source": [
    "# Tune RF for max_samples\n",
    "samples = np.arange(0.2,1,0.1)\n",
    "\n",
    "train_acc = []\n",
    "val_acc = []\n",
    "for sample in samples:\n",
    "  model_rf1 = make_pipeline(OrdinalEncoder(),\n",
    "                         SimpleImputer(strategy='mean'),\n",
    "                         RandomForestClassifier(n_jobs = -1,\n",
    "                                                random_state=42,\n",
    "                                                max_depth = 21,\n",
    "                                                n_estimators=175,\n",
    "                                                max_samples = sample))\n",
    "  model_rf1.fit(X_train,y_train)\n",
    "  train_acc.append(model_rf1.score(X_train,y_train))\n",
    "  val_acc.append(model_rf1.score(X_val,y_val))"
   ]
  },
  {
   "cell_type": "code",
   "execution_count": 31,
   "metadata": {},
   "outputs": [
    {
     "data": {
      "text/plain": [
       "[0.7966119528619529,\n",
       " 0.7989267676767676,\n",
       " 0.8008207070707071,\n",
       " 0.8017676767676768,\n",
       " 0.8032407407407407,\n",
       " 0.8036616161616161,\n",
       " 0.803030303030303,\n",
       " 0.8007154882154882]"
      ]
     },
     "execution_count": 31,
     "metadata": {},
     "output_type": "execute_result"
    }
   ],
   "source": [
    "val_acc"
   ]
  },
  {
   "cell_type": "code",
   "execution_count": 32,
   "metadata": {},
   "outputs": [
    {
     "data": {
      "image/png": "[encoded data removed]",
      "text/plain": [
       "<Figure size 1080x720 with 1 Axes>"
      ]
     },
     "metadata": {},
     "output_type": "display_data"
    }
   ],
   "source": [
    "plt.plot(samples, train_acc, color='blue', label='training')\n",
    "plt.plot(samples, val_acc, color='red', label='validation')\n",
    "plt.xlabel('max_samples')\n",
    "plt.ylabel('accuracy')\n",
    "plt.legend()\n",
    "plt.show()"
   ]
  },
  {
   "cell_type": "markdown",
   "metadata": {},
   "source": [
    "# Estiamte vs Max Sample & Depth -"
   ]
  },
  {
   "cell_type": "code",
   "execution_count": 19,
   "metadata": {
    "id": "gfnacYmbhRLs"
   },
   "outputs": [],
   "source": [
    "estimates = range(175, 220, 5)\n",
    "train_acc = []\n",
    "val_acc = []\n",
    "\n",
    "for estiamte in estimates:\n",
    "  model_rf1 = make_pipeline(OrdinalEncoder(),\n",
    "                         SimpleImputer(strategy='mean'),  #Try using KNN Imputer\n",
    "                         RandomForestClassifier(n_jobs = -1,\n",
    "                                                random_state=42,\n",
    "                                                max_depth = 21,\n",
    "                                                max_samples = .8,\n",
    "                                                n_estimators = estiamte))\n",
    "\n",
    "  model_rf1.fit(X_train,y_train)\n",
    "  train_acc.append(model_rf1.score(X_train,y_train))\n",
    "  val_acc.append(model_rf1.score(X_val,y_val))"
   ]
  },
  {
   "cell_type": "code",
   "execution_count": 20,
   "metadata": {
    "id": "Ow4WS3QjhRLs",
    "outputId": "c420f531-f92c-4665-e553-99c395ecf8da"
   },
   "outputs": [
    {
     "data": {
      "text/plain": [
       "[0.803030303030303,\n",
       " 0.8040824915824916,\n",
       " 0.80239898989899,\n",
       " 0.8018728956228957,\n",
       " 0.8017676767676768,\n",
       " 0.8025042087542088,\n",
       " 0.8026094276094277,\n",
       " 0.8022937710437711,\n",
       " 0.8020833333333334]"
      ]
     },
     "execution_count": 20,
     "metadata": {},
     "output_type": "execute_result"
    }
   ],
   "source": [
    "val_acc"
   ]
  },
  {
   "cell_type": "code",
   "execution_count": 21,
   "metadata": {
    "id": "eJ8kMpWFhRLs",
    "outputId": "10a65ea6-1353-43ee-bd88-fc4811f57512"
   },
   "outputs": [
    {
     "data": {
      "image/png": "[encoded data removed]",
      "text/plain": [
       "<Figure size 1080x720 with 1 Axes>"
      ]
     },
     "metadata": {},
     "output_type": "display_data"
    }
   ],
   "source": [
    "plt.plot(estimates, train_acc, color='blue', label='training')\n",
    "plt.plot(estimates, val_acc, color='red', label='validation')\n",
    "plt.xlabel('max_depth')\n",
    "plt.ylabel('accuracy')\n",
    "plt.legend()\n",
    "plt.show()"
   ]
  },
  {
   "cell_type": "markdown",
   "metadata": {},
   "source": [
    "# Feature Importance -"
   ]
  },
  {
   "cell_type": "code",
   "execution_count": 22,
   "metadata": {
    "id": "d9-eOxvChRLu",
    "outputId": "a385becd-4c77-4b18-dc07-4b9dd4ace8de"
   },
   "outputs": [
    {
     "data": {
      "image/png": "[encoded data removed]",
      "text/plain": [
       "<Figure size 1080x720 with 1 Axes>"
      ]
     },
     "metadata": {},
     "output_type": "display_data"
    }
   ],
   "source": [
    "features = model_rf.named_steps['ordinalencoder'].get_feature_names()\n",
    "gini = model_rf.named_steps['randomforestclassifier'].feature_importances_\n",
    "pd.Series(data=gini, index=features).sort_values(key=abs).tail(10).plot(kind='barh')\n",
    "plt.ylabel('features')\n",
    "plt.xlabel('gini importance');"
   ]
  },
  {
   "cell_type": "markdown",
   "metadata": {
    "id": "PzVH6Ttaf3an"
   },
   "source": [
    "# VII. Communicate Results\n",
    "\n",
    "**Task 9:** Generate a list of predictions for `X_test`. The list should be named `y_pred`."
   ]
  },
  {
   "cell_type": "code",
   "execution_count": 23,
   "metadata": {
    "id": "JxZDHNSaf3an",
    "outputId": "9d3084ee-8fdb-40b4-9aa5-a6dd6842b6ad"
   },
   "outputs": [
    {
     "ename": "NameError",
     "evalue": "name 'y_pred' is not defined",
     "output_type": "error",
     "traceback": [
      "\u001b[1;31m---------------------------------------------------------------------------\u001b[0m",
      "\u001b[1;31mNameError\u001b[0m                                 Traceback (most recent call last)",
      "\u001b[1;32m~\\AppData\\Local\\Temp/ipykernel_13120/3183297559.py\u001b[0m in \u001b[0;36m<module>\u001b[1;34m\u001b[0m\n\u001b[1;32m----> 1\u001b[1;33m \u001b[1;32massert\u001b[0m \u001b[0mlen\u001b[0m\u001b[1;33m(\u001b[0m\u001b[0my_pred\u001b[0m\u001b[1;33m)\u001b[0m \u001b[1;33m==\u001b[0m \u001b[0mlen\u001b[0m\u001b[1;33m(\u001b[0m\u001b[0mX_test\u001b[0m\u001b[1;33m)\u001b[0m\u001b[1;33m,\u001b[0m \u001b[1;34mf'Your list of predictions should have {len(X_test)} items in it. '\u001b[0m\u001b[1;33m\u001b[0m\u001b[1;33m\u001b[0m\u001b[0m\n\u001b[0m",
      "\u001b[1;31mNameError\u001b[0m: name 'y_pred' is not defined"
     ]
    }
   ],
   "source": [
    "assert len(y_pred) == len(X_test), f'Your list of predictions should have {len(X_test)} items in it. '"
   ]
  },
  {
   "cell_type": "markdown",
   "metadata": {
    "id": "rvl2j9y3f3an"
   },
   "source": [
    "**Task 11 `stretch goal`:** Create a DataFrame `submission` whose index is the same as `X_test` and that has one column `'status_group'` with your predictions. Next, save this DataFrame as a CSV file and upload your submissions to our competition site. \n",
    "\n",
    "**Note:** Check the `sample_submission.csv` file on the competition website to make sure your submissions follows the same formatting. "
   ]
  },
  {
   "cell_type": "code",
   "execution_count": null,
   "metadata": {
    "colab": {
     "base_uri": "https://localhost:8080/",
     "height": 660
    },
    "id": "h6jMohV1iDw-",
    "outputId": "f7703142-01ff-4146-c2c1-2770d0ca9d4b"
   },
   "outputs": [],
   "source": [
    "X_test"
   ]
  },
  {
   "cell_type": "code",
   "execution_count": null,
   "metadata": {
    "colab": {
     "base_uri": "https://localhost:8080/",
     "height": 393
    },
    "id": "obENagdvf3an",
    "outputId": "a60ec891-7dcc-46f3-bfff-b61ededde809"
   },
   "outputs": [],
   "source": [
    "X_test = X_test[X_train.columns]\n",
    "# Predict X_test and use the ids from the test data\n",
    "submission = pd.DataFrame(data=model_rf.predict(X_test), index=X_test.index)\n",
    "# Rename column to be status_group because that is the submission format\n",
    "submission.columns = ['status_group']\n",
    "submission.head()"
   ]
  },
  {
   "cell_type": "code",
   "execution_count": null,
   "metadata": {
    "id": "91z66XRfhRLv"
   },
   "outputs": [],
   "source": [
    "# generate CSV\n",
    "submission = submission.to_csv('newest_submission.csv')"
   ]
  },
  {
   "cell_type": "code",
   "execution_count": null,
   "metadata": {
    "id": "JZhNRYEAhRLv"
   },
   "outputs": [],
   "source": [
    "# download\n",
    "from google.colab import files\n",
    "files.download(\"newest_submission.csv\")"
   ]
  }
 ],
 "metadata": {
  "colab": {
   "name": "Copy_of_LS_DS_222_assignment (1).ipynb",
   "provenance": []
  },
  "kernelspec": {
   "display_name": "Python 3 (ipykernel)",
   "language": "python",
   "name": "python3"
  },
  "language_info": {
   "codemirror_mode": {
    "name": "ipython",
    "version": 3
   },
   "file_extension": ".py",
   "mimetype": "text/x-python",
   "name": "python",
   "nbconvert_exporter": "python",
   "pygments_lexer": "ipython3",
   "version": "3.9.1"
  }
 },
 "nbformat": 4,
 "nbformat_minor": 1
}
