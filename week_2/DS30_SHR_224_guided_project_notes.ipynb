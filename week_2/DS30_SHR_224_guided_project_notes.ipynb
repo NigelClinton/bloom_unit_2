{
 "cells": [
  {
   "cell_type": "markdown",
   "metadata": {
    "id": "EZyiOteN16cD"
   },
   "source": [
    "Lambda School Data Science\n",
    "\n",
    "*Unit 2, Sprint 2, Module 4*\n",
    "\n",
    "---"
   ]
  },
  {
   "cell_type": "markdown",
   "metadata": {
    "id": "KMI2k-oBsS08"
   },
   "source": [
    "# Classification Metrics\n",
    "\n",
    "- get and interpret the **confusion matrix** for classification models\n",
    "- use classification metrics: **precision, recall**\n",
    "- understand the relationships between precision, recall, **thresholds, and predicted probabilities**, to help **make decisions and allocate budgets**"
   ]
  },
  {
   "cell_type": "code",
   "execution_count": 87,
   "metadata": {
    "colab": {
     "base_uri": "https://localhost:8080/"
    },
    "id": "z03W-t5_B8TY",
    "outputId": "f5939e15-d8f8-4aa7-d95e-e737c6fe968c"
   },
   "outputs": [],
   "source": [
    "from category_encoders import OrdinalEncoder\n",
    "from sklearn.ensemble import RandomForestClassifier\n",
    "from sklearn.model_selection import train_test_split\n",
    "from sklearn.metrics import accuracy_score\n",
    "from sklearn.impute import SimpleImputer\n",
    "from sklearn.metrics import plot_confusion_matrix, classification_report\n",
    "from sklearn.model_selection import cross_val_score, validation_curve \n",
    "from sklearn.model_selection import GridSearchCV, RandomizedSearchCV \n",
    "from sklearn.pipeline import make_pipeline\n",
    "from sklearn.tree import DecisionTreeClassifier\n",
    "import numpy as np\n",
    "import pandas as pd\n",
    "import matplotlib.pyplot as plt\n",
    "import warnings\n",
    "import seaborn as sns\n",
    "import plotly\n",
    "import plotly.express as px\n",
    "import plotly.graph_objs as go\n",
    "warnings.simplefilter(action='ignore', category=FutureWarning)\n",
    "pd.set_option('display.max_columns', 50)"
   ]
  },
  {
   "cell_type": "markdown",
   "metadata": {
    "id": "EfhziD2Wn_iO"
   },
   "source": [
    "# I. Wrangle Data"
   ]
  },
  {
   "cell_type": "code",
   "execution_count": 38,
   "metadata": {
    "id": "uYjLLI4ag_Bc"
   },
   "outputs": [],
   "source": [
    "# Use wrangle function to import training and test data, and clean\n",
    "def wrangle(fm_path, tv_path=None):\n",
    "    if tv_path:\n",
    "        df = pd.merge(pd.read_csv(fm_path, \n",
    "                                  na_values=[0, -2.000000e-08]),\n",
    "                      pd.read_csv(tv_path)).set_index('id')\n",
    "        \n",
    "        # Cteate a new target column\n",
    "        df['needs_repair']=df['status_group'].apply(lambda x:0 if x=='functional' else 1)\n",
    "        df.drop(columns=['status_group'], inplace=True)\n",
    "    \n",
    "    else:\n",
    "        df = pd.read_csv(fm_path, \n",
    "                         na_values=[0, -2.000000e-08],\n",
    "                         index_col='id')\n",
    "\n",
    "    df['date_recorded'] = pd.to_datetime(df['date_recorded'])\n",
    "    \n",
    "    # Drop constant columns\n",
    "    df.drop(columns=['recorded_by'], inplace=True)\n",
    "    \n",
    "    # Create age feature\n",
    "    df['pump_age'] = df['date_recorded'].dt.year - df['construction_year']\n",
    "    df.drop(columns=['date_recorded','construction_year'], inplace=True)\n",
    "    \n",
    "    # Drop HCCCs\n",
    "    cutoff = 100\n",
    "    drop_cols = [col for col in df.select_dtypes('object').columns\n",
    "                 if df[col].nunique() > cutoff]\n",
    "    df.drop(columns=drop_cols, inplace=True)\n",
    "\n",
    "    # Drop duplicate columns\n",
    "    dupe_cols = [col for col in df.head(15).T.duplicated().index\n",
    "                 if df.head(15).T.duplicated()[col]]\n",
    "    df.drop(columns=dupe_cols, inplace=True)             \n",
    "\n",
    "\n",
    "    return df\n",
    "\n",
    "# Using the above wrangle function to read train_features.csv and train_labels.csv into the DataFrame\n",
    "df = wrangle(fm_path= 'train_features.csv',\n",
    "             tv_path= 'train_labels.csv')\n",
    "\n",
    "# test_features.csv into the DataFrame X_test\n",
    "X_test = wrangle(fm_path= 'test_features.csv')"
   ]
  },
  {
   "cell_type": "markdown",
   "metadata": {
    "id": "Ni2SLySrZ5ZB"
   },
   "source": [
    "## EDA\n",
    "\n",
    "- How can we transform our target so that this is a **binary classification** problem?"
   ]
  },
  {
   "cell_type": "code",
   "execution_count": 24,
   "metadata": {},
   "outputs": [],
   "source": [
    "df['needs_repair']=df['status_group'].apply(lambda x:0 if x=='functional' else 1)"
   ]
  },
  {
   "cell_type": "code",
   "execution_count": 43,
   "metadata": {},
   "outputs": [
    {
     "data": {
      "text/html": [
       "<div>\n",
       "<style scoped>\n",
       "    .dataframe tbody tr th:only-of-type {\n",
       "        vertical-align: middle;\n",
       "    }\n",
       "\n",
       "    .dataframe tbody tr th {\n",
       "        vertical-align: top;\n",
       "    }\n",
       "\n",
       "    .dataframe thead th {\n",
       "        text-align: right;\n",
       "    }\n",
       "</style>\n",
       "<table border=\"1\" class=\"dataframe\">\n",
       "  <thead>\n",
       "    <tr style=\"text-align: right;\">\n",
       "      <th></th>\n",
       "      <th>amount_tsh</th>\n",
       "      <th>gps_height</th>\n",
       "      <th>longitude</th>\n",
       "      <th>latitude</th>\n",
       "      <th>num_private</th>\n",
       "      <th>basin</th>\n",
       "      <th>region</th>\n",
       "      <th>region_code</th>\n",
       "      <th>district_code</th>\n",
       "      <th>population</th>\n",
       "      <th>public_meeting</th>\n",
       "      <th>scheme_management</th>\n",
       "      <th>permit</th>\n",
       "      <th>extraction_type</th>\n",
       "      <th>extraction_type_class</th>\n",
       "      <th>management</th>\n",
       "      <th>management_group</th>\n",
       "      <th>payment</th>\n",
       "      <th>payment_type</th>\n",
       "      <th>water_quality</th>\n",
       "      <th>quality_group</th>\n",
       "      <th>quantity</th>\n",
       "      <th>source</th>\n",
       "      <th>source_type</th>\n",
       "      <th>source_class</th>\n",
       "      <th>waterpoint_type</th>\n",
       "      <th>needs_repair</th>\n",
       "      <th>pump_age</th>\n",
       "    </tr>\n",
       "    <tr>\n",
       "      <th>id</th>\n",
       "      <th></th>\n",
       "      <th></th>\n",
       "      <th></th>\n",
       "      <th></th>\n",
       "      <th></th>\n",
       "      <th></th>\n",
       "      <th></th>\n",
       "      <th></th>\n",
       "      <th></th>\n",
       "      <th></th>\n",
       "      <th></th>\n",
       "      <th></th>\n",
       "      <th></th>\n",
       "      <th></th>\n",
       "      <th></th>\n",
       "      <th></th>\n",
       "      <th></th>\n",
       "      <th></th>\n",
       "      <th></th>\n",
       "      <th></th>\n",
       "      <th></th>\n",
       "      <th></th>\n",
       "      <th></th>\n",
       "      <th></th>\n",
       "      <th></th>\n",
       "      <th></th>\n",
       "      <th></th>\n",
       "      <th></th>\n",
       "    </tr>\n",
       "  </thead>\n",
       "  <tbody>\n",
       "    <tr>\n",
       "      <th>454.0</th>\n",
       "      <td>50.0</td>\n",
       "      <td>2092.0</td>\n",
       "      <td>35.426020</td>\n",
       "      <td>-4.227446</td>\n",
       "      <td>NaN</td>\n",
       "      <td>Internal</td>\n",
       "      <td>Manyara</td>\n",
       "      <td>21</td>\n",
       "      <td>1.0</td>\n",
       "      <td>160.0</td>\n",
       "      <td>True</td>\n",
       "      <td>Water Board</td>\n",
       "      <td>True</td>\n",
       "      <td>gravity</td>\n",
       "      <td>gravity</td>\n",
       "      <td>water board</td>\n",
       "      <td>user-group</td>\n",
       "      <td>pay per bucket</td>\n",
       "      <td>per bucket</td>\n",
       "      <td>soft</td>\n",
       "      <td>good</td>\n",
       "      <td>insufficient</td>\n",
       "      <td>spring</td>\n",
       "      <td>spring</td>\n",
       "      <td>groundwater</td>\n",
       "      <td>communal standpipe</td>\n",
       "      <td>0</td>\n",
       "      <td>15.0</td>\n",
       "    </tr>\n",
       "    <tr>\n",
       "      <th>510.0</th>\n",
       "      <td>NaN</td>\n",
       "      <td>NaN</td>\n",
       "      <td>35.510074</td>\n",
       "      <td>-5.724555</td>\n",
       "      <td>NaN</td>\n",
       "      <td>Internal</td>\n",
       "      <td>Dodoma</td>\n",
       "      <td>1</td>\n",
       "      <td>6.0</td>\n",
       "      <td>NaN</td>\n",
       "      <td>True</td>\n",
       "      <td>VWC</td>\n",
       "      <td>True</td>\n",
       "      <td>india mark ii</td>\n",
       "      <td>handpump</td>\n",
       "      <td>vwc</td>\n",
       "      <td>user-group</td>\n",
       "      <td>never pay</td>\n",
       "      <td>never pay</td>\n",
       "      <td>soft</td>\n",
       "      <td>good</td>\n",
       "      <td>enough</td>\n",
       "      <td>shallow well</td>\n",
       "      <td>shallow well</td>\n",
       "      <td>groundwater</td>\n",
       "      <td>hand pump</td>\n",
       "      <td>0</td>\n",
       "      <td>NaN</td>\n",
       "    </tr>\n",
       "    <tr>\n",
       "      <th>14146.0</th>\n",
       "      <td>NaN</td>\n",
       "      <td>NaN</td>\n",
       "      <td>32.499866</td>\n",
       "      <td>-9.081222</td>\n",
       "      <td>NaN</td>\n",
       "      <td>Lake Rukwa</td>\n",
       "      <td>Mbeya</td>\n",
       "      <td>12</td>\n",
       "      <td>6.0</td>\n",
       "      <td>NaN</td>\n",
       "      <td>True</td>\n",
       "      <td>VWC</td>\n",
       "      <td>False</td>\n",
       "      <td>other</td>\n",
       "      <td>other</td>\n",
       "      <td>vwc</td>\n",
       "      <td>user-group</td>\n",
       "      <td>never pay</td>\n",
       "      <td>never pay</td>\n",
       "      <td>soft</td>\n",
       "      <td>good</td>\n",
       "      <td>enough</td>\n",
       "      <td>shallow well</td>\n",
       "      <td>shallow well</td>\n",
       "      <td>groundwater</td>\n",
       "      <td>other</td>\n",
       "      <td>1</td>\n",
       "      <td>NaN</td>\n",
       "    </tr>\n",
       "    <tr>\n",
       "      <th>47410.0</th>\n",
       "      <td>NaN</td>\n",
       "      <td>NaN</td>\n",
       "      <td>34.060484</td>\n",
       "      <td>-8.830208</td>\n",
       "      <td>NaN</td>\n",
       "      <td>Rufiji</td>\n",
       "      <td>Mbeya</td>\n",
       "      <td>12</td>\n",
       "      <td>7.0</td>\n",
       "      <td>NaN</td>\n",
       "      <td>True</td>\n",
       "      <td>VWC</td>\n",
       "      <td>True</td>\n",
       "      <td>gravity</td>\n",
       "      <td>gravity</td>\n",
       "      <td>vwc</td>\n",
       "      <td>user-group</td>\n",
       "      <td>pay monthly</td>\n",
       "      <td>monthly</td>\n",
       "      <td>soft</td>\n",
       "      <td>good</td>\n",
       "      <td>insufficient</td>\n",
       "      <td>river</td>\n",
       "      <td>river/lake</td>\n",
       "      <td>surface</td>\n",
       "      <td>communal standpipe</td>\n",
       "      <td>1</td>\n",
       "      <td>NaN</td>\n",
       "    </tr>\n",
       "    <tr>\n",
       "      <th>1288.0</th>\n",
       "      <td>300.0</td>\n",
       "      <td>1023.0</td>\n",
       "      <td>37.032690</td>\n",
       "      <td>-6.040787</td>\n",
       "      <td>NaN</td>\n",
       "      <td>Wami / Ruvu</td>\n",
       "      <td>Morogoro</td>\n",
       "      <td>5</td>\n",
       "      <td>1.0</td>\n",
       "      <td>120.0</td>\n",
       "      <td>True</td>\n",
       "      <td>VWC</td>\n",
       "      <td>True</td>\n",
       "      <td>other</td>\n",
       "      <td>other</td>\n",
       "      <td>vwc</td>\n",
       "      <td>user-group</td>\n",
       "      <td>pay when scheme fails</td>\n",
       "      <td>on failure</td>\n",
       "      <td>salty</td>\n",
       "      <td>salty</td>\n",
       "      <td>enough</td>\n",
       "      <td>shallow well</td>\n",
       "      <td>shallow well</td>\n",
       "      <td>groundwater</td>\n",
       "      <td>other</td>\n",
       "      <td>1</td>\n",
       "      <td>14.0</td>\n",
       "    </tr>\n",
       "    <tr>\n",
       "      <th>...</th>\n",
       "      <td>...</td>\n",
       "      <td>...</td>\n",
       "      <td>...</td>\n",
       "      <td>...</td>\n",
       "      <td>...</td>\n",
       "      <td>...</td>\n",
       "      <td>...</td>\n",
       "      <td>...</td>\n",
       "      <td>...</td>\n",
       "      <td>...</td>\n",
       "      <td>...</td>\n",
       "      <td>...</td>\n",
       "      <td>...</td>\n",
       "      <td>...</td>\n",
       "      <td>...</td>\n",
       "      <td>...</td>\n",
       "      <td>...</td>\n",
       "      <td>...</td>\n",
       "      <td>...</td>\n",
       "      <td>...</td>\n",
       "      <td>...</td>\n",
       "      <td>...</td>\n",
       "      <td>...</td>\n",
       "      <td>...</td>\n",
       "      <td>...</td>\n",
       "      <td>...</td>\n",
       "      <td>...</td>\n",
       "      <td>...</td>\n",
       "    </tr>\n",
       "    <tr>\n",
       "      <th>68525.0</th>\n",
       "      <td>1000.0</td>\n",
       "      <td>327.0</td>\n",
       "      <td>36.367112</td>\n",
       "      <td>-8.774761</td>\n",
       "      <td>NaN</td>\n",
       "      <td>Rufiji</td>\n",
       "      <td>Morogoro</td>\n",
       "      <td>5</td>\n",
       "      <td>4.0</td>\n",
       "      <td>255.0</td>\n",
       "      <td>True</td>\n",
       "      <td>Water Board</td>\n",
       "      <td>True</td>\n",
       "      <td>gravity</td>\n",
       "      <td>gravity</td>\n",
       "      <td>wug</td>\n",
       "      <td>user-group</td>\n",
       "      <td>pay monthly</td>\n",
       "      <td>monthly</td>\n",
       "      <td>soft</td>\n",
       "      <td>good</td>\n",
       "      <td>enough</td>\n",
       "      <td>river</td>\n",
       "      <td>river/lake</td>\n",
       "      <td>surface</td>\n",
       "      <td>communal standpipe</td>\n",
       "      <td>0</td>\n",
       "      <td>16.0</td>\n",
       "    </tr>\n",
       "    <tr>\n",
       "      <th>11980.0</th>\n",
       "      <td>1000.0</td>\n",
       "      <td>1743.0</td>\n",
       "      <td>34.531524</td>\n",
       "      <td>-9.769604</td>\n",
       "      <td>NaN</td>\n",
       "      <td>Lake Nyasa</td>\n",
       "      <td>Iringa</td>\n",
       "      <td>11</td>\n",
       "      <td>5.0</td>\n",
       "      <td>35.0</td>\n",
       "      <td>True</td>\n",
       "      <td>VWC</td>\n",
       "      <td>False</td>\n",
       "      <td>gravity</td>\n",
       "      <td>gravity</td>\n",
       "      <td>vwc</td>\n",
       "      <td>user-group</td>\n",
       "      <td>pay annually</td>\n",
       "      <td>annually</td>\n",
       "      <td>soft</td>\n",
       "      <td>good</td>\n",
       "      <td>seasonal</td>\n",
       "      <td>spring</td>\n",
       "      <td>spring</td>\n",
       "      <td>groundwater</td>\n",
       "      <td>communal standpipe</td>\n",
       "      <td>0</td>\n",
       "      <td>23.0</td>\n",
       "    </tr>\n",
       "    <tr>\n",
       "      <th>35778.0</th>\n",
       "      <td>NaN</td>\n",
       "      <td>-13.0</td>\n",
       "      <td>38.974416</td>\n",
       "      <td>-5.420823</td>\n",
       "      <td>NaN</td>\n",
       "      <td>Pangani</td>\n",
       "      <td>Tanga</td>\n",
       "      <td>4</td>\n",
       "      <td>5.0</td>\n",
       "      <td>1000.0</td>\n",
       "      <td>False</td>\n",
       "      <td>Private operator</td>\n",
       "      <td>False</td>\n",
       "      <td>other</td>\n",
       "      <td>other</td>\n",
       "      <td>private operator</td>\n",
       "      <td>commercial</td>\n",
       "      <td>never pay</td>\n",
       "      <td>never pay</td>\n",
       "      <td>soft</td>\n",
       "      <td>good</td>\n",
       "      <td>insufficient</td>\n",
       "      <td>shallow well</td>\n",
       "      <td>shallow well</td>\n",
       "      <td>groundwater</td>\n",
       "      <td>other</td>\n",
       "      <td>1</td>\n",
       "      <td>6.0</td>\n",
       "    </tr>\n",
       "    <tr>\n",
       "      <th>49444.0</th>\n",
       "      <td>NaN</td>\n",
       "      <td>NaN</td>\n",
       "      <td>34.316586</td>\n",
       "      <td>-3.107161</td>\n",
       "      <td>NaN</td>\n",
       "      <td>Lake Victoria</td>\n",
       "      <td>Shinyanga</td>\n",
       "      <td>17</td>\n",
       "      <td>6.0</td>\n",
       "      <td>NaN</td>\n",
       "      <td>True</td>\n",
       "      <td>WUG</td>\n",
       "      <td>True</td>\n",
       "      <td>nira/tanira</td>\n",
       "      <td>handpump</td>\n",
       "      <td>wug</td>\n",
       "      <td>user-group</td>\n",
       "      <td>never pay</td>\n",
       "      <td>never pay</td>\n",
       "      <td>soft</td>\n",
       "      <td>good</td>\n",
       "      <td>enough</td>\n",
       "      <td>shallow well</td>\n",
       "      <td>shallow well</td>\n",
       "      <td>groundwater</td>\n",
       "      <td>hand pump</td>\n",
       "      <td>0</td>\n",
       "      <td>NaN</td>\n",
       "    </tr>\n",
       "    <tr>\n",
       "      <th>23812.0</th>\n",
       "      <td>NaN</td>\n",
       "      <td>1290.0</td>\n",
       "      <td>37.626401</td>\n",
       "      <td>-3.211457</td>\n",
       "      <td>NaN</td>\n",
       "      <td>Pangani</td>\n",
       "      <td>Kilimanjaro</td>\n",
       "      <td>3</td>\n",
       "      <td>1.0</td>\n",
       "      <td>1.0</td>\n",
       "      <td>True</td>\n",
       "      <td>Company</td>\n",
       "      <td>True</td>\n",
       "      <td>gravity</td>\n",
       "      <td>gravity</td>\n",
       "      <td>company</td>\n",
       "      <td>commercial</td>\n",
       "      <td>pay monthly</td>\n",
       "      <td>monthly</td>\n",
       "      <td>soft</td>\n",
       "      <td>good</td>\n",
       "      <td>enough</td>\n",
       "      <td>spring</td>\n",
       "      <td>spring</td>\n",
       "      <td>groundwater</td>\n",
       "      <td>communal standpipe multiple</td>\n",
       "      <td>1</td>\n",
       "      <td>37.0</td>\n",
       "    </tr>\n",
       "  </tbody>\n",
       "</table>\n",
       "<p>47519 rows × 28 columns</p>\n",
       "</div>"
      ],
      "text/plain": [
       "         amount_tsh  gps_height  longitude  latitude  num_private  \\\n",
       "id                                                                  \n",
       "454.0          50.0      2092.0  35.426020 -4.227446          NaN   \n",
       "510.0           NaN         NaN  35.510074 -5.724555          NaN   \n",
       "14146.0         NaN         NaN  32.499866 -9.081222          NaN   \n",
       "47410.0         NaN         NaN  34.060484 -8.830208          NaN   \n",
       "1288.0        300.0      1023.0  37.032690 -6.040787          NaN   \n",
       "...             ...         ...        ...       ...          ...   \n",
       "68525.0      1000.0       327.0  36.367112 -8.774761          NaN   \n",
       "11980.0      1000.0      1743.0  34.531524 -9.769604          NaN   \n",
       "35778.0         NaN       -13.0  38.974416 -5.420823          NaN   \n",
       "49444.0         NaN         NaN  34.316586 -3.107161          NaN   \n",
       "23812.0         NaN      1290.0  37.626401 -3.211457          NaN   \n",
       "\n",
       "                 basin       region  region_code  district_code  population  \\\n",
       "id                                                                            \n",
       "454.0         Internal      Manyara           21            1.0       160.0   \n",
       "510.0         Internal       Dodoma            1            6.0         NaN   \n",
       "14146.0     Lake Rukwa        Mbeya           12            6.0         NaN   \n",
       "47410.0         Rufiji        Mbeya           12            7.0         NaN   \n",
       "1288.0     Wami / Ruvu     Morogoro            5            1.0       120.0   \n",
       "...                ...          ...          ...            ...         ...   \n",
       "68525.0         Rufiji     Morogoro            5            4.0       255.0   \n",
       "11980.0     Lake Nyasa       Iringa           11            5.0        35.0   \n",
       "35778.0        Pangani        Tanga            4            5.0      1000.0   \n",
       "49444.0  Lake Victoria    Shinyanga           17            6.0         NaN   \n",
       "23812.0        Pangani  Kilimanjaro            3            1.0         1.0   \n",
       "\n",
       "        public_meeting scheme_management permit extraction_type  \\\n",
       "id                                                                \n",
       "454.0             True       Water Board   True         gravity   \n",
       "510.0             True               VWC   True   india mark ii   \n",
       "14146.0           True               VWC  False           other   \n",
       "47410.0           True               VWC   True         gravity   \n",
       "1288.0            True               VWC   True           other   \n",
       "...                ...               ...    ...             ...   \n",
       "68525.0           True       Water Board   True         gravity   \n",
       "11980.0           True               VWC  False         gravity   \n",
       "35778.0          False  Private operator  False           other   \n",
       "49444.0           True               WUG   True     nira/tanira   \n",
       "23812.0           True           Company   True         gravity   \n",
       "\n",
       "        extraction_type_class        management management_group  \\\n",
       "id                                                                 \n",
       "454.0                 gravity       water board       user-group   \n",
       "510.0                handpump               vwc       user-group   \n",
       "14146.0                 other               vwc       user-group   \n",
       "47410.0               gravity               vwc       user-group   \n",
       "1288.0                  other               vwc       user-group   \n",
       "...                       ...               ...              ...   \n",
       "68525.0               gravity               wug       user-group   \n",
       "11980.0               gravity               vwc       user-group   \n",
       "35778.0                 other  private operator       commercial   \n",
       "49444.0              handpump               wug       user-group   \n",
       "23812.0               gravity           company       commercial   \n",
       "\n",
       "                       payment payment_type water_quality quality_group  \\\n",
       "id                                                                        \n",
       "454.0           pay per bucket   per bucket          soft          good   \n",
       "510.0                never pay    never pay          soft          good   \n",
       "14146.0              never pay    never pay          soft          good   \n",
       "47410.0            pay monthly      monthly          soft          good   \n",
       "1288.0   pay when scheme fails   on failure         salty         salty   \n",
       "...                        ...          ...           ...           ...   \n",
       "68525.0            pay monthly      monthly          soft          good   \n",
       "11980.0           pay annually     annually          soft          good   \n",
       "35778.0              never pay    never pay          soft          good   \n",
       "49444.0              never pay    never pay          soft          good   \n",
       "23812.0            pay monthly      monthly          soft          good   \n",
       "\n",
       "             quantity        source   source_type source_class  \\\n",
       "id                                                               \n",
       "454.0    insufficient        spring        spring  groundwater   \n",
       "510.0          enough  shallow well  shallow well  groundwater   \n",
       "14146.0        enough  shallow well  shallow well  groundwater   \n",
       "47410.0  insufficient         river    river/lake      surface   \n",
       "1288.0         enough  shallow well  shallow well  groundwater   \n",
       "...               ...           ...           ...          ...   \n",
       "68525.0        enough         river    river/lake      surface   \n",
       "11980.0      seasonal        spring        spring  groundwater   \n",
       "35778.0  insufficient  shallow well  shallow well  groundwater   \n",
       "49444.0        enough  shallow well  shallow well  groundwater   \n",
       "23812.0        enough        spring        spring  groundwater   \n",
       "\n",
       "                     waterpoint_type  needs_repair  pump_age  \n",
       "id                                                            \n",
       "454.0             communal standpipe             0      15.0  \n",
       "510.0                      hand pump             0       NaN  \n",
       "14146.0                        other             1       NaN  \n",
       "47410.0           communal standpipe             1       NaN  \n",
       "1288.0                         other             1      14.0  \n",
       "...                              ...           ...       ...  \n",
       "68525.0           communal standpipe             0      16.0  \n",
       "11980.0           communal standpipe             0      23.0  \n",
       "35778.0                        other             1       6.0  \n",
       "49444.0                    hand pump             0       NaN  \n",
       "23812.0  communal standpipe multiple             1      37.0  \n",
       "\n",
       "[47519 rows x 28 columns]"
      ]
     },
     "execution_count": 43,
     "metadata": {},
     "output_type": "execute_result"
    }
   ],
   "source": [
    "df"
   ]
  },
  {
   "cell_type": "markdown",
   "metadata": {
    "id": "dd3R4DDqg-Zc"
   },
   "source": [
    "# II. Split Data"
   ]
  },
  {
   "cell_type": "code",
   "execution_count": 44,
   "metadata": {
    "id": "KJptRukxgzjH"
   },
   "outputs": [],
   "source": [
    "# Split TV / FM\n",
    "target = 'needs_repair'\n",
    "X = df.drop(columns=target)\n",
    "y = df[target]\n",
    "\n",
    "# Train-val split\n",
    "X_train, X_val, y_train, y_val = train_test_split(X, y, test_size=0.2, random_state=42)\n",
    "\n",
    "# Sanity check\n",
    "assert len(X_train) + len(X_val) == len(X)"
   ]
  },
  {
   "cell_type": "markdown",
   "metadata": {
    "id": "u2-vAPn3hHUc"
   },
   "source": [
    "# Baseline"
   ]
  },
  {
   "cell_type": "code",
   "execution_count": 45,
   "metadata": {
    "id": "WKceqLphhGoJ"
   },
   "outputs": [
    {
     "name": "stdout",
     "output_type": "stream",
     "text": [
      "Baseline Accuracy: 0.5425489938182296\n"
     ]
    }
   ],
   "source": [
    "print('Baseline Accuracy:', y_train.value_counts(normalize=True).max())"
   ]
  },
  {
   "cell_type": "markdown",
   "metadata": {
    "id": "fK1_Gn61hJYd"
   },
   "source": [
    "# Build Model\n",
    "\n",
    "- `OrdinalEncoder`\n",
    "- `SimpleImputer`\n",
    "- `RandomForestClassifier`"
   ]
  },
  {
   "cell_type": "code",
   "execution_count": 46,
   "metadata": {
    "id": "_Vv-xj1pgwg6"
   },
   "outputs": [],
   "source": [
    "model = make_pipeline(\n",
    "    OrdinalEncoder(),\n",
    "    SimpleImputer(),\n",
    "    RandomForestClassifier(n_estimators=25,\n",
    "                           n_jobs=-1,\n",
    "                           random_state=42)\n",
    ")\n",
    "\n",
    "model.fit(X_train, y_train);"
   ]
  },
  {
   "cell_type": "markdown",
   "metadata": {
    "id": "8vM1rgtDzq2y"
   },
   "source": [
    "# Interlude: Beware of Leakage\n",
    "\n",
    "If you leave `'status_group'` in your feature matrix, you'll have **leakage**. "
   ]
  },
  {
   "cell_type": "code",
   "execution_count": 47,
   "metadata": {
    "id": "3pMVIUKjEau1"
   },
   "outputs": [
    {
     "data": {
      "text/plain": [
       "<AxesSubplot:>"
      ]
     },
     "execution_count": 47,
     "metadata": {},
     "output_type": "execute_result"
    },
    {
     "data": {
      "image/png": "[encoded data removed]",
      "text/plain": [
       "<Figure size 432x288 with 1 Axes>"
      ]
     },
     "metadata": {
      "needs_background": "light"
     },
     "output_type": "display_data"
    }
   ],
   "source": [
    "importances = model.named_steps['randomforestclassifier'].feature_importances_\n",
    "features = X_train.columns\n",
    "pd.Series(importances,index=features).sort_values().tail(10).plot(kind='barh')"
   ]
  },
  {
   "cell_type": "markdown",
   "metadata": {
    "id": "DMwEt1k474xc"
   },
   "source": [
    "# Check Metrics"
   ]
  },
  {
   "cell_type": "markdown",
   "metadata": {
    "id": "judyBmufjFMO"
   },
   "source": [
    "**Accuracy Score**"
   ]
  },
  {
   "cell_type": "code",
   "execution_count": 48,
   "metadata": {
    "id": "dYfiyggjjHJc"
   },
   "outputs": [
    {
     "name": "stdout",
     "output_type": "stream",
     "text": [
      "Training Accuracy: 0.993870840457714\n",
      "Validation Accuracy: 0.8099747474747475\n"
     ]
    }
   ],
   "source": [
    "print('Training Accuracy:', model.score(X_train,y_train))\n",
    "print('Validation Accuracy:', model.score(X_val,y_val))"
   ]
  },
  {
   "cell_type": "markdown",
   "metadata": {
    "id": "AYl61hLojcoI"
   },
   "source": [
    "**Confusion Matrix**"
   ]
  },
  {
   "cell_type": "code",
   "execution_count": 55,
   "metadata": {
    "id": "GIejjFdRB7nO"
   },
   "outputs": [
    {
     "data": {
      "image/png": "[encoded data removed]",
      "text/plain": [
       "<Figure size 432x288 with 2 Axes>"
      ]
     },
     "metadata": {
      "needs_background": "light"
     },
     "output_type": "display_data"
    }
   ],
   "source": [
    "plot_confusion_matrix(model, X_val,y_val,values_format = '.0f', display_labels=['no repairs needed','needs repair']);"
   ]
  },
  {
   "cell_type": "code",
   "execution_count": 58,
   "metadata": {},
   "outputs": [
    {
     "data": {
      "text/plain": [
       "0.99"
      ]
     },
     "execution_count": 58,
     "metadata": {},
     "output_type": "execute_result"
    }
   ],
   "source": [
    "# Total 10,000 emails\n",
    "# Class 0 - not spam - 9900\n",
    "# Class 0 - spam - 100\n",
    "100/10000\n",
    "# Assume all 100 are misclassified as 0\n",
    "9900/10000"
   ]
  },
  {
   "cell_type": "markdown",
   "metadata": {
    "id": "p-1W_YipqZRU"
   },
   "source": [
    "**Precision Score**\n",
    "\n",
    "Of all the pumps that you predicted as needing repair, what proportion actually needed repair?"
   ]
  },
  {
   "cell_type": "code",
   "execution_count": 61,
   "metadata": {
    "id": "73k4ji2yEgKh"
   },
   "outputs": [
    {
     "data": {
      "text/plain": [
       "0.8144175604889"
      ]
     },
     "execution_count": 61,
     "metadata": {},
     "output_type": "execute_result"
    }
   ],
   "source": [
    "# precision = tp / (tp + fp)\n",
    "3265/(3265+744)"
   ]
  },
  {
   "cell_type": "markdown",
   "metadata": {
    "id": "K7LCntg4r3Dx"
   },
   "source": [
    "**Recall Score** \n",
    "\n",
    "Of those pumps that actually needed repair, what proportion did you correctly predict as needing repair?"
   ]
  },
  {
   "cell_type": "code",
   "execution_count": 60,
   "metadata": {
    "id": "uf6Lx4D8EfA3"
   },
   "outputs": [
    {
     "data": {
      "text/plain": [
       "0.7587729491052754"
      ]
     },
     "execution_count": 60,
     "metadata": {},
     "output_type": "execute_result"
    }
   ],
   "source": [
    "# recall = tp/(tp + fn)\n",
    "3265/(3265+1038)"
   ]
  },
  {
   "cell_type": "markdown",
   "metadata": {
    "id": "dlUIxr6Qsyto"
   },
   "source": [
    "**Classification Report**"
   ]
  },
  {
   "cell_type": "code",
   "execution_count": 63,
   "metadata": {
    "id": "HOy7wDJlEhnV"
   },
   "outputs": [
    {
     "name": "stdout",
     "output_type": "stream",
     "text": [
      "                  precision    recall  f1-score   support\n",
      "\n",
      "no repair needed       0.81      0.86      0.83      5177\n",
      "    needs repair       0.81      0.75      0.78      4327\n",
      "\n",
      "        accuracy                           0.81      9504\n",
      "       macro avg       0.81      0.81      0.81      9504\n",
      "    weighted avg       0.81      0.81      0.81      9504\n",
      "\n"
     ]
    }
   ],
   "source": [
    "print(classification_report(y_val,model.predict(X_val),target_names=['no repair needed','needs repair']))"
   ]
  },
  {
   "cell_type": "code",
   "execution_count": null,
   "metadata": {},
   "outputs": [],
   "source": [
    "# F1-score = 2 * (precision*recall)/ (precision+recall)"
   ]
  },
  {
   "cell_type": "markdown",
   "metadata": {
    "id": "gY651G8UTz14"
   },
   "source": [
    "# Case Study\n",
    "\n",
    "Let's say that is costs the Tanzanian government $100 to inspect a water pump, and there is only funding for 2000 pump inspections. "
   ]
  },
  {
   "cell_type": "code",
   "execution_count": 64,
   "metadata": {
    "id": "gKkPlg2CT_Ij"
   },
   "outputs": [],
   "source": [
    "n_inspections = 2000"
   ]
  },
  {
   "cell_type": "markdown",
   "metadata": {
    "id": "NCEOYhXLT6jU"
   },
   "source": [
    "Scenario 1: Choose pumps randomly"
   ]
  },
  {
   "cell_type": "code",
   "execution_count": 65,
   "metadata": {},
   "outputs": [
    {
     "data": {
      "text/plain": [
       "0    0.544718\n",
       "1    0.455282\n",
       "Name: needs_repair, dtype: float64"
      ]
     },
     "execution_count": 65,
     "metadata": {},
     "output_type": "execute_result"
    }
   ],
   "source": [
    "y_val.value_counts(normalize=True)"
   ]
  },
  {
   "cell_type": "code",
   "execution_count": 70,
   "metadata": {
    "id": "bi3hLi8sbDcS"
   },
   "outputs": [
    {
     "name": "stdout",
     "output_type": "stream",
     "text": [
      "Inspections conducted: 2000\n",
      "Pumps repaired: 910\n",
      "Funds wasted: 108943.60269360268\n"
     ]
    }
   ],
   "source": [
    "repair_prob = y_val.value_counts(normalize=True).min()\n",
    "\n",
    "print('Inspections conducted:',n_inspections)\n",
    "print('Pumps repaired:',int(repair_prob*n_inspections) )\n",
    "print('Funds wasted:', (n_inspections - repair_prob*n_inspections)*100)"
   ]
  },
  {
   "cell_type": "markdown",
   "metadata": {
    "id": "T1JrG_BEUgCd"
   },
   "source": [
    "Scenario 2: Using our model \"out of the box\""
   ]
  },
  {
   "cell_type": "code",
   "execution_count": 81,
   "metadata": {
    "id": "QFoLTRxocMpw"
   },
   "outputs": [
    {
     "name": "stdout",
     "output_type": "stream",
     "text": [
      "Inspections conducted: 2000\n",
      "Pumps repaired: 1640\n",
      "Funds wasted: 36000\n"
     ]
    }
   ],
   "source": [
    "data={'y_val':y_val,\n",
    "      'y_pred':model.predict(X_val)}\n",
    "\n",
    "results = pd.DataFrame(data)\n",
    "\n",
    "mask=(results['y_pred']==1)\n",
    "sample = results[mask].sample(n_inspections)\n",
    "\n",
    "print('Inspections conducted:',n_inspections)\n",
    "print('Pumps repaired:', sample['y_val'].sum())\n",
    "print('Funds wasted:', (n_inspections - sample['y_val'].sum())*100)"
   ]
  },
  {
   "cell_type": "markdown",
   "metadata": {
    "id": "Sj_80wEQb3N1"
   },
   "source": [
    "Scenario 3: We empasize **precision** in our model, and only select pumps that our model is very certain (`>0.85`) need repair."
   ]
  },
  {
   "cell_type": "code",
   "execution_count": 86,
   "metadata": {
    "id": "yB4jG29FEmUz"
   },
   "outputs": [
    {
     "name": "stdout",
     "output_type": "stream",
     "text": [
      "Inspections conducted: 2000\n",
      "Pumps repaired: 1903\n",
      "Funds wasted: 9700\n"
     ]
    }
   ],
   "source": [
    "data={'y_val':y_val,'y_pred_proba':model.predict_proba(X_val)[:,-1]}\n",
    "results = pd.DataFrame(data)\n",
    "\n",
    "threshold= 0.85\n",
    "\n",
    "mask=(results['y_pred_proba']>threshold)\n",
    "sample = results[mask].sample(n_inspections)\n",
    "\n",
    "print('Inspections conducted:',n_inspections)\n",
    "print('Pumps repaired:', sample['y_val'].sum())\n",
    "print('Funds wasted:', (n_inspections - sample['y_val'].sum())*100)"
   ]
  },
  {
   "cell_type": "markdown",
   "metadata": {
    "id": "NFH5i8OBjbEo"
   },
   "source": [
    "# ROC Curve - Will be covered in the next module.\n",
    "\n",
    "An ROC curve (receiver operating characteristic curve) is a graph showing the performance of a classification model at all classification thresholds.\n",
    "\n",
    "This curve plots two parameters: True Positive Rate. False Positive Rate.\n"
   ]
  },
  {
   "cell_type": "code",
   "execution_count": null,
   "metadata": {
    "id": "dLCuGb07jnSr"
   },
   "outputs": [],
   "source": [
    "# True positive rate vs false positive rate"
   ]
  }
 ],
 "metadata": {
  "colab": {
   "collapsed_sections": [],
   "name": "DS30_SHR_224_guided-project-notes.ipynb",
   "provenance": []
  },
  "kernelspec": {
   "display_name": "Python 3 (ipykernel)",
   "language": "python",
   "name": "python3"
  },
  "language_info": {
   "codemirror_mode": {
    "name": "ipython",
    "version": 3
   },
   "file_extension": ".py",
   "mimetype": "text/x-python",
   "name": "python",
   "nbconvert_exporter": "python",
   "pygments_lexer": "ipython3",
   "version": "3.9.1"
  }
 },
 "nbformat": 4,
 "nbformat_minor": 1
}
