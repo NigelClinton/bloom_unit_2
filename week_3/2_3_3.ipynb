{
 "cells": [
  {
   "cell_type": "code",
   "execution_count": 7,
   "id": "a44c34eb",
   "metadata": {},
   "outputs": [
    {
     "name": "stdout",
     "output_type": "stream",
     "text": [
      "Requirement already satisfied: category_encoders in c:\\users\\nigel\\appdata\\local\\programs\\python\\python39\\lib\\site-packages (2.2.2)\n",
      "Requirement already satisfied: scipy>=1.0.0 in c:\\users\\nigel\\appdata\\local\\programs\\python\\python39\\lib\\site-packages (from category_encoders) (1.7.0)\n",
      "Requirement already satisfied: statsmodels>=0.9.0 in c:\\users\\nigel\\appdata\\local\\programs\\python\\python39\\lib\\site-packages (from category_encoders) (0.12.2)\n",
      "Requirement already satisfied: numpy>=1.14.0 in c:\\users\\nigel\\appdata\\local\\programs\\python\\python39\\lib\\site-packages (from category_encoders) (1.21.0)\n",
      "Requirement already satisfied: scikit-learn>=0.20.0 in c:\\users\\nigel\\appdata\\local\\programs\\python\\python39\\lib\\site-packages (from category_encoders) (0.24.2)\n",
      "Requirement already satisfied: pandas>=0.21.1 in c:\\users\\nigel\\appdata\\local\\programs\\python\\python39\\lib\\site-packages (from category_encoders) (1.3.0)\n",
      "Requirement already satisfied: patsy>=0.5.1 in c:\\users\\nigel\\appdata\\local\\programs\\python\\python39\\lib\\site-packages (from category_encoders) (0.5.1)\n",
      "Requirement already satisfied: pytz>=2017.3 in c:\\users\\nigel\\appdata\\local\\programs\\python\\python39\\lib\\site-packages (from pandas>=0.21.1->category_encoders) (2021.1)\n",
      "Requirement already satisfied: python-dateutil>=2.7.3 in c:\\users\\nigel\\appdata\\local\\programs\\python\\python39\\lib\\site-packages (from pandas>=0.21.1->category_encoders) (2.8.1)\n",
      "Requirement already satisfied: six in c:\\users\\nigel\\appdata\\local\\programs\\python\\python39\\lib\\site-packages (from patsy>=0.5.1->category_encoders) (1.16.0)\n",
      "Requirement already satisfied: threadpoolctl>=2.0.0 in c:\\users\\nigel\\appdata\\local\\programs\\python\\python39\\lib\\site-packages (from scikit-learn>=0.20.0->category_encoders) (2.2.0)\n",
      "Requirement already satisfied: joblib>=0.11 in c:\\users\\nigel\\appdata\\local\\programs\\python\\python39\\lib\\site-packages (from scikit-learn>=0.20.0->category_encoders) (1.0.1)\n"
     ]
    },
    {
     "name": "stderr",
     "output_type": "stream",
     "text": [
      "WARNING: You are using pip version 21.2.2; however, version 21.2.4 is available.\n",
      "You should consider upgrading via the 'c:\\users\\nigel\\appdata\\local\\programs\\python\\python39\\python.exe -m pip install --upgrade pip' command.\n"
     ]
    }
   ],
   "source": [
    "!pip install category_encoders"
   ]
  },
  {
   "cell_type": "code",
   "execution_count": 16,
   "id": "620de93f",
   "metadata": {},
   "outputs": [
    {
     "ename": "ModuleNotFoundError",
     "evalue": "No module named 'xgboost'",
     "output_type": "error",
     "traceback": [
      "\u001b[1;31m---------------------------------------------------------------------------\u001b[0m",
      "\u001b[1;31mModuleNotFoundError\u001b[0m                       Traceback (most recent call last)",
      "\u001b[1;32m~\\AppData\\Local\\Temp/ipykernel_11604/2907533572.py\u001b[0m in \u001b[0;36m<module>\u001b[1;34m\u001b[0m\n\u001b[0;32m     24\u001b[0m \u001b[1;32mfrom\u001b[0m \u001b[0msklearn\u001b[0m\u001b[1;33m.\u001b[0m\u001b[0mensemble\u001b[0m \u001b[1;32mimport\u001b[0m \u001b[0mRandomForestClassifier\u001b[0m\u001b[1;33m,\u001b[0m \u001b[0mGradientBoostingClassifier\u001b[0m\u001b[1;33m\u001b[0m\u001b[1;33m\u001b[0m\u001b[0m\n\u001b[0;32m     25\u001b[0m \u001b[1;32mfrom\u001b[0m \u001b[0msklearn\u001b[0m\u001b[1;33m.\u001b[0m\u001b[0mtree\u001b[0m \u001b[1;32mimport\u001b[0m \u001b[0mDecisionTreeClassifier\u001b[0m\u001b[1;33m\u001b[0m\u001b[1;33m\u001b[0m\u001b[0m\n\u001b[1;32m---> 26\u001b[1;33m \u001b[1;32mfrom\u001b[0m \u001b[0mxgboost\u001b[0m \u001b[1;32mimport\u001b[0m \u001b[0mXBClassifier\u001b[0m\u001b[1;33m\u001b[0m\u001b[1;33m\u001b[0m\u001b[0m\n\u001b[0m\u001b[0;32m     27\u001b[0m \u001b[1;33m\u001b[0m\u001b[0m\n\u001b[0;32m     28\u001b[0m \u001b[1;32mfrom\u001b[0m \u001b[0mIPython\u001b[0m\u001b[1;33m.\u001b[0m\u001b[0mdisplay\u001b[0m \u001b[1;32mimport\u001b[0m \u001b[0mImage\u001b[0m\u001b[1;33m\u001b[0m\u001b[1;33m\u001b[0m\u001b[0m\n",
      "\u001b[1;31mModuleNotFoundError\u001b[0m: No module named 'xgboost'"
     ]
    }
   ],
   "source": [
    "# data analysis and wrangling\n",
    "import pandas as pd\n",
    "import numpy as np\n",
    "\n",
    "# visualization\n",
    "import matplotlib.pyplot as plt\n",
    "%matplotlib inline\n",
    "\n",
    "from sklearn.model_selection import train_test_split\n",
    "\n",
    "# encoders\n",
    "from category_encoders import OneHotEncoder, OrdinalEncoder\n",
    "from sklearn.impute import SimpleImputer\n",
    "from sklearn.preprocessing import StandardScaler\n",
    "\n",
    "#metrics\n",
    "from sklearn.metrics import accuracy_score, precision_score, recall_score, classification_report, roc_auc_score\n",
    "\n",
    "#pipeline\n",
    "from sklearn.pipeline import make_pipeline\n",
    "\n",
    "# machine learning\n",
    "from sklearn.linear_model import LogisticRegression\n",
    "from sklearn.ensemble import RandomForestClassifier, GradientBoostingClassifier\n",
    "from sklearn.tree import DecisionTreeClassifier\n",
    "from xgboost import XBClassifier\n",
    "\n",
    "from IPython.display import Image\n",
    "from IPython.core.display import HTML "
   ]
  },
  {
   "cell_type": "code",
   "execution_count": 2,
   "id": "74c3e1b2",
   "metadata": {},
   "outputs": [],
   "source": [
    "def wrangle(fm_path, tv_path=None):\n",
    "    if tv_path:\n",
    "        df = pd.merge(pd.read_csv(fm_path, parse_dates=['date_recorded'], na_values=[-2e-08, 0]), \n",
    "                         pd.read_csv(tv_path)).set_index('date_recorded')\n",
    "\n",
    "    else:\n",
    "        df = pd.read_csv(DATA_PATH+'waterpumps/test_features.csv', parse_dates=['date_recorded']).set_index('date_recorded')\n",
    "    \n",
    "    # When columns have zeros and shouldn't, they are like null values.\n",
    "    # So we will replace the zeros with nulls, and impute missing values later.\n",
    "    # Also create a \"missing indicator\" column, because the fact that\n",
    "    # values are missing may be a predictive signal.\n",
    "    cols_with_zeros = ['longitude', 'latitude', 'construction_year', \n",
    "                       'gps_height', 'population']\n",
    "    for col in cols_with_zeros:\n",
    "        df[col] = df[col].replace(0, np.nan)\n",
    "        df[col+'_MISSING'] = df[col].isnull()\n",
    "            \n",
    "    # Drop duplicate columns\n",
    "    duplicates = ['quantity_group', 'payment_type']\n",
    "    df = df.drop(columns=duplicates)\n",
    "    \n",
    "    # Drop recorded_by (never varies) and id (always varies, random)\n",
    "    unusable_variance = ['recorded_by', 'id']\n",
    "    df = df.drop(columns=unusable_variance)\n",
    "    \n",
    "    \n",
    "    # Edftract components from date_recorded, then drop the original column\n",
    "    df['year_recorded'] = df.index.year\n",
    "    df['month_recorded'] = df.index.month\n",
    "    df['day_recorded'] = df.index.day\n",
    "\n",
    "    # Engineer feature: how many years from construction_year to date_recorded\n",
    "    df['years'] = df['year_recorded'] - df['construction_year']\n",
    "    df['years_MISSING'] = df['years'].isnull()\n",
    "    \n",
    "    # return the wrangled dataframe\n",
    "    return df"
   ]
  },
  {
   "cell_type": "code",
   "execution_count": 33,
   "id": "f5efcd72",
   "metadata": {},
   "outputs": [],
   "source": [
    "fm_path = 'train_features.csv'\n",
    "tv_path = 'train_labels.csv'\n",
    "df = wrangle(fm_path, tv_path)"
   ]
  },
  {
   "cell_type": "code",
   "execution_count": 34,
   "id": "a795826c",
   "metadata": {},
   "outputs": [
    {
     "name": "stdout",
     "output_type": "stream",
     "text": [
      "<class 'pandas.core.frame.DataFrame'>\n",
      "DatetimeIndex: 47519 entries, 2013-02-27 to 2013-02-24\n",
      "Data columns (total 46 columns):\n",
      " #   Column                     Non-Null Count  Dtype  \n",
      "---  ------                     --------------  -----  \n",
      " 0   amount_tsh                 14189 non-null  float64\n",
      " 1   funder                     44010 non-null  object \n",
      " 2   gps_height                 31245 non-null  float64\n",
      " 3   installer                  43997 non-null  object \n",
      " 4   longitude                  46086 non-null  float64\n",
      " 5   latitude                   46086 non-null  float64\n",
      " 6   wpt_name                   47519 non-null  object \n",
      " 7   num_private                617 non-null    float64\n",
      " 8   basin                      47519 non-null  object \n",
      " 9   subvillage                 47223 non-null  object \n",
      " 10  region                     47519 non-null  object \n",
      " 11  region_code                47519 non-null  int64  \n",
      " 12  district_code              47500 non-null  float64\n",
      " 13  lga                        47519 non-null  object \n",
      " 14  ward                       47519 non-null  object \n",
      " 15  population                 30472 non-null  float64\n",
      " 16  public_meeting             44831 non-null  object \n",
      " 17  scheme_management          44417 non-null  object \n",
      " 18  scheme_name                24997 non-null  object \n",
      " 19  permit                     45080 non-null  object \n",
      " 20  construction_year          31017 non-null  float64\n",
      " 21  extraction_type            47519 non-null  object \n",
      " 22  extraction_type_group      47519 non-null  object \n",
      " 23  extraction_type_class      47519 non-null  object \n",
      " 24  management                 47519 non-null  object \n",
      " 25  management_group           47519 non-null  object \n",
      " 26  payment                    47519 non-null  object \n",
      " 27  water_quality              47519 non-null  object \n",
      " 28  quality_group              47519 non-null  object \n",
      " 29  quantity                   47519 non-null  object \n",
      " 30  source                     47519 non-null  object \n",
      " 31  source_type                47519 non-null  object \n",
      " 32  source_class               47519 non-null  object \n",
      " 33  waterpoint_type            47519 non-null  object \n",
      " 34  waterpoint_type_group      47519 non-null  object \n",
      " 35  status_group               47519 non-null  object \n",
      " 36  longitude_MISSING          47519 non-null  bool   \n",
      " 37  latitude_MISSING           47519 non-null  bool   \n",
      " 38  construction_year_MISSING  47519 non-null  bool   \n",
      " 39  gps_height_MISSING         47519 non-null  bool   \n",
      " 40  population_MISSING         47519 non-null  bool   \n",
      " 41  year_recorded              47519 non-null  int64  \n",
      " 42  month_recorded             47519 non-null  int64  \n",
      " 43  day_recorded               47519 non-null  int64  \n",
      " 44  years                      31017 non-null  float64\n",
      " 45  years_MISSING              47519 non-null  bool   \n",
      "dtypes: bool(6), float64(9), int64(4), object(27)\n",
      "memory usage: 15.1+ MB\n"
     ]
    }
   ],
   "source": [
    "df.info()"
   ]
  },
  {
   "cell_type": "code",
   "execution_count": 35,
   "id": "90cdacc2",
   "metadata": {},
   "outputs": [],
   "source": [
    "# Split data into feature and target\n",
    "target = 'status_group'\n",
    "X,y = df.drop(columns=target),df[target]"
   ]
  },
  {
   "cell_type": "code",
   "execution_count": 36,
   "id": "4972f238",
   "metadata": {},
   "outputs": [],
   "source": [
    "# Split into train and validation\n",
    "X_train,X_val,y_train,y_val = train_test_split(X,y,test_size=.2,random_state=42)"
   ]
  },
  {
   "cell_type": "code",
   "execution_count": 37,
   "id": "5d100979",
   "metadata": {},
   "outputs": [
    {
     "name": "stdout",
     "output_type": "stream",
     "text": [
      "Baseline Accuracy: 0.5425489938182296\n"
     ]
    }
   ],
   "source": [
    "print('Baseline Accuracy:', y_train.value_counts(normalize=True).max())"
   ]
  },
  {
   "cell_type": "markdown",
   "id": "f4cd1794",
   "metadata": {},
   "source": [
    "# Roadmap of tree models\n",
    "\n",
    "Decision Trees --> Random Forests --> Gradient Boosted Trees --> Extreme Gradient Boosted Trees (XGBoost)"
   ]
  },
  {
   "cell_type": "code",
   "execution_count": 29,
   "id": "36a79c82",
   "metadata": {},
   "outputs": [],
   "source": [
    "# Build random forest classifier\n",
    "model_rf = make_pipeline(OrdinalEncoder(),\n",
    "                         SimpleImputer(strategy='mean'),\n",
    "                         RandomForestClassifier(n_jobs=-1,random_state=42,n_estimators=75))\n",
    "model_rf.fit(X_train,y_train);"
   ]
  },
  {
   "cell_type": "code",
   "execution_count": 15,
   "id": "132b7dc6",
   "metadata": {},
   "outputs": [
    {
     "name": "stdout",
     "output_type": "stream",
     "text": [
      "Training Accuracy: 0.9999210837827174\n",
      "Validation Accuracy: 0.8029250841750841\n"
     ]
    }
   ],
   "source": [
    "# Compute accuracy for the models\n",
    "print('Training Accuracy:', model_rf.score(X_train,y_train))\n",
    "print('Validation Accuracy:', model_rf.score(X_val,y_val))"
   ]
  },
  {
   "cell_type": "code",
   "execution_count": 25,
   "id": "92bcd58e",
   "metadata": {},
   "outputs": [
    {
     "data": {
      "image/png": "[encoded data removed]",
      "text/plain": [
       "<Figure size 432x288 with 1 Axes>"
      ]
     },
     "metadata": {
      "needs_background": "light"
     },
     "output_type": "display_data"
    }
   ],
   "source": [
    "importances = model_rf.named_steps['randomforestclassifier'].feature_importances_\n",
    "feature_names = X_train.columns\n",
    "feat_imp =pd.Series(data=importances,index=feature_names).sort_values()\n",
    "feat_imp.tail(20).plot(kind='barh');"
   ]
  },
  {
   "cell_type": "code",
   "execution_count": 18,
   "id": "110bf7f9",
   "metadata": {},
   "outputs": [
    {
     "data": {
      "text/plain": [
       "Pipeline(steps=[('ordinalencoder',\n",
       "                 OrdinalEncoder(cols=['funder', 'installer', 'wpt_name',\n",
       "                                      'basin', 'subvillage', 'region', 'lga',\n",
       "                                      'ward', 'public_meeting',\n",
       "                                      'scheme_management', 'scheme_name',\n",
       "                                      'permit', 'extraction_type',\n",
       "                                      'extraction_type_group',\n",
       "                                      'extraction_type_class', 'management',\n",
       "                                      'management_group', 'payment',\n",
       "                                      'water_quality', 'quality_group',\n",
       "                                      'quantity', 'source',...\n",
       "communal standpipe multiple    3\n",
       "improved spring                4\n",
       "other                          5\n",
       "cattle trough                  6\n",
       "dam                            7\n",
       "NaN                           -2\n",
       "dtype: int64},\n",
       "                                         {'col': 'waterpoint_type_group',\n",
       "                                          'data_type': dtype('O'),\n",
       "                                          'mapping': hand pump             1\n",
       "communal standpipe    2\n",
       "improved spring       3\n",
       "other                 4\n",
       "cattle trough         5\n",
       "dam                   6\n",
       "NaN                  -2\n",
       "dtype: int64}])),\n",
       "                ('simpleimputer', SimpleImputer()),\n",
       "                ('gradientboostingclassifier',\n",
       "                 GradientBoostingClassifier(n_estimators=75, random_state=42))])"
      ]
     },
     "execution_count": 18,
     "metadata": {},
     "output_type": "execute_result"
    }
   ],
   "source": [
    "# Build gradient boosted \n",
    "model_gb = make_pipeline(OrdinalEncoder(),\n",
    "                         SimpleImputer(strategy='mean'),\n",
    "                         GradientBoostingClassifier(random_state = 42, n_estimators=75))\n",
    "model_gb.fit(X_train,y_train)"
   ]
  },
  {
   "cell_type": "code",
   "execution_count": 20,
   "id": "a830aa5a",
   "metadata": {},
   "outputs": [
    {
     "name": "stdout",
     "output_type": "stream",
     "text": [
      "Training Accuracy: 0.7537550966723662\n",
      "Validation Accuracy: 0.7429503367003367\n"
     ]
    }
   ],
   "source": [
    "print('Training Accuracy:', model_gb.score(X_train,y_train))\n",
    "print('Validation Accuracy:', model_gb.score(X_val,y_val))"
   ]
  },
  {
   "cell_type": "code",
   "execution_count": 26,
   "id": "a67f3e5c",
   "metadata": {},
   "outputs": [
    {
     "data": {
      "image/png": "[encoded data removed]",
      "text/plain": [
       "<Figure size 432x288 with 1 Axes>"
      ]
     },
     "metadata": {
      "needs_background": "light"
     },
     "output_type": "display_data"
    }
   ],
   "source": [
    "importances = model_gb.named_steps['gradientboostingclassifier'].feature_importances_\n",
    "feature_names = X_train.columns\n",
    "feat_imp =pd.Series(data=importances,index=feature_names).sort_values()\n",
    "feat_imp.tail(20).plot(kind='barh');"
   ]
  },
  {
   "cell_type": "code",
   "execution_count": null,
   "id": "b5b73896",
   "metadata": {},
   "outputs": [],
   "source": [
    "# Build XGBoost boosted \n",
    "model_xgb = make_pipeline(OrdinalEncoder(),\n",
    "                         SimpleImputer(strategy='mean'),\n",
    "                         XGBClassifier(random_state = 42, n_estimators=75,n_jobs=-1))\n",
    "model_xgb.fit(X_train,y_train)"
   ]
  },
  {
   "cell_type": "code",
   "execution_count": null,
   "id": "ef00760c",
   "metadata": {},
   "outputs": [],
   "source": [
    "print('Training Accuracy:', model_xgb.score(X_train,y_train))\n",
    "print('Validation Accuracy:', model_xgb.score(X_val,y_val))"
   ]
  },
  {
   "cell_type": "code",
   "execution_count": 24,
   "id": "3c376ae3",
   "metadata": {},
   "outputs": [
    {
     "data": {
      "image/png": "[encoded data removed]",
      "text/plain": [
       "<Figure size 432x288 with 1 Axes>"
      ]
     },
     "metadata": {
      "needs_background": "light"
     },
     "output_type": "display_data"
    }
   ],
   "source": [
    "importances = model_gb.named_steps['xgbclassifier'].feature_importances_\n",
    "feature_names = X_train.columns\n",
    "feat_imp =pd.Series(data=importances,index=feature_names).sort_values()\n",
    "feat_imp.tail(20).plot(kind='barh');"
   ]
  },
  {
   "cell_type": "code",
   "execution_count": 47,
   "id": "026bf193",
   "metadata": {},
   "outputs": [
    {
     "data": {
      "text/plain": [
       "Pipeline(steps=[('ordinalencoder',\n",
       "                 OrdinalEncoder(cols=['funder', 'installer', 'wpt_name',\n",
       "                                      'basin', 'subvillage', 'region', 'lga',\n",
       "                                      'ward', 'public_meeting',\n",
       "                                      'scheme_management', 'scheme_name',\n",
       "                                      'permit', 'extraction_type',\n",
       "                                      'extraction_type_group',\n",
       "                                      'extraction_type_class', 'management',\n",
       "                                      'management_group', 'payment',\n",
       "                                      'water_quality', 'quality_group',\n",
       "                                      'quantity', 'source',...\n",
       "                                          'data_type': dtype('O'),\n",
       "                                          'mapping': groundwater    1\n",
       "surface        2\n",
       "unknown        3\n",
       "NaN           -2\n",
       "dtype: int64},\n",
       "                                         {'col': 'waterpoint_type_group',\n",
       "                                          'data_type': dtype('O'),\n",
       "                                          'mapping': hand pump             1\n",
       "communal standpipe    2\n",
       "improved spring       3\n",
       "other                 4\n",
       "cattle trough         5\n",
       "dam                   6\n",
       "NaN                  -2\n",
       "dtype: int64}])),\n",
       "                ('simpleimputer', SimpleImputer()),\n",
       "                ('randomforestclassifier',\n",
       "                 RandomForestClassifier(n_estimators=75, n_jobs=-1,\n",
       "                                        random_state=42))])"
      ]
     },
     "execution_count": 47,
     "metadata": {},
     "output_type": "execute_result"
    }
   ],
   "source": [
    "# Use the random forest pipeline but train on X_train without the 'quantity' feature\n",
    "# for cols in x_train.columns:\n",
    "model_rf = make_pipeline( OrdinalEncoder(),\n",
    "                         SimpleImputer(strategy = 'mean'),\n",
    "                         RandomForestClassifier(n_jobs = -1, random_state=42, n_estimators=75))\n",
    "\n",
    "model_rf.fit(X_train.drop(columns='waterpoint_type'),y_train)"
   ]
  },
  {
   "cell_type": "code",
   "execution_count": 48,
   "id": "14f7c90b",
   "metadata": {},
   "outputs": [
    {
     "name": "stdout",
     "output_type": "stream",
     "text": [
      "Training Accuracy 0.9998421675654346\n",
      "Validation Accuracy 0.7997685185185185\n"
     ]
    }
   ],
   "source": [
    "print('Training Accuracy', model_rf.score(X_train.drop(columns='waterpoint_type'), y_train))\n",
    "print('Validation Accuracy', model_rf.score(X_val.drop(columns='waterpoint_type'), y_val))"
   ]
  },
  {
   "cell_type": "code",
   "execution_count": 51,
   "id": "7be79519",
   "metadata": {},
   "outputs": [
    {
     "data": {
      "text/plain": [
       "Pipeline(steps=[('ordinalencoder',\n",
       "                 OrdinalEncoder(cols=['funder', 'installer', 'wpt_name',\n",
       "                                      'basin', 'subvillage', 'region', 'lga',\n",
       "                                      'ward', 'public_meeting',\n",
       "                                      'scheme_management', 'scheme_name',\n",
       "                                      'permit', 'extraction_type',\n",
       "                                      'extraction_type_group',\n",
       "                                      'extraction_type_class', 'management',\n",
       "                                      'management_group', 'payment',\n",
       "                                      'water_quality', 'quality_group',\n",
       "                                      'quantity', 'source',...\n",
       "communal standpipe multiple    3\n",
       "improved spring                4\n",
       "other                          5\n",
       "cattle trough                  6\n",
       "dam                            7\n",
       "NaN                           -2\n",
       "dtype: int64},\n",
       "                                         {'col': 'waterpoint_type_group',\n",
       "                                          'data_type': dtype('O'),\n",
       "                                          'mapping': hand pump             1\n",
       "communal standpipe    2\n",
       "improved spring       3\n",
       "other                 4\n",
       "cattle trough         5\n",
       "dam                   6\n",
       "NaN                  -2\n",
       "dtype: int64}])),\n",
       "                ('simpleimputer', SimpleImputer()),\n",
       "                ('gradientboostingclassifier',\n",
       "                 GradientBoostingClassifier(n_estimators=75, random_state=42))])"
      ]
     },
     "execution_count": 51,
     "metadata": {},
     "output_type": "execute_result"
    }
   ],
   "source": [
    "model_dci = make_pipeline(OrdinalEncoder(),\n",
    "                         SimpleImputer(strategy='mean'),\n",
    "                         GradientBoostingClassifier(random_state = 42, n_estimators=75))\n",
    "\n",
    "model_dci.fit(X_train,y_train)"
   ]
  },
  {
   "cell_type": "code",
   "execution_count": 55,
   "id": "f5f8e505",
   "metadata": {},
   "outputs": [
    {
     "name": "stdout",
     "output_type": "stream",
     "text": [
      "Validation Accuracy: 0.7429503367003367\n"
     ]
    }
   ],
   "source": [
    "print('Validation Accuracy:', model_dci.score(X_val,y_val))"
   ]
  },
  {
   "cell_type": "code",
   "execution_count": 58,
   "id": "e4087bda",
   "metadata": {},
   "outputs": [],
   "source": [
    "X_val_perm = X_val.copy()\n",
    "X_val_perm['management'] = np.random.permutation(X_val_perm['management'])"
   ]
  },
  {
   "cell_type": "code",
   "execution_count": 59,
   "id": "57eef4a6",
   "metadata": {},
   "outputs": [
    {
     "name": "stdout",
     "output_type": "stream",
     "text": [
      "Validation Accuracy: 0.7429503367003367\n"
     ]
    }
   ],
   "source": [
    "print('Validation Accuracy:', model_dci.score(X_val_perm,y_val))"
   ]
  },
  {
   "cell_type": "code",
   "execution_count": 60,
   "id": "e0936360",
   "metadata": {},
   "outputs": [],
   "source": [
    "from sklearn.inspection import permutation_importance"
   ]
  },
  {
   "cell_type": "code",
   "execution_count": 61,
   "id": "499a6829",
   "metadata": {},
   "outputs": [],
   "source": [
    "perm_imp = permutation_importance(model_dci,X_val,y_val,random_state=42)"
   ]
  },
  {
   "cell_type": "code",
   "execution_count": 69,
   "id": "b070a33d",
   "metadata": {},
   "outputs": [],
   "source": [
    "data_perm = {'imp_mean':perm_imp['importances_mean'],\n",
    "             'imp_std':perm_imp['importances_std']}\n",
    "df_perm = pd.DataFrame(data_perm, index=X_val.columns).sort_values('imp_mean',ascending=False)"
   ]
  },
  {
   "cell_type": "code",
   "execution_count": 70,
   "id": "083f3551",
   "metadata": {},
   "outputs": [
    {
     "data": {
      "text/html": [
       "<div>\n",
       "<style scoped>\n",
       "    .dataframe tbody tr th:only-of-type {\n",
       "        vertical-align: middle;\n",
       "    }\n",
       "\n",
       "    .dataframe tbody tr th {\n",
       "        vertical-align: top;\n",
       "    }\n",
       "\n",
       "    .dataframe thead th {\n",
       "        text-align: right;\n",
       "    }\n",
       "</style>\n",
       "<table border=\"1\" class=\"dataframe\">\n",
       "  <thead>\n",
       "    <tr style=\"text-align: right;\">\n",
       "      <th></th>\n",
       "      <th>imp_mean</th>\n",
       "      <th>imp_std</th>\n",
       "    </tr>\n",
       "  </thead>\n",
       "  <tbody>\n",
       "    <tr>\n",
       "      <th>quantity</th>\n",
       "      <td>0.091709</td>\n",
       "      <td>0.003407</td>\n",
       "    </tr>\n",
       "    <tr>\n",
       "      <th>payment</th>\n",
       "      <td>0.018098</td>\n",
       "      <td>0.000880</td>\n",
       "    </tr>\n",
       "    <tr>\n",
       "      <th>waterpoint_type</th>\n",
       "      <td>0.014962</td>\n",
       "      <td>0.001977</td>\n",
       "    </tr>\n",
       "    <tr>\n",
       "      <th>extraction_type_class</th>\n",
       "      <td>0.005366</td>\n",
       "      <td>0.001538</td>\n",
       "    </tr>\n",
       "    <tr>\n",
       "      <th>district_code</th>\n",
       "      <td>0.004440</td>\n",
       "      <td>0.000385</td>\n",
       "    </tr>\n",
       "    <tr>\n",
       "      <th>population</th>\n",
       "      <td>0.004167</td>\n",
       "      <td>0.001225</td>\n",
       "    </tr>\n",
       "    <tr>\n",
       "      <th>years</th>\n",
       "      <td>0.003746</td>\n",
       "      <td>0.000612</td>\n",
       "    </tr>\n",
       "    <tr>\n",
       "      <th>lga</th>\n",
       "      <td>0.003620</td>\n",
       "      <td>0.000424</td>\n",
       "    </tr>\n",
       "    <tr>\n",
       "      <th>longitude</th>\n",
       "      <td>0.003430</td>\n",
       "      <td>0.001246</td>\n",
       "    </tr>\n",
       "    <tr>\n",
       "      <th>region</th>\n",
       "      <td>0.003325</td>\n",
       "      <td>0.001267</td>\n",
       "    </tr>\n",
       "    <tr>\n",
       "      <th>waterpoint_type_group</th>\n",
       "      <td>0.002189</td>\n",
       "      <td>0.000760</td>\n",
       "    </tr>\n",
       "    <tr>\n",
       "      <th>public_meeting</th>\n",
       "      <td>0.002020</td>\n",
       "      <td>0.000574</td>\n",
       "    </tr>\n",
       "    <tr>\n",
       "      <th>installer</th>\n",
       "      <td>0.001915</td>\n",
       "      <td>0.000647</td>\n",
       "    </tr>\n",
       "    <tr>\n",
       "      <th>longitude_MISSING</th>\n",
       "      <td>0.001852</td>\n",
       "      <td>0.000157</td>\n",
       "    </tr>\n",
       "    <tr>\n",
       "      <th>funder</th>\n",
       "      <td>0.001662</td>\n",
       "      <td>0.000760</td>\n",
       "    </tr>\n",
       "    <tr>\n",
       "      <th>latitude</th>\n",
       "      <td>0.001515</td>\n",
       "      <td>0.000950</td>\n",
       "    </tr>\n",
       "    <tr>\n",
       "      <th>gps_height</th>\n",
       "      <td>0.001347</td>\n",
       "      <td>0.001258</td>\n",
       "    </tr>\n",
       "    <tr>\n",
       "      <th>source</th>\n",
       "      <td>0.001284</td>\n",
       "      <td>0.001186</td>\n",
       "    </tr>\n",
       "    <tr>\n",
       "      <th>latitude_MISSING</th>\n",
       "      <td>0.001263</td>\n",
       "      <td>0.000115</td>\n",
       "    </tr>\n",
       "    <tr>\n",
       "      <th>management</th>\n",
       "      <td>0.001263</td>\n",
       "      <td>0.000762</td>\n",
       "    </tr>\n",
       "    <tr>\n",
       "      <th>ward</th>\n",
       "      <td>0.001178</td>\n",
       "      <td>0.000367</td>\n",
       "    </tr>\n",
       "    <tr>\n",
       "      <th>region_code</th>\n",
       "      <td>0.001094</td>\n",
       "      <td>0.000227</td>\n",
       "    </tr>\n",
       "    <tr>\n",
       "      <th>extraction_type</th>\n",
       "      <td>0.001031</td>\n",
       "      <td>0.001132</td>\n",
       "    </tr>\n",
       "    <tr>\n",
       "      <th>basin</th>\n",
       "      <td>0.000989</td>\n",
       "      <td>0.000323</td>\n",
       "    </tr>\n",
       "    <tr>\n",
       "      <th>construction_year</th>\n",
       "      <td>0.000715</td>\n",
       "      <td>0.000696</td>\n",
       "    </tr>\n",
       "    <tr>\n",
       "      <th>scheme_name</th>\n",
       "      <td>0.000589</td>\n",
       "      <td>0.000386</td>\n",
       "    </tr>\n",
       "    <tr>\n",
       "      <th>day_recorded</th>\n",
       "      <td>0.000568</td>\n",
       "      <td>0.000195</td>\n",
       "    </tr>\n",
       "    <tr>\n",
       "      <th>year_recorded</th>\n",
       "      <td>0.000547</td>\n",
       "      <td>0.000155</td>\n",
       "    </tr>\n",
       "    <tr>\n",
       "      <th>permit</th>\n",
       "      <td>0.000505</td>\n",
       "      <td>0.000322</td>\n",
       "    </tr>\n",
       "    <tr>\n",
       "      <th>source_class</th>\n",
       "      <td>0.000421</td>\n",
       "      <td>0.000541</td>\n",
       "    </tr>\n",
       "    <tr>\n",
       "      <th>quality_group</th>\n",
       "      <td>0.000400</td>\n",
       "      <td>0.000155</td>\n",
       "    </tr>\n",
       "    <tr>\n",
       "      <th>water_quality</th>\n",
       "      <td>0.000358</td>\n",
       "      <td>0.000084</td>\n",
       "    </tr>\n",
       "    <tr>\n",
       "      <th>amount_tsh</th>\n",
       "      <td>0.000316</td>\n",
       "      <td>0.000364</td>\n",
       "    </tr>\n",
       "    <tr>\n",
       "      <th>month_recorded</th>\n",
       "      <td>0.000210</td>\n",
       "      <td>0.000115</td>\n",
       "    </tr>\n",
       "    <tr>\n",
       "      <th>scheme_management</th>\n",
       "      <td>0.000168</td>\n",
       "      <td>0.000469</td>\n",
       "    </tr>\n",
       "    <tr>\n",
       "      <th>subvillage</th>\n",
       "      <td>0.000126</td>\n",
       "      <td>0.000042</td>\n",
       "    </tr>\n",
       "    <tr>\n",
       "      <th>construction_year_MISSING</th>\n",
       "      <td>0.000042</td>\n",
       "      <td>0.000052</td>\n",
       "    </tr>\n",
       "    <tr>\n",
       "      <th>source_type</th>\n",
       "      <td>0.000021</td>\n",
       "      <td>0.000491</td>\n",
       "    </tr>\n",
       "    <tr>\n",
       "      <th>num_private</th>\n",
       "      <td>0.000000</td>\n",
       "      <td>0.000067</td>\n",
       "    </tr>\n",
       "    <tr>\n",
       "      <th>wpt_name</th>\n",
       "      <td>0.000000</td>\n",
       "      <td>0.000000</td>\n",
       "    </tr>\n",
       "    <tr>\n",
       "      <th>population_MISSING</th>\n",
       "      <td>0.000000</td>\n",
       "      <td>0.000000</td>\n",
       "    </tr>\n",
       "    <tr>\n",
       "      <th>years_MISSING</th>\n",
       "      <td>-0.000126</td>\n",
       "      <td>0.000042</td>\n",
       "    </tr>\n",
       "    <tr>\n",
       "      <th>management_group</th>\n",
       "      <td>-0.000147</td>\n",
       "      <td>0.000254</td>\n",
       "    </tr>\n",
       "    <tr>\n",
       "      <th>gps_height_MISSING</th>\n",
       "      <td>-0.000189</td>\n",
       "      <td>0.000140</td>\n",
       "    </tr>\n",
       "    <tr>\n",
       "      <th>extraction_type_group</th>\n",
       "      <td>-0.000821</td>\n",
       "      <td>0.000495</td>\n",
       "    </tr>\n",
       "  </tbody>\n",
       "</table>\n",
       "</div>"
      ],
      "text/plain": [
       "                           imp_mean   imp_std\n",
       "quantity                   0.091709  0.003407\n",
       "payment                    0.018098  0.000880\n",
       "waterpoint_type            0.014962  0.001977\n",
       "extraction_type_class      0.005366  0.001538\n",
       "district_code              0.004440  0.000385\n",
       "population                 0.004167  0.001225\n",
       "years                      0.003746  0.000612\n",
       "lga                        0.003620  0.000424\n",
       "longitude                  0.003430  0.001246\n",
       "region                     0.003325  0.001267\n",
       "waterpoint_type_group      0.002189  0.000760\n",
       "public_meeting             0.002020  0.000574\n",
       "installer                  0.001915  0.000647\n",
       "longitude_MISSING          0.001852  0.000157\n",
       "funder                     0.001662  0.000760\n",
       "latitude                   0.001515  0.000950\n",
       "gps_height                 0.001347  0.001258\n",
       "source                     0.001284  0.001186\n",
       "latitude_MISSING           0.001263  0.000115\n",
       "management                 0.001263  0.000762\n",
       "ward                       0.001178  0.000367\n",
       "region_code                0.001094  0.000227\n",
       "extraction_type            0.001031  0.001132\n",
       "basin                      0.000989  0.000323\n",
       "construction_year          0.000715  0.000696\n",
       "scheme_name                0.000589  0.000386\n",
       "day_recorded               0.000568  0.000195\n",
       "year_recorded              0.000547  0.000155\n",
       "permit                     0.000505  0.000322\n",
       "source_class               0.000421  0.000541\n",
       "quality_group              0.000400  0.000155\n",
       "water_quality              0.000358  0.000084\n",
       "amount_tsh                 0.000316  0.000364\n",
       "month_recorded             0.000210  0.000115\n",
       "scheme_management          0.000168  0.000469\n",
       "subvillage                 0.000126  0.000042\n",
       "construction_year_MISSING  0.000042  0.000052\n",
       "source_type                0.000021  0.000491\n",
       "num_private                0.000000  0.000067\n",
       "wpt_name                   0.000000  0.000000\n",
       "population_MISSING         0.000000  0.000000\n",
       "years_MISSING             -0.000126  0.000042\n",
       "management_group          -0.000147  0.000254\n",
       "gps_height_MISSING        -0.000189  0.000140\n",
       "extraction_type_group     -0.000821  0.000495"
      ]
     },
     "execution_count": 70,
     "metadata": {},
     "output_type": "execute_result"
    }
   ],
   "source": [
    "df_perm"
   ]
  },
  {
   "cell_type": "code",
   "execution_count": 49,
   "id": "c08152bb",
   "metadata": {},
   "outputs": [
    {
     "data": {
      "text/html": [
       "<img src=\"https://i.imgur.com/h17tMUU.png\"/>"
      ],
      "text/plain": [
       "<IPython.core.display.Image object>"
      ]
     },
     "execution_count": 49,
     "metadata": {},
     "output_type": "execute_result"
    }
   ],
   "source": [
    "Image(url= \"https://i.imgur.com/h17tMUU.png\")"
   ]
  },
  {
   "cell_type": "code",
   "execution_count": 50,
   "id": "6b27aeeb",
   "metadata": {},
   "outputs": [
    {
     "data": {
      "text/html": [
       "<img src=\"https://media.geeksforgeeks.org/wp-content/uploads/20200721214745/gradientboosting.PNG\"/>"
      ],
      "text/plain": [
       "<IPython.core.display.Image object>"
      ]
     },
     "execution_count": 50,
     "metadata": {},
     "output_type": "execute_result"
    }
   ],
   "source": [
    "Image(url= \"https://media.geeksforgeeks.org/wp-content/uploads/20200721214745/gradientboosting.PNG\")\n",
    "## The below diagram explains how gradient boosted trees are trained for regression problems."
   ]
  }
 ],
 "metadata": {
  "kernelspec": {
   "display_name": "Python 3",
   "language": "python",
   "name": "python3"
  },
  "language_info": {
   "codemirror_mode": {
    "name": "ipython",
    "version": 3
   },
   "file_extension": ".py",
   "mimetype": "text/x-python",
   "name": "python",
   "nbconvert_exporter": "python",
   "pygments_lexer": "ipython3",
   "version": "3.8.8"
  }
 },
 "nbformat": 4,
 "nbformat_minor": 5
}
