{
 "cells": [
  {
   "cell_type": "markdown",
   "metadata": {
    "deletable": false,
    "editable": false,
    "nbgrader": {
     "cell_type": "markdown",
     "checksum": "26331cfec4792162c2f8fe9b562702d2",
     "grade": false,
     "grade_id": "cell-f2b2468124042cfe",
     "locked": true,
     "schema_version": 3,
     "solution": false,
     "task": false
    }
   },
   "source": [
    "_Lambda School Data Science, Unit 2_\n",
    "\n",
    "---\n",
    "\n",
    "👇 **Do not change the code in this cell.** If you're working in Google Colab, you can run this cell to install `category_encoders` and `pdpbox`."
   ]
  },
  {
   "cell_type": "code",
   "execution_count": null,
   "metadata": {
    "deletable": false,
    "editable": false,
    "nbgrader": {
     "cell_type": "code",
     "checksum": "6e84593629f1e735cc6423e463199480",
     "grade": false,
     "grade_id": "cell-656c869f2d287493",
     "locked": true,
     "schema_version": 3,
     "solution": false,
     "task": false
    }
   },
   "outputs": [],
   "source": [
    "%%capture\n",
    "import sys\n",
    "\n",
    "if 'google.colab' in sys.modules:\n",
    "    !pip install category_encoders\n",
    "    !pip install pdpbox"
   ]
  },
  {
   "cell_type": "markdown",
   "metadata": {
    "deletable": false,
    "editable": false,
    "nbgrader": {
     "cell_type": "markdown",
     "checksum": "be6f7489d8b09d515eed676f06ac2d3b",
     "grade": false,
     "grade_id": "cell-dbdc2fe26ba31738",
     "locked": true,
     "schema_version": 3,
     "solution": false,
     "task": false
    }
   },
   "source": [
    "# Sprint Challenge: Predict Chicago Food Inspections 🍕\n",
    "\n",
    "In this challenge, you'll use data from the [Chicago Department of Public Health](https://www.chicago.gov/city/en/depts/cdph/provdrs/healthy_restaurants/svcs/food-protection-services.html) to build a model to predict whether a food establishment passed inspection or not.\n",
    "\n",
    "The purpose of this model is to help inspectors use their time more efficiently by identifying establishments that will likely fail inspection. In other words, this model should be able to predict whether an establishment will fail inspection *before* the inspector arrives at the establishment. \n",
    "\n",
    "# Directions\n",
    "\n",
    "This notebook contains 12 tasks, which cover the material we've learned in this sprint. Here's a summary:\n",
    "\n",
    "- **Task 1:** Importing data.\n",
    "- **Task 2:** Identifying data leakage.\n",
    "- **Task 3:** Writing a wrangle function.\n",
    "- **Task 4:** Splitting data into a feature matrix and target vector.\n",
    "- **Task 5:** Splitting data into training and validation sets.\n",
    "- **Task 6:** Establishing baseline accuracy.\n",
    "- **Task 7:** Building model with bagging predictor.\n",
    "- **Task 8:** Building model with boosting predictor.\n",
    "- **Task 9 (`stretch goal`):** Plotting ROC curves.\n",
    "- **Task 10:** Generating classification report.\n",
    "- **Task 11:** Calculating permutation importances.\n",
    "- **Task 12 (`stretch goal`):** Creating PDP interaction plot.\n",
    "\n",
    "For each task you should do the following:\n",
    "\n",
    "- Read the task instructions.\n",
    "- Write your code in the cell below the task. Delete the `raise NotImplementedError` before your start.\n",
    "- Run the testing cell below the task. If you get an error, read the error message and re-evaluate your code.\n",
    "\n",
    "**You should limit your code to the following libraries:**\n",
    "\n",
    "- `category_encoders`\n",
    "- `numpy`\n",
    "- `matplotlib`\n",
    "- `pandas`\n",
    "- `pdpbox`\n",
    "- `sklearn`\n",
    "- `xgboost`\n",
    "\n",
    "**A word of warning:** The virtual machine that will check your answers is small. So, where applicable, don't use huge values for `n_estimators` (`>100`) or `n_jobs` (keep at `-1`). \n",
    "\n",
    "If you'd like to import all your libraries at the start of your notebook, you can do so in the code block below 👇"
   ]
  },
  {
   "cell_type": "code",
   "execution_count": 1,
   "metadata": {
    "deletable": false,
    "nbgrader": {
     "cell_type": "code",
     "checksum": "313c53b0dc59a11bb7bfaefbf995fe2c",
     "grade": false,
     "grade_id": "cell-44be413734e30691",
     "locked": false,
     "schema_version": 3,
     "solution": true,
     "task": false
    }
   },
   "outputs": [],
   "source": [
    "# YOUR CODE HERE\n",
    "\n",
    "# Data Wrangling\n",
    "import numpy as np\n",
    "import pandas as pd\n",
    "\n",
    "# Visualization\n",
    "import matplotlib.pyplot as plt\n",
    "import seaborn as sns\n",
    "from sklearn.metrics import classification_report, roc_curve, plot_confusion_matrix, plot_roc_curve\n",
    "from pdpbox.pdp import pdp_isolate, pdp_plot, pdp_interact, pdp_interact_plot\n",
    "\n",
    "# Machine Learning\n",
    "from category_encoders import OrdinalEncoder\n",
    "from sklearn.pipeline import make_pipeline\n",
    "from sklearn.ensemble import RandomForestClassifier, GradientBoostingClassifier\n",
    "from sklearn.impute import SimpleImputer\n",
    "from sklearn.inspection import permutation_importance"
   ]
  },
  {
   "cell_type": "markdown",
   "metadata": {
    "deletable": false,
    "editable": false,
    "nbgrader": {
     "cell_type": "markdown",
     "checksum": "48dd82293df0d9af1aa7efac7f7468fa",
     "grade": false,
     "grade_id": "cell-602d346d44303e87",
     "locked": true,
     "schema_version": 3,
     "solution": false,
     "task": false
    }
   },
   "source": [
    "# I. Wrangle Data\n",
    "\n",
    "**Task 1:** Change the code below to import your dataset. Be sure to examine the columns carefully and determine if one of them should be set as the index."
   ]
  },
  {
   "cell_type": "code",
   "execution_count": 9,
   "metadata": {
    "deletable": false,
    "nbgrader": {
     "cell_type": "code",
     "checksum": "dafd956974169191567e3544c18186a5",
     "grade": false,
     "grade_id": "cell-8b9246d8d97a80ff",
     "locked": false,
     "schema_version": 3,
     "solution": true,
     "task": false
    }
   },
   "outputs": [],
   "source": [
    "'''T1. Import data file.'''\n",
    "url = 'https://drive.google.com/uc?export=download&id=1aUnQ4AJK4UtW8JL9zPyYUMtkjIgQpqKT'\n",
    "\n",
    "# YOUR CODE HERE\n",
    "\n",
    "# Change the code below to import your dataset\n",
    "# Be sure to examine the columns carefully and determine if one of them should be set as the index\n",
    "df = pd.read_csv(url,parse_dates=['Inspection Date'],index_col='Inspection Date').sort_index()"
   ]
  },
  {
   "cell_type": "markdown",
   "metadata": {
    "deletable": false,
    "editable": false,
    "nbgrader": {
     "cell_type": "markdown",
     "checksum": "493ede874f1e2c163a74021a41d8775d",
     "grade": false,
     "grade_id": "cell-1b2eb047117d89ab",
     "locked": true,
     "schema_version": 3,
     "solution": false,
     "task": false
    }
   },
   "source": [
    "**Task 1 Test**"
   ]
  },
  {
   "cell_type": "code",
   "execution_count": 10,
   "metadata": {
    "deletable": false,
    "editable": false,
    "nbgrader": {
     "cell_type": "code",
     "checksum": "0d68298cfa23877cd61b8ba487c19dc6",
     "grade": true,
     "grade_id": "cell-e9593d4f4ed7a9bb",
     "locked": true,
     "points": 1,
     "schema_version": 3,
     "solution": false,
     "task": false
    }
   },
   "outputs": [],
   "source": [
    "'''T1 Test'''\n",
    "assert isinstance(df, pd.DataFrame), 'Have you created a DataFrame named `df`?'\n",
    "assert len(df) == 51916"
   ]
  },
  {
   "cell_type": "markdown",
   "metadata": {
    "deletable": false,
    "editable": false,
    "nbgrader": {
     "cell_type": "markdown",
     "checksum": "1ee62609b3bf18520406b3837f7843a6",
     "grade": false,
     "grade_id": "cell-9e90dce33ddd0506",
     "locked": true,
     "schema_version": 3,
     "solution": false,
     "task": false
    }
   },
   "source": [
    "**Task 2:** Given that this model is supposed to generate predictions *before* an inspection is conducted, identify the numerical feature that is an example of **data leakage.** Assign the column name to the variable `'leaky_col'`.\n",
    "\n",
    "**Remember:** Leakage is when your feature matrix includes columns that will not be available to your model at the time it make predictions.\n",
    "\n"
   ]
  },
  {
   "cell_type": "code",
   "execution_count": 11,
   "metadata": {
    "deletable": false,
    "nbgrader": {
     "cell_type": "code",
     "checksum": "27b878765c52a092c3c56791dde91d5d",
     "grade": false,
     "grade_id": "cell-ef24afc9168ad64f",
     "locked": false,
     "schema_version": 3,
     "solution": true,
     "task": false
    }
   },
   "outputs": [],
   "source": [
    "'''T2. Identify data leakage column.'''\n",
    "\n",
    "# YOUR CODE HERE\n",
    "\n",
    "# identify the numerical feature that is an example of data leakage\n",
    "leaky_col = 'Serious_Violations_Found'"
   ]
  },
  {
   "cell_type": "markdown",
   "metadata": {
    "deletable": false,
    "editable": false,
    "nbgrader": {
     "cell_type": "markdown",
     "checksum": "9874ad6b513dd2c2e409aa1d6610a65e",
     "grade": false,
     "grade_id": "cell-378fd448d54e6fc0",
     "locked": true,
     "schema_version": 3,
     "solution": false,
     "task": false
    }
   },
   "source": [
    "**Task 2 Test**"
   ]
  },
  {
   "cell_type": "code",
   "execution_count": 12,
   "metadata": {
    "deletable": false,
    "editable": false,
    "nbgrader": {
     "cell_type": "code",
     "checksum": "5a57c6a47e502a421524daf29beb7941",
     "grade": true,
     "grade_id": "cell-8429f30efb2a7bf7",
     "locked": true,
     "points": 1,
     "schema_version": 3,
     "solution": false,
     "task": false
    }
   },
   "outputs": [],
   "source": [
    "'''T2 Test'''\n",
    "# This is a hidden test. \n",
    "# You'll see the result when you submit to Canvas.\n",
    "assert isinstance(leaky_col, str), '`leaky_col` should be type `str`.'"
   ]
  },
  {
   "cell_type": "markdown",
   "metadata": {
    "deletable": false,
    "editable": false,
    "nbgrader": {
     "cell_type": "markdown",
     "checksum": "b17eb5d6c465729f58b1739a11ea5b96",
     "grade": false,
     "grade_id": "cell-2f7298cea62c493e",
     "locked": true,
     "schema_version": 3,
     "solution": false,
     "task": false
    }
   },
   "source": [
    "**Task 3:** Add to the `wrangle` function below so that it does the following:\n",
    "\n",
    "- Removes the \"leaky\" column.\n",
    "- Removes high-cardinality categorical columns (more than `500` categories).\n",
    "- Removes categorical columns that have only one category.\n",
    "- Removes numerical columns that are unique identifiers for each observation, not features that would affect the target."
   ]
  },
  {
   "cell_type": "code",
   "execution_count": 13,
   "metadata": {
    "deletable": false,
    "nbgrader": {
     "cell_type": "code",
     "checksum": "40e1745bb407a170e1dec8221d37fc3c",
     "grade": false,
     "grade_id": "cell-d6fc5ee398afff4f",
     "locked": false,
     "schema_version": 3,
     "solution": true,
     "task": false
    }
   },
   "outputs": [],
   "source": [
    "'''T3. Write wrangle function.'''\n",
    "       \n",
    "'''\n",
    "                 ,,,,,,,\n",
    "      (\\-\"\"\"-/) /       \\\n",
    "       |     | /         \\\n",
    "       \\ 0 0 //           \\\n",
    "        \\_o_//       /\\   /\n",
    "       /`   `\\      |  \\,/  \n",
    "      /       \\     |  \n",
    "      \\ (   ) /     |\n",
    "     / \\_)-(_/ \\    |\n",
    "    |  /_____\\  |  /\n",
    "    \\  \\ N.C / /  /\n",
    "     \\ '.___.' / /\n",
    "    .'  \\-=-/  '.\n",
    "   /   /`   `\\   \\\n",
    "  (//./       \\.\\\\)\n",
    "   `\"`         `\"`\n",
    "   \n",
    "'''\n",
    "# YOUR CODE HERE\n",
    "\n",
    "def wrangle(df):\n",
    "    \n",
    "    # drop HCC columns\n",
    "    categorical_cols = df.select_dtypes('object').columns\n",
    "    threshold=500\n",
    "    high_card_cols=[col for col in categorical_cols\n",
    "                    if df[col].nunique()>threshold]\n",
    "    df.drop(high_card_cols,axis=1,inplace=True)\n",
    "    \n",
    "    # Clean the names of columns to make it easier to type\n",
    "    df.columns = df.columns.str.replace(' ','_')\n",
    "    \n",
    "    # Drop Leaky Column from DF\n",
    "    df.drop(leaky_col,axis=1,inplace=True)\n",
    "\n",
    "    # Drop one Category Column\n",
    "    df.drop('State',axis=1,inplace=True)\n",
    "    \n",
    "    # Removes numerical columns that are unique identifiers for each observation\n",
    "    df.drop(['Inspection_ID','License_#'],axis=1,inplace=True)\n",
    "    \n",
    "    return df\n",
    "\n",
    "df = wrangle(df)"
   ]
  },
  {
   "cell_type": "code",
   "execution_count": 14,
   "metadata": {},
   "outputs": [
    {
     "data": {
      "text/html": [
       "<div>\n",
       "<style scoped>\n",
       "    .dataframe tbody tr th:only-of-type {\n",
       "        vertical-align: middle;\n",
       "    }\n",
       "\n",
       "    .dataframe tbody tr th {\n",
       "        vertical-align: top;\n",
       "    }\n",
       "\n",
       "    .dataframe thead th {\n",
       "        text-align: right;\n",
       "    }\n",
       "</style>\n",
       "<table border=\"1\" class=\"dataframe\">\n",
       "  <thead>\n",
       "    <tr style=\"text-align: right;\">\n",
       "      <th></th>\n",
       "      <th>Facility_Type</th>\n",
       "      <th>Risk</th>\n",
       "      <th>City</th>\n",
       "      <th>Zip</th>\n",
       "      <th>Inspection_Type</th>\n",
       "      <th>Latitude</th>\n",
       "      <th>Longitude</th>\n",
       "      <th>Fail</th>\n",
       "    </tr>\n",
       "    <tr>\n",
       "      <th>Inspection Date</th>\n",
       "      <th></th>\n",
       "      <th></th>\n",
       "      <th></th>\n",
       "      <th></th>\n",
       "      <th></th>\n",
       "      <th></th>\n",
       "      <th></th>\n",
       "      <th></th>\n",
       "    </tr>\n",
       "  </thead>\n",
       "  <tbody>\n",
       "    <tr>\n",
       "      <th>2010-01-04</th>\n",
       "      <td>Restaurant</td>\n",
       "      <td>Risk 1 (High)</td>\n",
       "      <td>CHICAGO</td>\n",
       "      <td>60634.0</td>\n",
       "      <td>License Re-Inspection</td>\n",
       "      <td>41.938443</td>\n",
       "      <td>-87.768318</td>\n",
       "      <td>0</td>\n",
       "    </tr>\n",
       "    <tr>\n",
       "      <th>2010-01-04</th>\n",
       "      <td>Restaurant</td>\n",
       "      <td>Risk 1 (High)</td>\n",
       "      <td>CHICAGO</td>\n",
       "      <td>60613.0</td>\n",
       "      <td>License Re-Inspection</td>\n",
       "      <td>41.961606</td>\n",
       "      <td>-87.675967</td>\n",
       "      <td>0</td>\n",
       "    </tr>\n",
       "    <tr>\n",
       "      <th>2010-01-05</th>\n",
       "      <td>Daycare Above and Under 2 Years</td>\n",
       "      <td>Risk 1 (High)</td>\n",
       "      <td>CHICAGO</td>\n",
       "      <td>60652.0</td>\n",
       "      <td>License</td>\n",
       "      <td>41.742993</td>\n",
       "      <td>-87.721558</td>\n",
       "      <td>0</td>\n",
       "    </tr>\n",
       "    <tr>\n",
       "      <th>2010-01-05</th>\n",
       "      <td>Restaurant</td>\n",
       "      <td>Risk 1 (High)</td>\n",
       "      <td>CHICAGO</td>\n",
       "      <td>60666.0</td>\n",
       "      <td>Canvass</td>\n",
       "      <td>42.008536</td>\n",
       "      <td>-87.914428</td>\n",
       "      <td>1</td>\n",
       "    </tr>\n",
       "    <tr>\n",
       "      <th>2010-01-05</th>\n",
       "      <td>Restaurant</td>\n",
       "      <td>Risk 1 (High)</td>\n",
       "      <td>CHICAGO</td>\n",
       "      <td>60639.0</td>\n",
       "      <td>Complaint</td>\n",
       "      <td>41.919224</td>\n",
       "      <td>-87.767734</td>\n",
       "      <td>1</td>\n",
       "    </tr>\n",
       "    <tr>\n",
       "      <th>...</th>\n",
       "      <td>...</td>\n",
       "      <td>...</td>\n",
       "      <td>...</td>\n",
       "      <td>...</td>\n",
       "      <td>...</td>\n",
       "      <td>...</td>\n",
       "      <td>...</td>\n",
       "      <td>...</td>\n",
       "    </tr>\n",
       "    <tr>\n",
       "      <th>2019-03-19</th>\n",
       "      <td>Restaurant</td>\n",
       "      <td>Risk 1 (High)</td>\n",
       "      <td>CHICAGO</td>\n",
       "      <td>60607.0</td>\n",
       "      <td>License</td>\n",
       "      <td>41.886881</td>\n",
       "      <td>-87.649523</td>\n",
       "      <td>0</td>\n",
       "    </tr>\n",
       "    <tr>\n",
       "      <th>2019-03-19</th>\n",
       "      <td>Grocery Store</td>\n",
       "      <td>Risk 1 (High)</td>\n",
       "      <td>CHICAGO</td>\n",
       "      <td>60646.0</td>\n",
       "      <td>Complaint</td>\n",
       "      <td>41.995985</td>\n",
       "      <td>-87.787637</td>\n",
       "      <td>1</td>\n",
       "    </tr>\n",
       "    <tr>\n",
       "      <th>2019-03-20</th>\n",
       "      <td>School</td>\n",
       "      <td>Risk 1 (High)</td>\n",
       "      <td>CHICAGO</td>\n",
       "      <td>60655.0</td>\n",
       "      <td>Canvass Re-Inspection</td>\n",
       "      <td>41.708040</td>\n",
       "      <td>-87.689222</td>\n",
       "      <td>1</td>\n",
       "    </tr>\n",
       "    <tr>\n",
       "      <th>2019-03-20</th>\n",
       "      <td>School</td>\n",
       "      <td>Risk 1 (High)</td>\n",
       "      <td>CHICAGO</td>\n",
       "      <td>60638.0</td>\n",
       "      <td>Canvass</td>\n",
       "      <td>41.775492</td>\n",
       "      <td>-87.758769</td>\n",
       "      <td>0</td>\n",
       "    </tr>\n",
       "    <tr>\n",
       "      <th>2019-03-20</th>\n",
       "      <td>Children's Services Facility</td>\n",
       "      <td>Risk 1 (High)</td>\n",
       "      <td>CHICAGO</td>\n",
       "      <td>60618.0</td>\n",
       "      <td>License</td>\n",
       "      <td>41.933964</td>\n",
       "      <td>-87.717391</td>\n",
       "      <td>1</td>\n",
       "    </tr>\n",
       "  </tbody>\n",
       "</table>\n",
       "<p>51916 rows × 8 columns</p>\n",
       "</div>"
      ],
      "text/plain": [
       "                                   Facility_Type           Risk     City  \\\n",
       "Inspection Date                                                            \n",
       "2010-01-04                            Restaurant  Risk 1 (High)  CHICAGO   \n",
       "2010-01-04                            Restaurant  Risk 1 (High)  CHICAGO   \n",
       "2010-01-05       Daycare Above and Under 2 Years  Risk 1 (High)  CHICAGO   \n",
       "2010-01-05                            Restaurant  Risk 1 (High)  CHICAGO   \n",
       "2010-01-05                            Restaurant  Risk 1 (High)  CHICAGO   \n",
       "...                                          ...            ...      ...   \n",
       "2019-03-19                            Restaurant  Risk 1 (High)  CHICAGO   \n",
       "2019-03-19                         Grocery Store  Risk 1 (High)  CHICAGO   \n",
       "2019-03-20                                School  Risk 1 (High)  CHICAGO   \n",
       "2019-03-20                                School  Risk 1 (High)  CHICAGO   \n",
       "2019-03-20          Children's Services Facility  Risk 1 (High)  CHICAGO   \n",
       "\n",
       "                     Zip        Inspection_Type   Latitude  Longitude  Fail  \n",
       "Inspection Date                                                              \n",
       "2010-01-04       60634.0  License Re-Inspection  41.938443 -87.768318     0  \n",
       "2010-01-04       60613.0  License Re-Inspection  41.961606 -87.675967     0  \n",
       "2010-01-05       60652.0                License  41.742993 -87.721558     0  \n",
       "2010-01-05       60666.0                Canvass  42.008536 -87.914428     1  \n",
       "2010-01-05       60639.0              Complaint  41.919224 -87.767734     1  \n",
       "...                  ...                    ...        ...        ...   ...  \n",
       "2019-03-19       60607.0                License  41.886881 -87.649523     0  \n",
       "2019-03-19       60646.0              Complaint  41.995985 -87.787637     1  \n",
       "2019-03-20       60655.0  Canvass Re-Inspection  41.708040 -87.689222     1  \n",
       "2019-03-20       60638.0                Canvass  41.775492 -87.758769     0  \n",
       "2019-03-20       60618.0                License  41.933964 -87.717391     1  \n",
       "\n",
       "[51916 rows x 8 columns]"
      ]
     },
     "execution_count": 14,
     "metadata": {},
     "output_type": "execute_result"
    }
   ],
   "source": [
    "df"
   ]
  },
  {
   "cell_type": "markdown",
   "metadata": {
    "deletable": false,
    "editable": false,
    "nbgrader": {
     "cell_type": "markdown",
     "checksum": "22afb4a381b73f41b02f83ca4a0102bd",
     "grade": false,
     "grade_id": "cell-7b5d539f39db8415",
     "locked": true,
     "schema_version": 3,
     "solution": false,
     "task": false
    }
   },
   "source": [
    "**Task 3 Test**"
   ]
  },
  {
   "cell_type": "code",
   "execution_count": 281,
   "metadata": {
    "deletable": false,
    "editable": false,
    "nbgrader": {
     "cell_type": "code",
     "checksum": "05d5f964ad8d8bf468bd907abaa85213",
     "grade": true,
     "grade_id": "cell-49f495efb58bcd9f",
     "locked": true,
     "points": 1,
     "schema_version": 3,
     "solution": false,
     "task": false
    }
   },
   "outputs": [],
   "source": [
    "'''T3 Test'''\n",
    "assert df.select_dtypes('object').nunique().max() < 500, 'Have you dropped the high-cardinality columns?'\n",
    "assert df.select_dtypes('object').nunique().min() > 1, 'Have you dropped the column with only one category?'"
   ]
  },
  {
   "cell_type": "markdown",
   "metadata": {
    "deletable": false,
    "editable": false,
    "nbgrader": {
     "cell_type": "markdown",
     "checksum": "f93a157b989f3327402d7b93a31bb595",
     "grade": false,
     "grade_id": "cell-aea953fa5337fc1f",
     "locked": true,
     "schema_version": 3,
     "solution": false,
     "task": false
    }
   },
   "source": [
    "# II. Split Data\n",
    "\n",
    "**Task 4:** Split the DataFrame `df` into the feature matrix `X` and the target vector `y`. Your target is `'Fail'`."
   ]
  },
  {
   "cell_type": "code",
   "execution_count": 282,
   "metadata": {
    "deletable": false,
    "nbgrader": {
     "cell_type": "code",
     "checksum": "7bfd4151db9dd6615a624da2954138e8",
     "grade": false,
     "grade_id": "cell-b21b1c40f5478337",
     "locked": false,
     "schema_version": 3,
     "solution": true,
     "task": false
    }
   },
   "outputs": [],
   "source": [
    "'''T4. Split feature matrix and target vector.'''\n",
    "\n",
    "# YOUR CODE HERE\n",
    "\n",
    "# Assign the target variable\n",
    "target = 'Fail'\n",
    "\n",
    "# split the dataframe into a feature matrix, and target vector\n",
    "X,y = df.drop(columns=target),df[target]"
   ]
  },
  {
   "cell_type": "markdown",
   "metadata": {
    "deletable": false,
    "editable": false,
    "nbgrader": {
     "cell_type": "markdown",
     "checksum": "2f00ae85d10438328017da8b01b77354",
     "grade": false,
     "grade_id": "cell-d9a64e5a6bd2a37d",
     "locked": true,
     "schema_version": 3,
     "solution": false,
     "task": false
    }
   },
   "source": [
    "**Task 4 Test**"
   ]
  },
  {
   "cell_type": "code",
   "execution_count": 283,
   "metadata": {
    "deletable": false,
    "editable": false,
    "nbgrader": {
     "cell_type": "code",
     "checksum": "04db76e9023f0b61187af1e39513d377",
     "grade": true,
     "grade_id": "cell-a1d912e28c9f7522",
     "locked": true,
     "points": 1,
     "schema_version": 3,
     "solution": false,
     "task": false
    }
   },
   "outputs": [],
   "source": [
    "'''T4 Test'''\n",
    "assert y.shape == (51916,), '`y` either has the wrong number of rows, or is two-dimentional.'\n",
    "assert len(X) == 51916, '`X` has the wrong number of rows.'"
   ]
  },
  {
   "cell_type": "markdown",
   "metadata": {
    "deletable": false,
    "editable": false,
    "nbgrader": {
     "cell_type": "markdown",
     "checksum": "e719471298c6c418489a657a500b7d0e",
     "grade": false,
     "grade_id": "cell-b575fbda93b87f6a",
     "locked": true,
     "schema_version": 3,
     "solution": false,
     "task": false
    }
   },
   "source": [
    "**Task 5:** Split your dataset into training and validation sets.\n",
    "\n",
    "- Your training set (`X_train`, `y_train`) should contain inspections conducted before 2017.\n",
    "- Your validation set (`X_val`, `y_val`) should contain inspections conducted during or after 2017."
   ]
  },
  {
   "cell_type": "code",
   "execution_count": 284,
   "metadata": {
    "deletable": false,
    "nbgrader": {
     "cell_type": "code",
     "checksum": "f92b2b9f9460a17c987c23188e3c31b1",
     "grade": false,
     "grade_id": "cell-0bb47689fd4667ed",
     "locked": false,
     "schema_version": 3,
     "solution": true,
     "task": false
    }
   },
   "outputs": [],
   "source": [
    "'''T5. Split dataset into training and validation sets.'''\n",
    "# YOUR CODE HERE\n",
    "\n",
    "# Create Mask including cutoff\n",
    "mask = df.index.year < 2017\n",
    "\n",
    "# Create training, and validation sets\n",
    "X_train, y_train = X.loc[mask],y.loc[mask]\n",
    "X_val,y_val = X.loc[~mask],y.loc[~mask]"
   ]
  },
  {
   "cell_type": "markdown",
   "metadata": {
    "deletable": false,
    "editable": false,
    "nbgrader": {
     "cell_type": "markdown",
     "checksum": "60e77b85e7db0d0cb2522b8caa399e77",
     "grade": false,
     "grade_id": "cell-8517b2d477256843",
     "locked": true,
     "schema_version": 3,
     "solution": false,
     "task": false
    }
   },
   "source": [
    "**Task 5 Testing**"
   ]
  },
  {
   "cell_type": "code",
   "execution_count": 285,
   "metadata": {
    "deletable": false,
    "editable": false,
    "nbgrader": {
     "cell_type": "code",
     "checksum": "56e9e6ef918d3a662decf3f6d67dfd01",
     "grade": true,
     "grade_id": "cell-52cf3ef1934a4278",
     "locked": true,
     "points": 1,
     "schema_version": 3,
     "solution": false,
     "task": false
    }
   },
   "outputs": [],
   "source": [
    "'''T5 Test'''\n",
    "assert len(X_train) == len(y_train) == 41827, 'Your training set has the wrong number of observations.'\n",
    "assert len(X_val) == len(y_val) == 10089, 'Your validation set has the wrong number of observations.'"
   ]
  },
  {
   "cell_type": "markdown",
   "metadata": {
    "deletable": false,
    "editable": false,
    "nbgrader": {
     "cell_type": "markdown",
     "checksum": "0641d242faca29af591ebea98bc88ed6",
     "grade": false,
     "grade_id": "cell-2e9a4c74f50ed0fc",
     "locked": true,
     "schema_version": 3,
     "solution": false,
     "task": false
    }
   },
   "source": [
    "# III. Establish Baseline\n",
    "\n",
    "**Task 6:** Establish the baseline accuracy score for this classification problem using your training set. Save the score to the variable `baseline_acc`."
   ]
  },
  {
   "cell_type": "code",
   "execution_count": 286,
   "metadata": {
    "deletable": false,
    "nbgrader": {
     "cell_type": "code",
     "checksum": "b658c6901efe4fe564387be697265352",
     "grade": false,
     "grade_id": "cell-3d21cc97649be107",
     "locked": false,
     "schema_version": 3,
     "solution": true,
     "task": false
    }
   },
   "outputs": [
    {
     "name": "stdout",
     "output_type": "stream",
     "text": [
      "Baseline accuracy: 0.7506634470557295\n"
     ]
    }
   ],
   "source": [
    "'''T6. Establish baseline accuracy.'''\n",
    "# YOUR CODE HERE\n",
    "\n",
    "# Assign the baseline variable\n",
    "baseline_acc = y_train.value_counts(normalize=True).max()\n",
    "\n",
    "# Print the baseline variable\n",
    "print('Baseline accuracy:', baseline_acc)"
   ]
  },
  {
   "cell_type": "markdown",
   "metadata": {
    "deletable": false,
    "editable": false,
    "nbgrader": {
     "cell_type": "markdown",
     "checksum": "6098c9452685d029c07b96f5295b5c1d",
     "grade": false,
     "grade_id": "cell-56d5801c8831c15b",
     "locked": true,
     "schema_version": 3,
     "solution": false,
     "task": false
    }
   },
   "source": [
    "**Task 6 Testing**"
   ]
  },
  {
   "cell_type": "code",
   "execution_count": 287,
   "metadata": {
    "deletable": false,
    "editable": false,
    "nbgrader": {
     "cell_type": "code",
     "checksum": "8527a8f2e79c09d69519059e56c54272",
     "grade": true,
     "grade_id": "cell-abdc4cbe95e9d1da",
     "locked": true,
     "points": 1,
     "schema_version": 3,
     "solution": false,
     "task": false
    }
   },
   "outputs": [],
   "source": [
    "'''T6 Test'''\n",
    "assert isinstance(baseline_acc, float), '`baseline_acc` should be type float. Have you defined the variable?'\n",
    "assert 0.0 <= baseline_acc <= 1.0"
   ]
  },
  {
   "cell_type": "markdown",
   "metadata": {
    "deletable": false,
    "editable": false,
    "nbgrader": {
     "cell_type": "markdown",
     "checksum": "8a0f7eab56c05e92a441333652ccf6cf",
     "grade": false,
     "grade_id": "cell-7d68939c4eced62c",
     "locked": true,
     "schema_version": 3,
     "solution": false,
     "task": false
    }
   },
   "source": [
    "# IV. Build Model\n",
    "\n",
    "In this section, you want to answer the question: Which ensemble method performs better with this data — bagging or boosting?\n",
    "\n",
    "**Task 7:** Build a model that includes a bagging predictor (`RandomForest`). Your predictor should be part of a pipeline named `model_bag` that includes any transformers that you think are necessary."
   ]
  },
  {
   "cell_type": "code",
   "execution_count": 300,
   "metadata": {
    "deletable": false,
    "nbgrader": {
     "cell_type": "code",
     "checksum": "49a48b340c0ee7f9630c3ce57e4ca439",
     "grade": false,
     "grade_id": "cell-889285d53fdbe282",
     "locked": false,
     "schema_version": 3,
     "solution": true,
     "task": false
    }
   },
   "outputs": [],
   "source": [
    "'''T7. Build model with bagging predictor.'''\n",
    "# YOUR CODE HERE\n",
    "\n",
    "# Build a model that includes a bagging predictor\n",
    "model_bag = make_pipeline(OrdinalEncoder(),\n",
    "                          SimpleImputer(strategy='mean'),\n",
    "                          RandomForestClassifier(n_jobs=-1,random_state=42,n_estimators=75))\n",
    "\n",
    "# Fit the model\n",
    "model_bag.fit(X_train, y_train);"
   ]
  },
  {
   "cell_type": "markdown",
   "metadata": {
    "deletable": false,
    "editable": false,
    "nbgrader": {
     "cell_type": "markdown",
     "checksum": "81055fe5d87448fd8e4aff2ca4f10ea0",
     "grade": false,
     "grade_id": "cell-72dac6ede9a13038",
     "locked": true,
     "schema_version": 3,
     "solution": false,
     "task": false
    }
   },
   "source": [
    "**Tast 7 Testing**"
   ]
  },
  {
   "cell_type": "code",
   "execution_count": 301,
   "metadata": {
    "deletable": false,
    "editable": false,
    "nbgrader": {
     "cell_type": "code",
     "checksum": "57725e1ca8a837d8fa761271f994ad44",
     "grade": true,
     "grade_id": "cell-cddc5d7d2170877b",
     "locked": true,
     "points": 1,
     "schema_version": 3,
     "solution": false,
     "task": false
    }
   },
   "outputs": [],
   "source": [
    "'''T7 Testing'''\n",
    "from sklearn.pipeline import Pipeline\n",
    "from sklearn.ensemble import RandomForestClassifier\n",
    "assert isinstance(model_bag, Pipeline), '`model_bag` is the wrong data type. Have you assigned your pipeline to the correct variable name?'\n",
    "assert isinstance(model_bag[-1], RandomForestClassifier), 'Your predictor should be a `RandomForestClassifier`.'\n",
    "assert hasattr(model_bag[-1], 'feature_importances_'), 'Have you trained your model?'"
   ]
  },
  {
   "cell_type": "markdown",
   "metadata": {
    "deletable": false,
    "editable": false,
    "nbgrader": {
     "cell_type": "markdown",
     "checksum": "5e3c031075213c671f8f9b321585e9eb",
     "grade": false,
     "grade_id": "cell-d9750931390fe58f",
     "locked": true,
     "schema_version": 3,
     "solution": false,
     "task": false
    }
   },
   "source": [
    "**Task 8:** Build a model that includes a boosting predictor (`GradientBoostingClassifier` from `sklearn` or `XGBClassifier` from `xgboost`). Your predictor should be part of a pipeline named `model_boost` that includes any transformers that you think are necessary. "
   ]
  },
  {
   "cell_type": "code",
   "execution_count": 302,
   "metadata": {
    "deletable": false,
    "nbgrader": {
     "cell_type": "code",
     "checksum": "a30d11fa6b0d4e143f4572b0baf65afb",
     "grade": false,
     "grade_id": "cell-37f16b5811ae5223",
     "locked": false,
     "schema_version": 3,
     "solution": true,
     "task": false
    }
   },
   "outputs": [],
   "source": [
    "'''T8. Build model with boosting predictor.'''\n",
    "# YOUR CODE HERE\n",
    "\n",
    "# Build a model that includes a boosting predictor\n",
    "model_boost = make_pipeline(OrdinalEncoder(),\n",
    "                            SimpleImputer(strategy='mean'),\n",
    "                            GradientBoostingClassifier(random_state=42,n_estimators=75))\n",
    "\n",
    "# Fit the model\n",
    "model_boost.fit(X_train, y_train);"
   ]
  },
  {
   "cell_type": "markdown",
   "metadata": {
    "deletable": false,
    "editable": false,
    "nbgrader": {
     "cell_type": "markdown",
     "checksum": "64d1c2ff5004fe02082dc204299e0e70",
     "grade": false,
     "grade_id": "cell-3699731f62fa5db3",
     "locked": true,
     "schema_version": 3,
     "solution": false,
     "task": false
    }
   },
   "source": [
    "**Task 8 Testing**"
   ]
  },
  {
   "cell_type": "code",
   "execution_count": 303,
   "metadata": {
    "deletable": false,
    "editable": false,
    "nbgrader": {
     "cell_type": "code",
     "checksum": "35744289b60d1556e064bc09da544566",
     "grade": true,
     "grade_id": "cell-90deb42a1c052402",
     "locked": true,
     "points": 1,
     "schema_version": 3,
     "solution": false,
     "task": false
    }
   },
   "outputs": [],
   "source": [
    "'''T8 Testing'''\n",
    "from xgboost import XGBClassifier\n",
    "from sklearn.ensemble import GradientBoostingClassifier\n",
    "assert isinstance(model_boost, Pipeline), '`model_boost` is the wrong data type. Have you assigned your pipeline to the correct variable name?'\n",
    "assert any([isinstance(model_boost[-1], XGBClassifier),\n",
    "            isinstance(model_boost[-1], GradientBoostingClassifier)]), 'Your predictor should be `XGBClassifier` or `GradientBoostingClassifier`.'"
   ]
  },
  {
   "cell_type": "markdown",
   "metadata": {
    "deletable": false,
    "editable": false,
    "nbgrader": {
     "cell_type": "markdown",
     "checksum": "ebed19854d947c07608d2cb6c356f7ec",
     "grade": false,
     "grade_id": "cell-dc041ac00c805cff",
     "locked": true,
     "schema_version": 3,
     "solution": false,
     "task": false
    }
   },
   "source": [
    "# V. Check Metrics\n",
    "\n",
    "Here are the accuracy scores for your two models. Did you beat the baseline? Which of your two models appears to perform better on your validation set?"
   ]
  },
  {
   "cell_type": "code",
   "execution_count": 304,
   "metadata": {
    "deletable": false,
    "editable": false,
    "nbgrader": {
     "cell_type": "code",
     "checksum": "fc12491c98afa1dd0767422ce0a07b22",
     "grade": false,
     "grade_id": "cell-c0206a761fccab6c",
     "locked": true,
     "schema_version": 3,
     "solution": false,
     "task": false
    }
   },
   "outputs": [
    {
     "name": "stdout",
     "output_type": "stream",
     "text": [
      "Bagging Model\n",
      "Training accuracy: 0.9077629282520859\n",
      "Validation accuracy: 0.6818316978887897\n",
      "\n",
      "Boosting Model\n",
      "Training accuracy: 0.7544648193750448\n",
      "Validation accuracy: 0.7035385072851621\n"
     ]
    }
   ],
   "source": [
    "print('Bagging Model')\n",
    "print('Training accuracy:', model_bag.score(X_train, y_train))\n",
    "print('Validation accuracy:', model_bag.score(X_val, y_val))\n",
    "print()\n",
    "print('Boosting Model')\n",
    "print('Training accuracy:', model_boost.score(X_train, y_train))\n",
    "print('Validation accuracy:', model_boost.score(X_val, y_val))"
   ]
  },
  {
   "cell_type": "markdown",
   "metadata": {
    "deletable": false,
    "editable": false,
    "nbgrader": {
     "cell_type": "markdown",
     "checksum": "044f92b1e1321a290f39d2a3d4f756ed",
     "grade": false,
     "grade_id": "cell-17e8e5433e896bc5",
     "locked": true,
     "schema_version": 3,
     "solution": false,
     "task": false
    }
   },
   "source": [
    "**Task 9 (`stretch_goal`):** Plot the ROC-curve for both of your models (you can plot them one-at-a-time, side-by-side, or in the same plot)."
   ]
  },
  {
   "cell_type": "code",
   "execution_count": 305,
   "metadata": {
    "deletable": false,
    "nbgrader": {
     "cell_type": "code",
     "checksum": "e4a418ccf53481f58016cf1828e973da",
     "grade": false,
     "grade_id": "cell-769e4a780bb22283",
     "locked": false,
     "schema_version": 3,
     "solution": true,
     "task": false
    }
   },
   "outputs": [
    {
     "data": {
      "image/png": "[encoded data removed]",
      "text/plain": [
       "<Figure size 432x288 with 1 Axes>"
      ]
     },
     "metadata": {
      "needs_background": "light"
     },
     "output_type": "display_data"
    }
   ],
   "source": [
    "'''T9. Plot ROC-curve.'''\n",
    "# YOUR CODE HERE\n",
    "\n",
    "# Plot the ROC-curve for both of your models\n",
    "boost=plot_roc_curve(model_boost,X_val,y_val)\n",
    "forest=plot_roc_curve(model_bag,X_val,y_val,ax=boost.ax_)"
   ]
  },
  {
   "cell_type": "markdown",
   "metadata": {
    "deletable": false,
    "editable": false,
    "nbgrader": {
     "cell_type": "markdown",
     "checksum": "c2a7559346e95bf6ecd31e90dcefd3be",
     "grade": false,
     "grade_id": "cell-1b8571c3a6a034f5",
     "locked": true,
     "schema_version": 3,
     "solution": false,
     "task": false
    }
   },
   "source": [
    "**Task 10:** Choose one of your models based on your validation accuracy score or your ROC curves. Then create a classification report for that model using your validation data. Save the text of the report to the variable name `model_cr`. "
   ]
  },
  {
   "cell_type": "code",
   "execution_count": 294,
   "metadata": {
    "deletable": false,
    "nbgrader": {
     "cell_type": "code",
     "checksum": "2ef340cbc8ec53da648b929c0bab96ef",
     "grade": false,
     "grade_id": "cell-49891c4ce9bf5f37",
     "locked": false,
     "schema_version": 3,
     "solution": true,
     "task": false
    }
   },
   "outputs": [
    {
     "name": "stdout",
     "output_type": "stream",
     "text": [
      "              precision    recall  f1-score   support\n",
      "\n",
      "           0       0.70      1.00      0.83      7092\n",
      "           1       0.55      0.01      0.02      2997\n",
      "\n",
      "    accuracy                           0.70     10089\n",
      "   macro avg       0.63      0.50      0.42     10089\n",
      "weighted avg       0.66      0.70      0.59     10089\n",
      "\n"
     ]
    }
   ],
   "source": [
    "'''T10. Generate classification report for one model.'''\n",
    "from sklearn.metrics import classification_report\n",
    "# YOUR CODE HERE\n",
    "\n",
    "# Create a classification report for that model using your validation data\n",
    "model_cr = classification_report(y_val,model_boost.predict(X_val))\n",
    "\n",
    "# Print CR model\n",
    "print(model_cr)"
   ]
  },
  {
   "cell_type": "markdown",
   "metadata": {
    "deletable": false,
    "editable": false,
    "nbgrader": {
     "cell_type": "markdown",
     "checksum": "103296abc9f51aa4b883c35c418275cc",
     "grade": false,
     "grade_id": "cell-7b5374efd0e40c69",
     "locked": true,
     "schema_version": 3,
     "solution": false,
     "task": false
    }
   },
   "source": [
    "**Task 10 Testing**"
   ]
  },
  {
   "cell_type": "code",
   "execution_count": 306,
   "metadata": {
    "deletable": false,
    "editable": false,
    "nbgrader": {
     "cell_type": "code",
     "checksum": "110853de9aaaba37cb2fe601091b1e7d",
     "grade": true,
     "grade_id": "cell-94e04c938f3f5f84",
     "locked": true,
     "points": 1,
     "schema_version": 3,
     "solution": false,
     "task": false
    }
   },
   "outputs": [],
   "source": [
    "assert isinstance(model_cr, str), '`model_cr` should be type `str`.'\n",
    "assert all(term in model_cr for term in ['precision', 'recall', 'f1-score', 'support']), 'Is this a classification report?'"
   ]
  },
  {
   "cell_type": "markdown",
   "metadata": {
    "deletable": false,
    "editable": false,
    "nbgrader": {
     "cell_type": "markdown",
     "checksum": "00449a4317e9b4d383f2ca7d58a2b0af",
     "grade": false,
     "grade_id": "cell-d2b4843352d3085a",
     "locked": true,
     "schema_version": 3,
     "solution": false,
     "task": false
    }
   },
   "source": [
    "**Task 11:** Using your best model, create a DataFrame `permutation_importances` with the model's permutation importances based on your validation data.\n",
    "\n",
    "- The index of the DataFrame should be your feature names.\n",
    "- The first column should be the mean importance.\n",
    "- The second column should be the importance standard deviation."
   ]
  },
  {
   "cell_type": "code",
   "execution_count": 297,
   "metadata": {
    "deletable": false,
    "nbgrader": {
     "cell_type": "code",
     "checksum": "f8e984b2a5083b74b7eb0abec46f8d63",
     "grade": false,
     "grade_id": "cell-72936eec6980072b",
     "locked": false,
     "schema_version": 3,
     "solution": true,
     "task": false
    }
   },
   "outputs": [
    {
     "data": {
      "text/html": [
       "<div>\n",
       "<style scoped>\n",
       "    .dataframe tbody tr th:only-of-type {\n",
       "        vertical-align: middle;\n",
       "    }\n",
       "\n",
       "    .dataframe tbody tr th {\n",
       "        vertical-align: top;\n",
       "    }\n",
       "\n",
       "    .dataframe thead th {\n",
       "        text-align: right;\n",
       "    }\n",
       "</style>\n",
       "<table border=\"1\" class=\"dataframe\">\n",
       "  <thead>\n",
       "    <tr style=\"text-align: right;\">\n",
       "      <th></th>\n",
       "      <th>Imp_mean</th>\n",
       "      <th>Imp_std</th>\n",
       "    </tr>\n",
       "  </thead>\n",
       "  <tbody>\n",
       "    <tr>\n",
       "      <th>Inspection_Type</th>\n",
       "      <td>0.000872</td>\n",
       "      <td>0.000441</td>\n",
       "    </tr>\n",
       "    <tr>\n",
       "      <th>Facility_Type</th>\n",
       "      <td>0.000833</td>\n",
       "      <td>0.000184</td>\n",
       "    </tr>\n",
       "    <tr>\n",
       "      <th>Risk</th>\n",
       "      <td>0.000634</td>\n",
       "      <td>0.000231</td>\n",
       "    </tr>\n",
       "    <tr>\n",
       "      <th>Latitude</th>\n",
       "      <td>0.000575</td>\n",
       "      <td>0.000334</td>\n",
       "    </tr>\n",
       "    <tr>\n",
       "      <th>Zip</th>\n",
       "      <td>0.000238</td>\n",
       "      <td>0.000577</td>\n",
       "    </tr>\n",
       "    <tr>\n",
       "      <th>City</th>\n",
       "      <td>0.000020</td>\n",
       "      <td>0.000040</td>\n",
       "    </tr>\n",
       "    <tr>\n",
       "      <th>Longitude</th>\n",
       "      <td>-0.000040</td>\n",
       "      <td>0.000484</td>\n",
       "    </tr>\n",
       "  </tbody>\n",
       "</table>\n",
       "</div>"
      ],
      "text/plain": [
       "                 Imp_mean   Imp_std\n",
       "Inspection_Type  0.000872  0.000441\n",
       "Facility_Type    0.000833  0.000184\n",
       "Risk             0.000634  0.000231\n",
       "Latitude         0.000575  0.000334\n",
       "Zip              0.000238  0.000577\n",
       "City             0.000020  0.000040\n",
       "Longitude       -0.000040  0.000484"
      ]
     },
     "execution_count": 297,
     "metadata": {},
     "output_type": "execute_result"
    }
   ],
   "source": [
    "'''T11. Create DataFrame of permutation importances.'''\n",
    "# YOUR CODE HERE\n",
    "\n",
    "# Calculate permutation importances from the boosted model\n",
    "permutation_imp = permutation_importance(model_boost,X_val,y_val,random_state=42)\n",
    "\n",
    "# Create Permutation importance dict\n",
    "data_permuation = {'Imp_mean':permutation_imp['importances_mean'],\n",
    "                   'Imp_std':permutation_imp['importances_std']}\n",
    "\n",
    "# Assign the Permutaiton importances to a dataframe\n",
    "permutation_importances =pd.DataFrame(data_permuation,index=X_val.columns).sort_values('Imp_mean',ascending=False)\n",
    "\n",
    "# Check dataframe\n",
    "permutation_importances"
   ]
  },
  {
   "cell_type": "markdown",
   "metadata": {
    "deletable": false,
    "editable": false,
    "nbgrader": {
     "cell_type": "markdown",
     "checksum": "dccb1015d0f5c2f8b23f780eb8e4abf7",
     "grade": false,
     "grade_id": "cell-9eb949d189e401bc",
     "locked": true,
     "schema_version": 3,
     "solution": false,
     "task": false
    }
   },
   "source": [
    "**Task 11 Testing**"
   ]
  },
  {
   "cell_type": "code",
   "execution_count": 298,
   "metadata": {
    "deletable": false,
    "editable": false,
    "nbgrader": {
     "cell_type": "code",
     "checksum": "d84e55cd6e77a52c576972ab68477c90",
     "grade": true,
     "grade_id": "cell-a4d8990e7070c2dd",
     "locked": true,
     "points": 1,
     "schema_version": 3,
     "solution": false,
     "task": false
    }
   },
   "outputs": [],
   "source": [
    "'''Task 11 Test'''\n",
    "assert isinstance(permutation_importances, pd.DataFrame), '`permutation_importances` should be type `DataFrame`.'\n",
    "assert permutation_importances.shape == (7,2)"
   ]
  },
  {
   "cell_type": "markdown",
   "metadata": {
    "deletable": false,
    "editable": false,
    "nbgrader": {
     "cell_type": "markdown",
     "checksum": "f005618a5eb29cde9fbc73ab717b0e1c",
     "grade": false,
     "grade_id": "cell-3d8938c1715a596d",
     "locked": true,
     "schema_version": 3,
     "solution": false,
     "task": false
    }
   },
   "source": [
    "**Task 12 (`stretch goal`):** Using your best model, create a PDP interaction plot to examine how `'Latitude'` and `'Longitude'` inform predictions. Remember to user your validation data.\n",
    "\n",
    "**Note:** Because of the way that `pdp_interact` works, it will throw an error if there are `NaN` values in your validation set. To avoid this problem, be sure to set `dataset` to `X_val.dropna()`."
   ]
  },
  {
   "cell_type": "code",
   "execution_count": 307,
   "metadata": {
    "deletable": false,
    "nbgrader": {
     "cell_type": "code",
     "checksum": "ea5a8422d2efafe17ee63a77c5db1e41",
     "grade": false,
     "grade_id": "cell-224d3b408f9bdd88",
     "locked": false,
     "schema_version": 3,
     "solution": true,
     "task": false
    }
   },
   "outputs": [
    {
     "data": {
      "image/png": "[encoded data removed]",
      "text/plain": [
       "<Figure size 540x684 with 3 Axes>"
      ]
     },
     "metadata": {
      "needs_background": "light"
     },
     "output_type": "display_data"
    }
   ],
   "source": [
    "'''T12. Create PDP interaction plot for \"Latitude\" and \"Longitude\".'''\n",
    "\n",
    "# YOUR CODE HERE\n",
    "\n",
    "# Assign Features\n",
    "features = ['Longitude', 'Latitude']\n",
    "\n",
    "# Assign Interact\n",
    "interact=pdp_interact(model_boost,dataset=X_val.dropna(),model_features=X_val.columns,features=features)\n",
    "\n",
    "# Plot\n",
    "pdp_interact_plot(interact,plot_type='grid',feature_names=features);"
   ]
  },
  {
   "cell_type": "markdown",
   "metadata": {
    "deletable": false,
    "editable": false,
    "nbgrader": {
     "cell_type": "markdown",
     "checksum": "ea11277dc1543cb3a51dc7cf050af8a9",
     "grade": false,
     "grade_id": "cell-60908df556f5057e",
     "locked": true,
     "schema_version": 3,
     "solution": false,
     "task": false
    }
   },
   "source": [
    "What do you think? Is there a relationship between location and failing a food saftey inspection?"
   ]
  },
  {
   "cell_type": "markdown",
   "metadata": {},
   "source": [
    "Yes, there seems to be a correlation between location and failing food saftey inspections."
   ]
  }
 ],
 "metadata": {
  "kernelspec": {
   "display_name": "Python 3",
   "language": "python",
   "name": "python3"
  },
  "language_info": {
   "codemirror_mode": {
    "name": "ipython",
    "version": 3
   },
   "file_extension": ".py",
   "mimetype": "text/x-python",
   "name": "python",
   "nbconvert_exporter": "python",
   "pygments_lexer": "ipython3",
   "version": "3.8.8"
  }
 },
 "nbformat": 4,
 "nbformat_minor": 4
}
